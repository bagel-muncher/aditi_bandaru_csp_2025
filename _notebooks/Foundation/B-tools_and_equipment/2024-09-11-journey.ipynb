{
 "cells": [
  {
   "cell_type": "markdown",
   "metadata": {},
   "source": [
    "# CSP Journey"
   ]
  },
  {
   "cell_type": "markdown",
   "metadata": {},
   "source": [
    "## Sprint 1 \n"
   ]
  },
  {
   "cell_type": "code",
   "execution_count": null,
   "metadata": {
    "vscode": {
     "languageId": "html"
    }
   },
   "outputs": [],
   "source": [
    "<p>In this sprint there were a lot of tools and testing that I had to setup. That took a couple of days, but most of it worked out. I still need to get the hang of juptyer notebooks.\n",
    "     I worked with my partner to develop a blog within our pages and we decided to make a blog about movies. I initially struggled with how to make the submenu, but with the help of my tablemates I was able to create some pages. \n",
    "    I figured out how to link buttons to other pages, but my images weren't showing up. After looking at the successful code of images on the given template, I realized I had to \n",
    "add the site.baseurl tag before the image's path.</p>\n",
    "<p>When doing my commits, I noticed that my commits were syncing but they were failing.</p>"
   ]
  }
 ],
 "metadata": {
  "kernelspec": {
   "display_name": "venv",
   "language": "python",
   "name": "python3"
  },
  "language_info": {
   "name": "python",
   "version": "3.12.3"
  }
 },
 "nbformat": 4,
 "nbformat_minor": 2
}
