{
 "cells": [
  {
   "cell_type": "markdown",
   "metadata": {},
   "source": [
    "---\n",
    "toc: true\n",
    "comments: false\n",
    "layout: post\n",
    "title: Big Ideas 1 - Page Turners \n",
    "description: Big Idea 1 requirements in the random book generator of The Bookworms\n",
    "permalink: _posts/Foundation/big_ideas_4/2024-12-16-sprint4-bigidea1-video_IPYNB_2_\n",
    "categories: [GitHub Pages]\n",
    "type: ccc\n",
    "---"
   ]
  },
  {
   "cell_type": "markdown",
   "metadata": {},
   "source": [
    "## User Story\n",
    "<p>Sometimes, I run out of books to read and am not sure where to start again. This random book recommender will give me some ideas of what to read. I want a page that allows users to select a genre and recieve a random book recommendation. They can select a from the genres of nonfiction, historical fiction, suspense/thriller, fantasy, romance, dystopian, classics, or mystery, and will be able to generate multiple random books. Each generated book comes with the title, author, book cover, and short summary. If the user likes the book, they can add it to their list of books to read. If they don’t like their book recommendation they have the option to restart the process and get a different book.</p>\n",
    "<br>\n",
    "<p><strong>Current Status: The user can generate a random book and restart the process. However, the \"save for later\"/wishlist option hasn't been created yet.</strong></p>\n",
    "<br>\n",
    "<p>This is what the intial plan for the random book generator looks like:</p>\n",
    "<img src=\"{{site.baseurl}}/images/notebooks/sprint_4/book reccommender.png\">"
   ]
  },
  {
   "cell_type": "markdown",
   "metadata": {},
   "source": [
    "## Functions and Their Purpose in Page Turners\n",
    "<p>This is the starting page of Page Turners:</p>\n",
    "<br>\n",
    "<img src=\"{{site.baseurl}}/images/notebooks/sprint_4/bookrec_starting.png\">\n",
    "<br>\n",
    "<p>Below are different sections of code in the Page Turners section of Bookworms that fit in the requirements of Big Idea 1.</p>"
   ]
  },
  {
   "cell_type": "markdown",
   "metadata": {},
   "source": [
    "### Program with Input and Output\n",
    "<p>When a user clicks on the dropdown menu, they can select a genre from the list to get a random book from:</p>\n",
    "<img src=\"{{site.baseurl}}/images/notebooks/sprint_4/bookrec_dropdown.png\">\n",
    "<br>\n",
    "<p>This is the frontend code for the dropdown menu in Javascript. The user's input is selecting a genre from the dropdown menu and then clicking the button \"Get A Book!\" which is connected to the function \"getRandomBook()\".</p>"
   ]
  },
  {
   "cell_type": "code",
   "execution_count": null,
   "metadata": {
    "vscode": {
     "languageId": "javascript"
    }
   },
   "outputs": [],
   "source": [
    "//Javascript code\n",
    "//INPUT function\n",
    "function getRandomBook() {\n",
    "    //Get the selected genre from the dropdown\n",
    "    //const genre = document.getElementById(\"genre\").value;\n",
    "    const genreKey = document.getElementById(\"genre\").value;\n",
    "    const query = genreMap[genreKey] || \"fiction\"; // Fallback to \"fiction\" if genre not mapped\n",
    "    //Build the API URL with the selected genre as a query parameter\n",
    "    const apiUrl = `http://127.0.0.1:8887/api/random_book?genre=${encodeURIComponent(query)}`;\n",
    "    //Fetch data from the backend API (the API that connects to our books database in backend)\n",
    "    fetch(apiUrl) // Flask server endpoint\n",
    "        .then((response) => {\n",
    "                if (!response.ok) {\n",
    "                    throw new Error('No books found for the selected genre.');\n",
    "                }\n",
    "                return response.json();\n",
    "        })\n",
    "        .then((book) => {\n",
    "            displayBook(book); // Display the book details on the page\n",
    "        })\n",
    "        .catch((error) => { // A catch statement handles any error during execution\n",
    "            console.error(\"Error fetching data:\", error);\n",
    "            alert(\"An error occurred while fetching the book. Please try again.\");\n",
    "        });\n",
    "    }\n",
    "//OUTPUT - displays the randomly generated book\n",
    "function displayBook(book) {\n",
    "    const { title, author, description, image_cover } = book;\n",
    "    // Update the DOM (Document Object Model) with book details\n",
    "    document.getElementById(\"book_title\").innerText = title;\n",
    "    document.getElementById(\"book_author\").innerText = `By: ${author}`;\n",
    "    document.getElementById(\"book_description\").innerText = description;\n",
    "    // Book cover display\n",
    "    document.getElementById(\"book_cover\").src = image_cover;\n",
    "    document.getElementById(\"book_cover\").style.display = image_cover ? \"block\" : \"none\";      \n",
    "    // Hide the genre selection and show the book details\n",
    "    document.getElementById(\"genre_selection\").style.display = \"none\";\n",
    "    document.getElementById(\"book_display\").style.display = \"block\";\n",
    "}\n"
   ]
  },
  {
   "cell_type": "markdown",
   "metadata": {},
   "source": [
    "<p>The output of clicking \"Get a Book!\" (with the genre input) looks like this:</p>\n",
    "<br>\n",
    "<img src=\"{{site.baseurl}}/images/notebooks/sprint_4/bookrec_output.png\">"
   ]
  },
  {
   "cell_type": "markdown",
   "metadata": {},
   "source": [
    "### Program with a List\n",
    "<p>The lists exist in backend in the bookrec.py and booksdb.py files.</p>"
   ]
  },
  {
   "cell_type": "code",
   "execution_count": null,
   "metadata": {},
   "outputs": [],
   "source": [
    "def get_random_book(genre=None):\n",
    "    conn = sqlite3.connect('books.db')\n",
    "    #books.db is the name of our database of books\n",
    "    cursor = conn.cursor()\n",
    "    #cursor.execute(\"SELECT * FROM books\")\n",
    "    #books = cursor.fetchall()\n",
    "    #conn.close()\n",
    "\n",
    "    if genre:\n",
    "        #Filter books by genre\n",
    "        cursor.execute(\"SELECT * FROM books WHERE LOWER(genre) = ?\", (genre.lower(),))\n",
    "    else:\n",
    "        #Fetch all books if no genre is provided\n",
    "        cursor.execute(\"SELECT * FROM books\")\n",
    "    \n",
    "    books = cursor.fetchall()\n",
    "    conn.close()\n",
    "\n",
    "    #Debug log: Print retrived book\n",
    "    print(f\"Books retrieved for genre '{genre}': {books}\")\n",
    "\n",
    "    # Pick a random book\n",
    "    return random.choice(books) if books else None\n",
    "#fetchall() retrieves all rows returned by the SQL query as a list of tuples.\n",
    "#Each tuple represents one row in the database, where each element in the tuple corresponds to a column value.\n",
    "#This is what part of the list of tuples looks like for \"books\":\n",
    "\n",
    "[\n",
    "    (6, \"A Game of Thrones\", \"George R.R. Martin\", \"Fantasy\", \"Sweeping from a harsh land of cold to a summertime kingdom of epicurean plenty, A Game of Thrones tells a tale of lords and ladies, soldiers and sorcerers, assassins and bastards, who come together in a time of grim omens. Here an enigmatic band of warriors bear swords of no human metal; a tribe of fierce wildlings carry men off into madness; a cruel young dragon prince barters his sister to win back his throne; a child is lost in the twilight between life and death; and a determined woman undertakes a treacherous journey to protect all she holds dear. Amid plots and counter-plots, tragedy and betrayal, victory and terror, allies and enemies, the fate of the Starks hangs perilously in the balance, as each side endeavors to win that deadliest of conflicts: the game of thrones.\", \"https://m.media-amazon.com/images/I/81CiRBnk8VL.jpg\")\n",
    "    (7, \"The Hobbit\", \"J.R.R. Tolkien\", \"Fantasy\", \"Bilbo Baggins, a reluctant and comfort-loving hobbit, is swept into an epic adventure when he joins a company of thirteen dwarves and the wizard Gandalf. Their quest is to reclaim the dwarves’ lost kingdom and treasure from the fearsome dragon Smaug. Along the journey, Bilbo encounters trolls, goblins, giant spiders, and a mysterious creature named Gollum, from whom he obtains a magical ring with the power of invisibility. Bilbo’s courage and resourcefulness grow as he faces challenges, ultimately playing a crucial role in their mission.\", \"https://m.media-amazon.com/images/I/81hylMcxa3L._AC_UF1000,1000_QL80_.jpg\")\n",
    "]\n",
    "\n",
    "#random.choice(books): Here, the books list is used as input to the random.choice() function, which randomly selects one item (tuple) from the list."
   ]
  },
  {
   "cell_type": "markdown",
   "metadata": {},
   "source": [
    "### Program with a Dictionary\n",
    "<p>In JavaScript, dictionaries are represented as objects. An object consists of key-value pairs, where Keys act as identifiers (similar to dictionary keys in Python) and the Values are associated data.</p>\n",
    "<p>Keys: nonfiction, historical_fiction, suspense_thriller, etc.<br>\n",
    "Values: \"Nonfiction\", \"Historical Fiction\", \"Suspense/Thriller\", etc.</p>"
   ]
  },
  {
   "cell_type": "code",
   "execution_count": null,
   "metadata": {
    "vscode": {
     "languageId": "javascript"
    }
   },
   "outputs": [],
   "source": [
    "//Javascript code\n",
    "//The genreMap object maps the dropdown values (nonfiction, historical_fiction, etc.) to terms recognized by the bookdb API (e.g., \"Nonfiction\", \"Suspense/Thriller\").\n",
    "const genreMap = {\n",
    "    nonfiction: \"Nonfiction\",\n",
    "    historical_fiction: \"Historical Fiction\",\n",
    "    suspense_thriller: \"Suspense/Thriller\",\n",
    "    fantasy: \"Fantasy\",\n",
    "    romance: \"Romance\",\n",
    "    dystopian: \"Dystopian\",\n",
    "    classic: \"Classics\",\n",
    "    mystery: \"Mystery\"\n",
    "}"
   ]
  },
  {
   "cell_type": "markdown",
   "metadata": {},
   "source": [
    "### Program with Iteration\n",
    "<p>I don't have code with iteration yet. I will work on adding this during the 3rd code cycle.</p>"
   ]
  },
  {
   "cell_type": "markdown",
   "metadata": {},
   "source": [
    "### Program with a Function to perform mathematical and/or statistical calculations\n",
    "<p>Before creating backend code for Page Turners, I used Javascript to randomly select a book based on an inputted genre from the Google Books API. \n",
    "In order to get certain books (random books based on the genre inputted), I hade to code for mathematical calculations to get the program to pick a random number which has an associated book. <strong>We're not using this piece of code right now, but I've saved it in case we can use it for something else in the future.</strong></p>"
   ]
  },
  {
   "cell_type": "code",
   "execution_count": null,
   "metadata": {
    "vscode": {
     "languageId": "javascript"
    }
   },
   "outputs": [],
   "source": [
    "function getRandomBook() {\n",
    "    // Get the selected genre from the dropdown menu\n",
    "    const genreKey = document.getElementById(\"genre\").value;\n",
    "\n",
    "    // Map the selected genre key to a query string using genreMap\n",
    "    // If no match is found, fallback to the \"fiction\" genre\n",
    "    const query = genreMap[genreKey] || \"fiction\";\n",
    "\n",
    "    // Fetch books related to the selected genre from the Google Books API\n",
    "    fetch(`https://www.googleapis.com/books/v1/volumes?q=subject:${query}`)\n",
    "        .then(response => response.json()) // Parse the API response as JSON\n",
    "        .then(data => {\n",
    "            // Check if the API response contains book items and the array is not empty\n",
    "            if (data.items && data.items.length > 0) {\n",
    "                /*\n",
    "                  Pick a random book from the results:\n",
    "                  - Math.random() generates a random decimal between 0 (inclusive) and 1 (exclusive).\n",
    "                  - Multiplying by data.items.length scales this value to the range of indices in the items array.\n",
    "                  - Math.floor() rounds the result down to the nearest whole number.\n",
    "                  - The final value, randomIndex, is a valid index within the data.items array.\n",
    "                */\n",
    "                const randomIndex = Math.floor(Math.random() * data.items.length);\n",
    "\n",
    "                // Select the random book from the API results using the generated random index\n",
    "                const book = data.items[randomIndex];\n",
    "\n",
    "                // Display the selected book's details\n",
    "                displayBook(book);\n",
    "            } else {\n",
    "                // Alert the user if no books are found for the selected genre\n",
    "                alert(\"No books found for this genre. Please try another genre.\");\n",
    "            }\n",
    "        })\n",
    "        .catch(error => {\n",
    "            // Handle errors that occur during the fetch request\n",
    "            console.error(\"Error fetching book data:\", error);\n",
    "            alert(\"An error occurred while fetching books. Please try again.\");\n",
    "        });\n",
    "}\n"
   ]
  },
  {
   "cell_type": "markdown",
   "metadata": {},
   "source": [
    "### Program with a Selection/Condition\n",
    "<p>In the backend bookrec.py file, there is a if-else conditional. The conditional if-else statement is based on whether the genre variable is None (absent or null value) or not. The purpose of this block of code is to check if a genre parameter is provided. If genre is provided, it fetches books from the database filtered by the specified genre. If genre is not provided, it fetches all books in the database.\n",
    "</p>"
   ]
  },
  {
   "cell_type": "code",
   "execution_count": null,
   "metadata": {},
   "outputs": [],
   "source": [
    "if genre:\n",
    "    # Filter books by genre\n",
    "    cursor.execute(\"SELECT * FROM books WHERE LOWER(genre) = ?\", (genre.lower(),)) # genre values are lowercase\n",
    "else:\n",
    "    # Fetch all books if no genre is provided\n",
    "    cursor.execute(\"SELECT * FROM books\")"
   ]
  },
  {
   "cell_type": "markdown",
   "metadata": {},
   "source": [
    "### Program with Purpose\n",
    "<p>Page Turners (the book recommender program) aims to fetch and recommend a random book based on a selected genre (by the user) using an API or database.\n",
    "The backend's purpose is to handle user requests for book recommendations from the frontend and return data (a random book) based on genre input. Some examples of functions relating to the \"randomized\" aspect of this program are:\n",
    "    <ul>\n",
    "    <li>get_random_book(genre=None): to query the database and fetch a book that matches the given genre (or fetch all books if no genre is provided).</li>\n",
    "    <li>random.choice(books): to randomly select one book from the list of books retrieved from the database.</li></ul>\n",
    "</p>"
   ]
  },
  {
   "cell_type": "raw",
   "metadata": {},
   "source": [
    "from flask import Flask, jsonify, request, Blueprint\n",
    "from flask_restful import Api, Resource\n",
    "from flask_sqlalchemy import SQLAlchemy\n",
    "from __init__ import app, db \n",
    "import random\n",
    "import time\n",
    "\n",
    "bookrec_api = Blueprint('bookrec_api', __name__,\n",
    "                   url_prefix='/api')\n",
    "\n",
    "# API docs https://flask-restful.readthedocs.io/en/latest/ <-- just for reference\n",
    "api = Api(bookrec_api)\n",
    "\n",
    "# Define the Book model\n",
    "class Book(db.Model):\n",
    "    id = db.Column(db.Integer, primary_key=True)\n",
    "    title = db.Column(db.String(100))\n",
    "    author = db.Column(db.String(100))\n",
    "    genre = db.Column(db.String(50))\n",
    "    description = db.Column(db.String(500))\n",
    "    cover_image_url = db.Column(db.String(200))\n",
    "\n",
    "    def to_dict(self):\n",
    "        return {\n",
    "            'title': self.title,\n",
    "            'author': self.author,\n",
    "            'description': self.description,\n",
    "            'cover_image_url': self.cover_image_url\n",
    "        }\n",
    "\n",
    "# Helper function to get a random book from the database filtered by genre\n",
    "def get_random_book(genre=None):\n",
    "    if genre:\n",
    "        books = Book.query.filter(Book.genre.ilike(f'%{genre}%')).all()\n",
    "    else:\n",
    "        books = Book.query.all()\n",
    "    \n",
    "    print(f\"Books retrieved for genre '{genre}': {books}\")  # Debug log\n",
    "\n",
    "    return random.choice(books) if books else None\n",
    "\n",
    "# Endpoint to get a random book\n",
    "@bookrec_api.route('/random_bookrec', methods=['GET'])\n",
    "def random_bookrec():\n",
    "    genre = request.args.get('genre')  # Get the 'genre' parameter from the request\n",
    "    print(f\"Received genre: {genre}\")  # Debug log\n",
    "    \n",
    "    while True:\n",
    "        book = get_random_book(genre)\n",
    "        if book:\n",
    "            return jsonify(book.to_dict())\n",
    "        else:\n",
    "            print(\"No books found, retrying in 5 seconds...\")\n",
    "            time.sleep(5)\n",
    "\n",
    "if __name__ == '__main__':\n",
    "    # Register the Blueprint with the app\n",
    "    app.register_blueprint(bookrec_api)\n",
    "\n",
    "    # Only create tables if they do not exist\n",
    "    with app.app_context():\n",
    "        db.create_all()\n",
    "    \n",
    "    app.run(debug=True, host='0.0.0.0', port=5003)"
   ]
  }
 ],
 "metadata": {
  "language_info": {
   "name": "python"
  }
 },
 "nbformat": 4,
 "nbformat_minor": 2
}
