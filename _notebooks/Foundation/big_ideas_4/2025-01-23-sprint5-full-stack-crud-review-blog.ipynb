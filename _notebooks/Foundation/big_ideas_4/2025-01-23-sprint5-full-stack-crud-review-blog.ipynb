{
 "cells": [
  {
   "cell_type": "raw",
   "metadata": {
    "vscode": {
     "languageId": "raw"
    }
   },
   "source": [
    "---\n",
    "toc: true\n",
    "layout: post\n",
    "title: Sprint 5 Full Stack and CRUD Review\n",
    "description: Culmination of what I've worked on so far in Tri 2\n",
    "permalink: /_posts/Foundation/big_ideas_4/2025-01-08-student-panel-blog-post_IPYNB_2_\n",
    "categories: [GitHub Pages]\n",
    "type: ccc\n",
    "---"
   ]
  },
  {
   "cell_type": "markdown",
   "metadata": {},
   "source": [
    "# Sprint 5 Full Stack and CRUD Review"
   ]
  },
  {
   "cell_type": "markdown",
   "metadata": {},
   "source": [
    "## Introduction\n",
    "Our group decided to make a book review site where users can talk about and interact with books while exploring new suggestions for what to read. We chose this for our group project due to our shared interest in reading.\n",
    "<br>\n",
    "<br>\n",
    "My individual feature is a random book generator where users get random suggestions for what to read next base don the genre they selected. When a user inputs a genre, the random suggestion they recieve is displayed with the book's author, title, short summary, and book cover image. I'm currently working on adding a sub-feature where users can add more books (as suggestions) into the random book generator so other users can get a book reccomendation from a bigger database. I haven't connected this \"adding book reccomendations\" feature to the main database and it has it's own table in backend. \n",
    "\n"
   ]
  },
  {
   "cell_type": "markdown",
   "metadata": {},
   "source": [
    "## Input/Output requests"
   ]
  },
  {
   "cell_type": "code",
   "execution_count": null,
   "metadata": {},
   "outputs": [],
   "source": [
    "#The frontend demo above connects to this section of the bookrec API:\n",
    "@bookrec_api.route(\"/add_bookrec\", methods=['POST']) # This is the endpoint to add a book to the savebookrec table\n",
    "def add_book():\n",
    "    data = request.get_json() # Get the data from the request\n",
    "    title = data.get('title') \n",
    "    author = data.get('author')\n",
    "    genre = data.get('genre')\n",
    "    description = data.get('description')\n",
    "    cover_image_url = data.get('cover_image_url') \n",
    "\n",
    "    if not title or not author:\n",
    "        return jsonify({\"error\": \"Title and author are required\"}), 400\n",
    "\n",
    "    new_book = SaveBookRec( # Create a new book object\n",
    "        title=title,\n",
    "        author=author,\n",
    "        genre=genre,\n",
    "        description=description,\n",
    "        cover_image_url=cover_image_url\n",
    "    )\n",
    "\n",
    "    db.session.add(new_book) # Add the new book to the savebookrec table\n",
    "    db.session.commit() # Commit the changes to the database\n",
    "    \n",
    "    return jsonify({\"message\": \"Book added successfully\"}), 201"
   ]
  },
  {
   "cell_type": "markdown",
   "metadata": {},
   "source": [
    "### Frontend - API request and response demo\n",
    "This is demonstration of a user adding a new book reccomendation to my feature through the frontend. This is what the page looks like at first:\n",
    "<br>\n",
    "<img src=\"{{site.baseurl}}/images/notebooks/sprint_5_live_review/bookrec_start_page.png\">\n",
    "<br>\n",
    "The form to add a new book appears when the user clicks the \"Add a New Book Reccomendation\" button:\n",
    "<br>\n",
    "<img src=\"{{site.baseurl}}/images/notebooks/sprint_5_live_review/add_bookrec_empty_form.png\">\n",
    "<br>\n",
    "This is the filled out form (Each input box is required):\n",
    "<br>\n",
    "<img src=\"{{site.baseurl}}/images/notebooks/sprint_5_live_review/filled_bookrec_form.png\">\n",
    "<br>\n",
    "Once the user has filled out the form and has clicked the \"Done\" button, a console message appears to confirm that their form has been added to the backend table:\n",
    "<br>\n",
    "<img src=\"{{site.baseurl}}/images/notebooks/sprint_5_live_review/bookrec_form_done.png\">\n",
    "<br>\n",
    "After clicking \"Done\", the new book appears in the backend table (number 3):\n",
    "<br>\n",
    "<img src=\"{{site.baseurl}}/images/notebooks/sprint_5_live_review/backend_bookrec_added.png\">\n",
    "<br>"
   ]
  },
  {
   "cell_type": "markdown",
   "metadata": {},
   "source": [
    "### Postman - raw API request\n",
    "This is the POST method of bookrec API being tested through Postman.\n",
    "<img src=\"{{site.baseurl}}/images/notebooks/sprint_5_live_review/postman_addbookrec.png\"> \n",
    "<br>\n",
    "This is the backend table with the newly added book\n",
    "<img src=\"{{site.baseurl}}/images/notebooks/sprint_5_live_review/postman_addbook_backend.png\"> "
   ]
  },
  {
   "cell_type": "markdown",
   "metadata": {},
   "source": [
    "## List requests\n",
    "\n",
    "### Formatting responsa data (JSON) from API to DOM\n",
    "To format response data (JSON) from an API into the DOM, follow these steps:\n",
    "<ol>\n",
    "    <li>make an API Request: Use JavaScript to make a request to the API endpoint.</li>\n",
    "    <li>Handle the Response: Process the JSON response from the API. </li>\n",
    "    <li>Update the DOM: Use JavaScript to update the DOM with the data from the response. </li>\n",
    "</ol>\n",
    "Here is an example of this method using JavaScript and Python:"
   ]
  },
  {
   "cell_type": "code",
   "execution_count": null,
   "metadata": {},
   "outputs": [],
   "source": [
    "#The provided Python code defines an API endpoint that returns a random book recommendation in JSON format.\n",
    "@bookrec_api.route('/random_bookrec', methods=['GET'])\n",
    "def random_bookrec():\n",
    "    genre = request.args.get('genre')  # Get the 'genre' parameter from the request \n",
    "    #print(f\"Received genre: {genre}\")  # Debug log\n",
    "    \n",
    "    while True: # Loop until a book is found \n",
    "        book = get_random_bookrec(genre)\n",
    "        if book:\n",
    "            return jsonify({\n",
    "                'title': book.title,\n",
    "                'author': book.author,\n",
    "                'description': book.description,\n",
    "                'image_cover': book.cover_image_url\n",
    "            })\n",
    "        else: # Retry if no books are found in the database for the requested genre\n",
    "            return jsonify({\"error\": \"No books found, retrying in 5 seconds...\"}), 404"
   ]
  },
  {
   "cell_type": "code",
   "execution_count": null,
   "metadata": {},
   "outputs": [],
   "source": [
    "%%js \n",
    "//The JavaScript code makes a request to the API endpoint and updates the DOM with the response data.\n",
    " function displayBook(book) {\n",
    "        const { title, author, description, image_cover } = book;\n",
    "        // Update the DOM (Document Object Model) with book details\n",
    "        document.getElementById(\"book_title\").innerText = title;\n",
    "        document.getElementById(\"book_author\").innerText = `By: ${author}`;\n",
    "        document.getElementById(\"book_description\").innerText = description;\n",
    "        // Book cover display\n",
    "        document.getElementById(\"book_cover\").src = image_cover;\n",
    "        document.getElementById(\"book_cover\").style.display = image_cover ? \"block\" : \"none\";      \n",
    "        // Hide the genre selection and show the book details\n",
    "        document.getElementById(\"genre_selection\").style.display = \"none\";\n",
    "        document.getElementById(\"book_display\").style.display = \"block\";"
   ]
  },
  {
   "cell_type": "markdown",
   "metadata": {},
   "source": [
    "API Request: The JavaScript code uses the fetch function to make a GET request to the /random_bookrec endpoint with a specified genre.\n",
    "<br>\n",
    "Handle the Response: The response is converted to JSON using response.json(). If the response contains an error, it is logged to the console and displayed in the DOM. Otherwise, the book information is extracted from the response.\n",
    "<br>\n",
    "Update the DOM: The book information (title, author, description, and cover image) is formatted into HTML and inserted into an element with the ID book-info."
   ]
  },
  {
   "cell_type": "markdown",
   "metadata": {},
   "source": [
    "### Queries from the Database (extraction)"
   ]
  },
  {
   "cell_type": "markdown",
   "metadata": {},
   "source": [
    "A query is a request for data or information from a database. It is used to retrieve, insert, update, or delete data stored in a database. In context of the provided code, queries are used to interact with the database through SQLAlchemy, a third-party library that provides an ORM (Object-Relational Mapping) for Python. We used SQLAlchemy to create a books database which my API interacts with. "
   ]
  },
  {
   "cell_type": "code",
   "execution_count": null,
   "metadata": {},
   "outputs": [],
   "source": [
    "# Read a single book recommendation by ID\n",
    "@bookrec_api.route(\"/get_bookrec/<int:id>\", methods=['GET']) # after the get_bookrec/ enter the id number (USE 1 or 2) of the book you want to get\n",
    "def get_book(id):\n",
    "    book = SaveBookRec.query.get(id) \n",
    "    #This translates to an SQL SELECT query to fetch a book record by its ID from the savebookrec table.\n",
    "\n",
    "    if not book:\n",
    "        return jsonify({\"error\": \"Book not found\"}), 404\n",
    "\n",
    "    return jsonify(book.read()), 200"
   ]
  },
  {
   "cell_type": "markdown",
   "metadata": {},
   "source": [
    "### CRUD Methods (\"class\")"
   ]
  },
  {
   "cell_type": "markdown",
   "metadata": {},
   "source": [
    "Create Method: The add_book function is responsible for creating a new book recommendation. It takes in a POST request in the endpoint /add_bookrec with JSON data containing the title, author, genre, summary, and image cover of the book. The function extracts data from the incoming JSON request using request.get_json().It checks if the title and author fields are present. If not, it returns an error response. A new SaveBookRec object is created with the provided data. The new book object is added to the session and committed to the database.\n",
    "<br>\n",
    "<br>\n",
    "Read Method: The get_books function is responsible for reading all book recommendations. It takes in a GET request in the endpoint /get_bookrecs. It queries all records from the SaveBookRec table using SaveBookRec.query.all(). It formats the queried data into JSON using a list comprehension that calls the read method on each book object. The formatted data is returned with a status code of 200.\n",
    "<br>\n",
    "<br>\n",
    "Update Method: The update_book function is responsible for updating an existing book recommendation. It takes in a PUT request in the endpoint /update_bookrec/<id> with JSON data containing the fields to be updated. The function extracts the updated data from the request and retrieves the existing record by its ID. It updates the record's fields with the new data and commits the changes to the database. \n",
    "<br>\n",
    "<br>\n",
    "Delete Method: The delete_book function is responsible for deleting an existing book recommendation. It takes in a DELETE request in the endpoint /delete_bookrec/<id>. It retrieves the record by its ID and deletes it from the database. The changes are committed to the database. If the record does not exist, it returns an error response."
   ]
  },
  {
   "cell_type": "code",
   "execution_count": null,
   "metadata": {},
   "outputs": [],
   "source": [
    "#SaveBookRec class to support CRUD operations\n",
    "class SaveBookRec(db.Model): # Class to save (Create) a book recommendation\n",
    "    __tablename__ = 'savedbookrecs' # name of the table\n",
    "    id = db.Column(Integer, primary_key=True)\n",
    "    title = db.Column(String, nullable=False)\n",
    "    author = db.Column(String, nullable=False)\n",
    "    genre = db.Column(String)\n",
    "    description = db.Column(Text)\n",
    "    cover_image_url = db.Column(String)\n",
    "\n",
    "    def __init__(self, title, author, genre, description, cover_image_url): # Constructor to initialize the book recommendation\n",
    "        self.title = title\n",
    "        self.author = author\n",
    "        self.genre = genre\n",
    "        self.description = description\n",
    "        self.cover_image_url = cover_image_url\n",
    "\n",
    "    def read(self): # Function to Read the book recommendation\n",
    "        return {\n",
    "            'id': self.id,\n",
    "            'title': self.title,\n",
    "            'author': self.author,\n",
    "            'genre': self.genre,\n",
    "            'description': self.description,\n",
    "            'cover_image_url': self.cover_image_url\n",
    "        }\n",
    "    @staticmethod\n",
    "    def update_book(book_id, data): # Function to Update the book recommendation\n",
    "        book = SaveBookRec.query.get(book_id)\n",
    "        if book:\n",
    "            book.title = data.get('title', book.title)\n",
    "            book.author = data.get('author', book.author)\n",
    "            book.genre = data.get('genre', book.genre)\n",
    "            book.description = data.get('description', book.description)\n",
    "            book.cover_image_url = data.get('cover_image_url', book.cover_image_url)\n",
    "            db.session.commit()\n",
    "            return book\n",
    "        return None\n",
    "\n",
    "    @staticmethod\n",
    "    def delete_book(book_id): # Function to Delete the book recommendation\n",
    "        book = SaveBookRec.query.get(book_id)\n",
    "        if book:\n",
    "            db.session.delete(book)\n",
    "            db.session.commit()\n",
    "            return True\n",
    "        return False"
   ]
  },
  {
   "cell_type": "markdown",
   "metadata": {},
   "source": [
    "## Algorithmic Code Request"
   ]
  },
  {
   "cell_type": "markdown",
   "metadata": {},
   "source": [
    "### API class used to perform  get, post, put, and delete methods\n",
    "POST: Adds a new book to the savedbookrec table\n",
    "GET: Retrieves a book from the table based on the inputed ID number\n",
    "PUT: Updates any any/multiple aspects of an ID (book). Can change the title, author, genre, description, and image cover\n",
    "DELETE: Deletes the a book by it's assigned ID"
   ]
  },
  {
   "cell_type": "code",
   "execution_count": null,
   "metadata": {},
   "outputs": [],
   "source": [
    "\n",
    "# Endpoint to save a book recommendation (This is what I'm using for the table checkpoint on Thurs/Fri)\n",
    "@bookrec_api.route(\"/add_bookrec\", methods=['POST']) # This is the endpoint to add a book to the savebookrec table\n",
    "def add_book():\n",
    "    data = request.get_json() # Get the data from the request\n",
    "    title = data.get('title') \n",
    "    author = data.get('author')\n",
    "    genre = data.get('genre')\n",
    "    description = data.get('description')\n",
    "    cover_url = data.get('cover_url') \n",
    "\n",
    "    if not title or not author:\n",
    "        return jsonify({\"error\": \"Title and author are required\"}), 400\n",
    "\n",
    "    new_book = SaveBookRec( # Create a new book object\n",
    "        title=title,\n",
    "        author=author,\n",
    "        genre=genre,\n",
    "        description=description,\n",
    "        cover_image_url=cover_image_url\n",
    "    )\n",
    "\n",
    "    db.session.add(new_book) # Add the new book to the savebookrec table\n",
    "    db.session.commit() # Commit the changes to the database\n",
    "    \n",
    "    return jsonify({\"message\": \"Book added successfully\"}), 201\n",
    "\n",
    "# Read all book recommendations\n",
    "@bookrec_api.route(\"/get_bookrecs\", methods=['GET'])\n",
    "def get_books():\n",
    "    books = SaveBookRec.query.all()\n",
    "    return jsonify([book.read() for book in books]), 200\n",
    "\n",
    "# Update an existing book recommendation by id number assigned to it on the table\n",
    "@bookrec_api.route(\"/update_bookrec/<int:id>\", methods=['PUT']) # after the update_bookrec/ enter the id number (USE 3 and change the genre to Fantasy) of the book you want to update\n",
    "def update_book(id):\n",
    "    data = request.get_json()\n",
    "    book = SaveBookRec.query.get(id) # Get the book by ID from the savebookrec table\n",
    "\n",
    "    if not book:\n",
    "        return jsonify({\"error\": \"Book not found\"}), 404\n",
    "\n",
    "    book.title = data.get('title', book.title)\n",
    "    book.author = data.get('author', book.author)\n",
    "    book.genre = data.get('genre', book.genre)\n",
    "    book.description = data.get('description', book.description)\n",
    "    book.cover_image_url = data.get('cover_image_url', book.cover_image_url)\n",
    "\n",
    "    db.session.commit() # Commit the changes to the database\n",
    "    \n",
    "    return jsonify({\"message\": \"Book updated successfully\"}), 200\n",
    "\n",
    "# Delete an existing book recommendation by id number assigned to it on the table\n",
    "@bookrec_api.route(\"/delete_bookrec/<int:id>\", methods=['DELETE']) # after the delete_bookrec/ enter the id number (USE 3) to deleted the added book (A Feast for Crows)\n",
    "def delete_book(id):\n",
    "    book = SaveBookRec.query.get(id) # Get the book by ID from the savebookrec table\n",
    "\n",
    "    if not book:\n",
    "        return jsonify({\"error\": \"Book not found\"}), 404\n",
    "\n",
    "    db.session.delete(book) # Delete the book from the savebookrec table\n",
    "    db.session.commit() # Commit the changes to the database\n",
    "    \n",
    "    return jsonify({\"message\": \"Book deleted successfully\"}), 200"
   ]
  },
  {
   "cell_type": "markdown",
   "metadata": {},
   "source": [
    "### Method containing sequencing, selection, and iteration"
   ]
  },
  {
   "cell_type": "code",
   "execution_count": null,
   "metadata": {},
   "outputs": [],
   "source": [
    "@bookrec_api.route(\"/add_bookrec\", methods=['POST'])\n",
    "def add_book():\n",
    "    data = request.get_json()  # Sequencing: Get the data from the request\n",
    "    title = data.get('title')\n",
    "    author = data.get('author')\n",
    "    genre = data.get('genre')\n",
    "    description = data.get('description')\n",
    "    cover_image_url = data.get('cover_image_url')\n",
    "\n",
    "    # Selection: Check if title and author are provided\n",
    "    if not title or not author:\n",
    "        return jsonify({\"error\": \"Title and author are required\"}), 400\n",
    "\n",
    "    # Sequencing: Create a new book object\n",
    "    new_book = SaveBookRec(\n",
    "        title=title,\n",
    "        author=author,\n",
    "        genre=genre,\n",
    "        description=description,\n",
    "        cover_image_url=cover_image_url\n",
    "    )\n",
    "\n",
    "    db.session.add(new_book)  # Sequencing: Add the new book to the savebookrec table\n",
    "    db.session.commit()  # Sequencing: Commit the changes to the database\n",
    "\n",
    "    return jsonify({\"message\": \"Book added successfully\"}), 201  # Sequencing: Return a success message"
   ]
  },
  {
   "cell_type": "markdown",
   "metadata": {},
   "source": [
    "Sequencing: The execution of statements in a specific order. In the add_book function, the statements are executed in the following sequence:\n",
    "<ul>\n",
    "    <li>Retrieve data from the request.</li>\n",
    "    <li>Validate the required fields.</li>\n",
    "    <li>Create a new book object.</li>\n",
    "    <li>Add the new book to the database session.</li>\n",
    "    <li>Commit the changes to the database.</li>\n",
    "    <li>Return a success message.</li>\n",
    "</ul>\n",
    "<br>\n",
    "<br>\n",
    "Selection: Making decisions based on conditions. In the add_book function, selection is used to check if the required fields (title and author) are present:"
   ]
  },
  {
   "cell_type": "code",
   "execution_count": null,
   "metadata": {},
   "outputs": [],
   "source": [
    "if not title or not author:\n",
    "    return jsonify({\"error\": \"Title and author are required\"}), 400"
   ]
  },
  {
   "cell_type": "markdown",
   "metadata": {},
   "source": [
    "If either title or author is missing, the function returns an error message and stops further execution.\n",
    "<br>\n",
    "<br>\n",
    "Iteration: Repeating a block of code multiple times. The initSavedBookRecs function in bookrecdb.py has iteration:"
   ]
  },
  {
   "cell_type": "code",
   "execution_count": null,
   "metadata": {},
   "outputs": [],
   "source": [
    "for title, author, genre, description, cover_image_url in saved_bookrecs_data:\n",
    "    if not SaveBookRec.query.filter_by(title=title, author=author).first():\n",
    "        new_book = SaveBookRec(title=title, author=author, genre=genre, description=description, cover_image_url=cover_image_url)\n",
    "        db.session.add(new_book)"
   ]
  },
  {
   "cell_type": "markdown",
   "metadata": {},
   "source": [
    "This loop iterates through the saved_bookrecs_data list, checking if each book already exists in the database and adding it if it does not."
   ]
  },
  {
   "cell_type": "markdown",
   "metadata": {},
   "source": [
    "### Parameters and Return Type"
   ]
  },
  {
   "cell_type": "code",
   "execution_count": null,
   "metadata": {},
   "outputs": [],
   "source": [
    "#JSON body that includes the required fields for adding a book recommendation (parameters):\n",
    "{\n",
    "    \"author\": \"George R.R. Martin\", #The author of the book\n",
    "    \"genre\": \"Fantasy\", #The genre of the book.\n",
    "    \"description\": \"A thrilling novel...\", #A brief description of the book.\n",
    "    \"cover_image_url\": \"http://example.com/cover.jpg\" #A URL to the cover image of the book.\n",
    "}\n",
    "\n",
    "#JSON response for a successful book addition:Return Type (jsonify)\n",
    "#The return type of the function is jsonify, which is a Flask utility that converts a Python dictionary into a JSON response. This is useful for creating API endpoints that return JSON data.\n",
    "\n",
    "return jsonify({\"message\": \"Book added successfully\"}), 201"
   ]
  },
  {
   "cell_type": "markdown",
   "metadata": {},
   "source": [
    "## Call to Algorithm Request"
   ]
  },
  {
   "cell_type": "markdown",
   "metadata": {},
   "source": [
    "Call/request to the method with Algorithm (fetch to endpoint)"
   ]
  },
  {
   "cell_type": "code",
   "execution_count": null,
   "metadata": {},
   "outputs": [],
   "source": [
    "%%js\n",
    "function getRandomBook() {\n",
    "    //Get the selected genre from the dropdown\n",
    "    //const genre = document.getElementById(\"genre\").value;\n",
    "    const genreKey = document.getElementById(\"genre\").value;\n",
    "    const query = genreMap[genreKey] || \"fiction\"; // Fallback to \"fiction\" if genre not mapped\n",
    "    //\n",
    "    //Build the API URL with the selected genre as a query parameter\n",
    "    //const apiUrl = `${pythonURI}/api/random_book?genre=${encodeURIComponent(query)}`;\n",
    "    const apiUrl = `http://127.0.0.1:8887/api/random_bookrec?genre=${encodeURIComponent(query)}`;\n",
    "    //Fetch data from the backend API\n",
    "    fetch(apiUrl) // Flask server endpoint\n",
    "        .then((response) => {\n",
    "                if (!response.ok) {\n",
    "                    throw new Error('No books found for the selected genre.');\n",
    "                }\n",
    "                return response.json();\n",
    "        })\n",
    "        .then((book) => {\n",
    "            displayBook(book); // Display the book details on the page\n",
    "        })\n",
    "        .catch((error) => { // Catch -> handles any error during execution\n",
    "            console.error(\"Error fetching data:\", error);\n",
    "            alert(\"An error occurred while fetching the book. Please try again.\");\n",
    "        });\n",
    "    }"
   ]
  },
  {
   "cell_type": "markdown",
   "metadata": {},
   "source": [
    "### Return/response from the method with Algorithm (fetch)"
   ]
  },
  {
   "cell_type": "markdown",
   "metadata": {},
   "source": [
    "<img src=\"{{site.baseurl}}/images/notebooks/sprint_5_live_review/fetch_output.png\">\n",
    "Changing data or method triggers a different response, specifically normal conditions and error conditions. If the book title or author is empty then the book will not be added."
   ]
  }
 ],
 "metadata": {
  "language_info": {
   "name": "python"
  }
 },
 "nbformat": 4,
 "nbformat_minor": 2
}
