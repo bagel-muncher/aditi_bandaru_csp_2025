{
 "cells": [
  {
   "cell_type": "raw",
   "metadata": {
    "vscode": {
     "languageId": "raw"
    }
   },
   "source": [
    "---\n",
    "toc: true\n",
    "layout: post\n",
    "title: Sprint 5 Full Stack and CRUD Review\n",
    "description: Culmination of what I've worked on so far in Tri 2\n",
    "permalink: /_posts/Foundation/big_ideas_4/2025-01-08-student-panel-blog-post_IPYNB_2_\n",
    "categories: [GitHub Pages]\n",
    "type: ccc\n",
    "---"
   ]
  },
  {
   "cell_type": "markdown",
   "metadata": {},
   "source": [
    "Intro requests for review.  Programming is a collaborative and creative process that brings ideas to life through the development of software. In the Create performance task, you will design and implement a program that solves a problem, enables innovation, explores personal interests, or expresses creativity.\n",
    "-Purpose of your groups program\n",
    "-Purpose of your individual feature(s)\n",
    "Input/Output requests.  Demo ways to Input to your full stack feature.\n",
    "-Using frontend show  API request and  present API response. (live demo)\n",
    "-Using postman to show raw API request and RESTful response (error code(s) and JSON)\n",
    "-Using db_init, db_restore, db_backup to show tester data creation and data recovery.\n",
    "List requests.  Use of list, dictionaries and database.  Code descriptions of area where you work with list (rows) and dictionaries (columns) of the database.\n",
    "-Discuss formatting response data (JSON) from API into DOM\n",
    "-Discuss queries from database where you extract a Python List (rows). Mention how these queries are provide by a 3rd. party library.\n",
    "-Discuss methods in \"class\"  you created to work with columns (create, read, update, delete)\n",
    "Algorithmic code request. Show the definition of code blocks to handle a request.\n",
    "-Discuss API class (code block) you used to perform  get, post, put, and delete methods.\n",
    "-Discuss a method/procedure in class that contains sequencing, selection, and iteration.\n",
    "-Discuss the parameters (body of request) and return type (jasonify) of the function.\n",
    "Call to Algorithm request.  Show the definition of code block to make a request.\n",
    "-Discuss the call/request to the method with Algorithm (fetch to endpoint).\n",
    "-Discuss the return/response from the method with Algorithm (fetch) and how you handle data.\n",
    "-Show how changing data or method triggers a different response, specifically normal conditions and error conditions."
   ]
  },
  {
   "cell_type": "markdown",
   "metadata": {},
   "source": [
    "# Sprint 5 Full Stack and CRUD Review"
   ]
  },
  {
   "cell_type": "markdown",
   "metadata": {},
   "source": [
    "## Introduction\n",
    "Our group decided to make a book review site because we love books.\n",
    "\n"
   ]
  }
 ],
 "metadata": {
  "language_info": {
   "name": "python"
  }
 },
 "nbformat": 4,
 "nbformat_minor": 2
}
