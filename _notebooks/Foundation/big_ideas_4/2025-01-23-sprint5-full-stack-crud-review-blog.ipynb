{
 "cells": [
  {
   "cell_type": "raw",
   "metadata": {
    "vscode": {
     "languageId": "raw"
    }
   },
   "source": [
    "---\n",
    "toc: true\n",
    "layout: post\n",
    "title: Sprint 5 Full Stack and CRUD Review\n",
    "description: Culmination of what I've worked on so far in Tri 2\n",
    "permalink: /_posts/Foundation/big_ideas_4/2025-01-08-student-panel-blog-post_IPYNB_2_\n",
    "categories: [GitHub Pages]\n",
    "type: ccc\n",
    "---"
   ]
  },
  {
   "cell_type": "markdown",
   "metadata": {},
   "source": [
    "Intro requests for review.  Programming is a collaborative and creative process that brings ideas to life through the development of software. In the Create performance task, you will design and implement a program that solves a problem, enables innovation, explores personal interests, or expresses creativity.\n",
    "-Purpose of your groups program\n",
    "-Purpose of your individual feature(s)\n",
    "Input/Output requests.  Demo ways to Input to your full stack feature.\n",
    "-Using frontend show  API request and  present API response. (live demo)\n",
    "-Using postman to show raw API request and RESTful response (error code(s) and JSON)\n",
    "-Using db_init, db_restore, db_backup to show tester data creation and data recovery.\n",
    "List requests.  Use of list, dictionaries and database.  Code descriptions of area where you work with list (rows) and dictionaries (columns) of the database.\n",
    "-Discuss formatting response data (JSON) from API into DOM\n",
    "-Discuss queries from database where you extract a Python List (rows). Mention how these queries are provide by a 3rd. party library.\n",
    "-Discuss methods in \"class\"  you created to work with columns (create, read, update, delete)\n",
    "Algorithmic code request. Show the definition of code blocks to handle a request.\n",
    "-Discuss API class (code block) you used to perform  get, post, put, and delete methods.\n",
    "-Discuss a method/procedure in class that contains sequencing, selection, and iteration.\n",
    "-Discuss the parameters (body of request) and return type (jasonify) of the function.\n",
    "Call to Algorithm request.  Show the definition of code block to make a request.\n",
    "-Discuss the call/request to the method with Algorithm (fetch to endpoint).\n",
    "-Discuss the return/response from the method with Algorithm (fetch) and how you handle data.\n",
    "-Show how changing data or method triggers a different response, specifically normal conditions and error conditions."
   ]
  },
  {
   "cell_type": "markdown",
   "metadata": {},
   "source": [
    "# Sprint 5 Full Stack and CRUD Review"
   ]
  },
  {
   "cell_type": "markdown",
   "metadata": {},
   "source": [
    "## Introduction\n",
    "Our group decided to make a book review site where users can talk about and interact with books while exploring new suggestions for what to read. We chose this for our group project due to our shared interest in reading.\n",
    "<br>\n",
    "<br>\n",
    "My individual feature is a random book generator where users get random suggestions for what to read next base don the genre they selected. When a user inputs a genre, the random suggestion they recieve is displayed with the book's author, title, short summary, and book cover image. I'm currently working on adding a sub-feature where users can add more books (as suggestions) into the random book generator so other users can get a book reccomendation from a bigger database. I haven't connected this \"adding book reccomendations\" feature to the main database and it has it's own table in backend. \n",
    "\n"
   ]
  },
  {
   "cell_type": "markdown",
   "metadata": {},
   "source": [
    "## Frontend Demo for Full Stack\n",
    "\n",
    "This is demonstration of a user adding a new book reccomendation to my feature through the frontend. This is what the page looks like at first:\n",
    "<br>\n",
    "<img src=\"{{site.baseurl}}/images/notebooks/sprint_5_live_review/bookrec_start_page.png\">\n",
    "<br>\n",
    "The form to add a new book appears when the user clicks the \"Add a New Book Reccomendation\" button:\n",
    "<br>\n",
    "<img src=\"{{site.baseurl}}/images/notebooks/sprint_5_live_review/add_bookrec_empty_form.png\">\n",
    "<br>\n",
    "This is the filled out form (Each input box is required):\n",
    "<br>\n",
    "<img src=\"{{site.baseurl}}/images/notebooks/sprint_5_live_review/filled_bookrec_form.png\">\n",
    "<br>\n",
    "Once the user has filled out the form and has clicked the \"Done\" button, a console message appears to confirm that their form has been added to the backend table:\n",
    "<br>\n",
    "<img src=\"{{site.baseurl}}/images/notebooks/sprint_5_live_review/bookrec_form_done.png\">\n",
    "<br>\n",
    "After clicking \"Done\", the new book appears in the backend table (number 3):\n",
    "<br>\n",
    "<img src=\"{{site.baseurl}}/images/notebooks/sprint_5_live_review/backend_bookrec_added.png\">\n",
    "<br>"
   ]
  },
  {
   "cell_type": "code",
   "execution_count": null,
   "metadata": {},
   "outputs": [],
   "source": [
    "#The frontend demo above connects to this section of the bookrec API:\n",
    "@bookrec_api.route(\"/add_bookrec\", methods=['POST']) # This is the endpoint to add a book to the savebookrec table\n",
    "def add_book():\n",
    "    data = request.get_json() # Get the data from the request\n",
    "    title = data.get('title') \n",
    "    author = data.get('author')\n",
    "    genre = data.get('genre')\n",
    "    description = data.get('description')\n",
    "    cover_image_url = data.get('cover_image_url') \n",
    "\n",
    "    if not title or not author:\n",
    "        return jsonify({\"error\": \"Title and author are required\"}), 400\n",
    "\n",
    "    new_book = SaveBookRec( # Create a new book object\n",
    "        title=title,\n",
    "        author=author,\n",
    "        genre=genre,\n",
    "        description=description,\n",
    "        cover_image_url=cover_image_url\n",
    "    )\n",
    "\n",
    "    db.session.add(new_book) # Add the new book to the savebookrec table\n",
    "    db.session.commit() # Commit the changes to the database\n",
    "    \n",
    "    return jsonify({\"message\": \"Book added successfully\"}), 201"
   ]
  }
 ],
 "metadata": {
  "language_info": {
   "name": "python"
  }
 },
 "nbformat": 4,
 "nbformat_minor": 2
}
