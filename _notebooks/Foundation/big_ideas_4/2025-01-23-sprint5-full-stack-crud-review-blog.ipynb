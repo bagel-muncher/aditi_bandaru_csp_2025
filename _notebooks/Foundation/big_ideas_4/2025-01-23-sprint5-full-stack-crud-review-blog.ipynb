{
 "cells": [
  {
   "cell_type": "raw",
   "metadata": {
    "vscode": {
     "languageId": "raw"
    }
   },
   "source": [
    "---\n",
    "toc: true\n",
    "layout: post\n",
    "title: Sprint 5 Full Stack and CRUD Review\n",
    "description: Culmination of what I've worked on so far in Tri 2\n",
    "permalink: /_posts/Foundation/big_ideas_4/2025-01-08-student-panel-blog-post_IPYNB_2_\n",
    "categories: [GitHub Pages]\n",
    "type: ccc\n",
    "---"
   ]
  },
  {
   "cell_type": "markdown",
   "metadata": {},
   "source": [
    "# Sprint 5 Full Stack and CRUD Review"
   ]
  },
  {
   "cell_type": "markdown",
   "metadata": {},
   "source": [
    "## Introduction\n",
    "Our group decided to make a book review site where users can talk about and interact with books while exploring new suggestions for what to read. We chose this for our group project due to our shared interest in reading.\n",
    "<br>\n",
    "<br>\n",
    "My individual feature is a random book generator where users get random suggestions for what to read next base don the genre they selected. When a user inputs a genre, the random suggestion they recieve is displayed with the book's author, title, short summary, and book cover image. I'm currently working on adding a sub-feature where users can add more books (as suggestions) into the random book generator so other users can get a book reccomendation from a bigger database. I haven't connected this \"adding book reccomendations\" feature to the main database and it has it's own table in backend. \n",
    "\n"
   ]
  },
  {
   "cell_type": "markdown",
   "metadata": {},
   "source": [
    "## Input/Output requests"
   ]
  },
  {
   "cell_type": "code",
   "execution_count": null,
   "metadata": {},
   "outputs": [],
   "source": [
    "#The frontend demo above connects to this section of the bookrec API:\n",
    "@bookrec_api.route(\"/add_bookrec\", methods=['POST']) # This is the endpoint to add a book to the savebookrec table\n",
    "def add_book():\n",
    "    data = request.get_json() # Get the data from the request\n",
    "    title = data.get('title') \n",
    "    author = data.get('author')\n",
    "    genre = data.get('genre')\n",
    "    description = data.get('description')\n",
    "    cover_image_url = data.get('cover_image_url') \n",
    "\n",
    "    if not title or not author:\n",
    "        return jsonify({\"error\": \"Title and author are required\"}), 400\n",
    "\n",
    "    new_book = SaveBookRec( # Create a new book object\n",
    "        title=title,\n",
    "        author=author,\n",
    "        genre=genre,\n",
    "        description=description,\n",
    "        cover_image_url=cover_image_url\n",
    "    )\n",
    "\n",
    "    db.session.add(new_book) # Add the new book to the savebookrec table\n",
    "    db.session.commit() # Commit the changes to the database\n",
    "    \n",
    "    return jsonify({\"message\": \"Book added successfully\"}), 201"
   ]
  },
  {
   "cell_type": "markdown",
   "metadata": {},
   "source": [
    "### Frontend - API request and response demo\n",
    "This is demonstration of a user adding a new book reccomendation to my feature through the frontend. This is what the page looks like at first:\n",
    "<br>\n",
    "<img src=\"{{site.baseurl}}/images/notebooks/sprint_5_live_review/bookrec_start_page.png\">\n",
    "<br>\n",
    "The form to add a new book appears when the user clicks the \"Add a New Book Reccomendation\" button:\n",
    "<br>\n",
    "<img src=\"{{site.baseurl}}/images/notebooks/sprint_5_live_review/add_bookrec_empty_form.png\">\n",
    "<br>\n",
    "This is the filled out form (Each input box is required):\n",
    "<br>\n",
    "<img src=\"{{site.baseurl}}/images/notebooks/sprint_5_live_review/filled_bookrec_form.png\">\n",
    "<br>\n",
    "Once the user has filled out the form and has clicked the \"Done\" button, a console message appears to confirm that their form has been added to the backend table:\n",
    "<br>\n",
    "<img src=\"{{site.baseurl}}/images/notebooks/sprint_5_live_review/bookrec_form_done.png\">\n",
    "<br>\n",
    "After clicking \"Done\", the new book appears in the backend table (number 3):\n",
    "<br>\n",
    "<img src=\"{{site.baseurl}}/images/notebooks/sprint_5_live_review/backend_bookrec_added.png\">\n",
    "<br>"
   ]
  },
  {
   "cell_type": "markdown",
   "metadata": {},
   "source": [
    "### Postman - raw API request\n",
    "This is the GET method of bookrec API being tested through Postman.\n",
    "<img src=\"{{site.baseurl}}/images/notebooks/sprint_5_live_review/postman_addbookrec.png\"> \n",
    "<br>\n",
    "This is the backend table with the newly added book\n",
    "<img src=\"{{site.baseurl}}/images/notebooks/sprint_5_live_review/postman_addbook_backend.png\"> "
   ]
  },
  {
   "cell_type": "markdown",
   "metadata": {},
   "source": [
    "## List requests\n",
    "\n",
    "### Formatting responsa data (JSON) from API to DOM\n",
    "The first cell below is the backend code and the second cell formats the JSON data into Document Object Models."
   ]
  },
  {
   "cell_type": "code",
   "execution_count": null,
   "metadata": {},
   "outputs": [],
   "source": [
    "@bookrec_api.route('/random_bookrec', methods=['GET'])\n",
    "def random_bookrec():\n",
    "    genre = request.args.get('genre')  # Get the 'genre' parameter from the request \n",
    "    #print(f\"Received genre: {genre}\")  # Debug log\n",
    "    \n",
    "    while True: # Loop until a book is found \n",
    "        book = get_random_bookrec(genre)\n",
    "        if book:\n",
    "            return jsonify({\n",
    "                'title': book.title,\n",
    "                'author': book.author,\n",
    "                'description': book.description,\n",
    "                'image_cover': book.cover_image_url\n",
    "            })\n",
    "        else: # Retry if no books are found in the database for the requested genre\n",
    "            return jsonify({\"error\": \"No books found, retrying in 5 seconds...\"}), 404"
   ]
  },
  {
   "cell_type": "code",
   "execution_count": null,
   "metadata": {},
   "outputs": [],
   "source": [
    "%%js \n",
    " function displayBook(book) {\n",
    "        const { title, author, description, image_cover } = book;\n",
    "        // Update the DOM (Document Object Model) with book details\n",
    "        document.getElementById(\"book_title\").innerText = title;\n",
    "        document.getElementById(\"book_author\").innerText = `By: ${author}`;\n",
    "        document.getElementById(\"book_description\").innerText = description;\n",
    "        // Book cover display\n",
    "        document.getElementById(\"book_cover\").src = image_cover;\n",
    "        document.getElementById(\"book_cover\").style.display = image_cover ? \"block\" : \"none\";      \n",
    "        // Hide the genre selection and show the book details\n",
    "        document.getElementById(\"genre_selection\").style.display = \"none\";\n",
    "        document.getElementById(\"book_display\").style.display = \"block\";"
   ]
  },
  {
   "cell_type": "markdown",
   "metadata": {},
   "source": [
    "### Queries from the Database (extraction)"
   ]
  },
  {
   "cell_type": "code",
   "execution_count": null,
   "metadata": {},
   "outputs": [],
   "source": [
    "# Read a single book recommendation by ID\n",
    "@bookrec_api.route(\"/get_bookrec/<int:id>\", methods=['GET']) # after the get_bookrec/ enter the id number (USE 1 or 2) of the book you want to get\n",
    "def get_book(id):\n",
    "    book = SaveBookRec.query.get(id)\n",
    "\n",
    "    if not book:\n",
    "        return jsonify({\"error\": \"Book not found\"}), 404\n",
    "\n",
    "    return jsonify(book.read()), 200"
   ]
  },
  {
   "cell_type": "markdown",
   "metadata": {},
   "source": [
    "### CRUD Methods (\"class\")"
   ]
  },
  {
   "cell_type": "code",
   "execution_count": null,
   "metadata": {},
   "outputs": [],
   "source": [
    "# Endpoint to save a book recommendation (This is what I'm using for the table checkpoint on Thurs/Fri)\n",
    "@bookrec_api.route(\"/add_bookrec\", methods=['POST']) # This is the endpoint to add a book to the savebookrec table\n",
    "def add_book():\n",
    "    data = request.get_json() # Get the data from the request\n",
    "    title = data.get('title') \n",
    "    author = data.get('author')\n",
    "    genre = data.get('genre')\n",
    "    description = data.get('description')\n",
    "    cover_image_url = data.get('cover_image_url') \n",
    "\n",
    "    if not title or not author:\n",
    "        return jsonify({\"error\": \"Title and author are required\"}), 400\n",
    "\n",
    "    new_book = SaveBookRec( # Create a new book object\n",
    "        title=title,\n",
    "        author=author,\n",
    "        genre=genre,\n",
    "        description=description,\n",
    "        cover_image_url=cover_image_url\n",
    "    )\n",
    "\n",
    "    db.session.add(new_book) # Add the new book to the savebookrec table\n",
    "    db.session.commit() # Commit the changes to the database\n",
    "    \n",
    "    return jsonify({\"message\": \"Book added successfully\"}), 201\n",
    "\n",
    "# Read all book recommendations\n",
    "@bookrec_api.route(\"/get_bookrecs\", methods=['GET'])\n",
    "def get_books():\n",
    "    books = SaveBookRec.query.all()\n",
    "    return jsonify([book.read() for book in books]), 200\n",
    "\n",
    "# Update an existing book recommendation by id number assigned to it on the table\n",
    "@bookrec_api.route(\"/update_bookrec/<int:id>\", methods=['PUT']) # after the update_bookrec/ enter the id number (USE 3 and change the genre to Fantasy) of the book you want to update\n",
    "def update_book(id):\n",
    "    data = request.get_json()\n",
    "    book = SaveBookRec.query.get(id) # Get the book by ID from the savebookrec table\n",
    "\n",
    "    if not book:\n",
    "        return jsonify({\"error\": \"Book not found\"}), 404\n",
    "\n",
    "    book.title = data.get('title', book.title)\n",
    "    book.author = data.get('author', book.author)\n",
    "    book.genre = data.get('genre', book.genre)\n",
    "    book.description = data.get('description', book.description)\n",
    "    book.cover_image_url = data.get('cover_image_url', book.cover_image_url)\n",
    "\n",
    "    db.session.commit() # Commit the changes to the database\n",
    "    \n",
    "    return jsonify({\"message\": \"Book updated successfully\"}), 200\n",
    "\n",
    "# Delete an existing book recommendation by id number assigned to it on the table\n",
    "@bookrec_api.route(\"/delete_bookrec/<int:id>\", methods=['DELETE']) # after the delete_bookrec/ enter the id number (USE 3) to deleted the added book (A Feast for Crows)\n",
    "def delete_book(id):\n",
    "    book = SaveBookRec.query.get(id) # Get the book by ID from the savebookrec table\n",
    "\n",
    "    if not book:\n",
    "        return jsonify({\"error\": \"Book not found\"}), 404\n",
    "\n",
    "    db.session.delete(book) # Delete the book from the savebookrec table\n",
    "    db.session.commit() # Commit the changes to the database\n",
    "    \n",
    "    return jsonify({\"message\": \"Book deleted successfully\"}), 200"
   ]
  },
  {
   "cell_type": "markdown",
   "metadata": {},
   "source": [
    "## Algorithmic Code Request"
   ]
  },
  {
   "cell_type": "markdown",
   "metadata": {},
   "source": [
    "## Call to Algorithm Request"
   ]
  }
 ],
 "metadata": {
  "language_info": {
   "name": "python"
  }
 },
 "nbformat": 4,
 "nbformat_minor": 2
}
