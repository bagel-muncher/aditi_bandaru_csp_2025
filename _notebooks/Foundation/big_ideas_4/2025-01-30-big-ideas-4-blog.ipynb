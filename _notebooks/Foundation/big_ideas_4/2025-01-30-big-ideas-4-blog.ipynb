{
 "cells": [
  {
   "cell_type": "raw",
   "metadata": {
    "vscode": {
     "languageId": "raw"
    }
   },
   "source": [
    "---\n",
    "toc: true\n",
    "layout: post\n",
    "title: Big Ideas 4 and AWS Development\n",
    "description: Deployment Checkpoint\n",
    "permalink: /_posts/Foundation/big_ideas_4/2025-01-30-aws-deployment-blog_IPYNB_2_\n",
    "categories: [GitHub Pages]\n",
    "type: ccc\n",
    "---"
   ]
  },
  {
   "cell_type": "markdown",
   "metadata": {},
   "source": [
    "## Big Idea 4 Main Ideas\n",
    "<ul>Deployment Strategies:\n",
    "    <li>Deploy the application on platforms like Heroku, AWS</li>\n",
    "    <li>Use continuous integration and continuous deployment (CI/CD) pipelines to automate deployment.</li>\n",
    "    </ul>\n",
    "<ul>Domain Name System (DNS):\n",
    "    <li>Understand how DNS works and configure domain names for the deployed application.</li>\n",
    "</ul>\n",
    "<ul>\n",
    "HTTP and RESTful APIs:\n",
    "    <li>Use HTTP methods (GET, POST, PUT, DELETE) to interact with the backend.</li>\n",
    "    <li>Design and implement RESTful APIs for communication between frontend and backend.</li>\n",
    "</ul>\n",
    "<ul>Security and Authentication:\n",
    "    <li>Implement authentication mechanisms (e.g., JWT) to secure the application.</li>\n",
    "    <li>Use HTTPS to encrypt data transmitted between the client and server.</li>\n",
    "</ul>\n",
    "<ul>Performance Optimization:\n",
    "    <li>Optimize frontend performance by minimizing assets and using caching.</li>\n",
    "    <li>Optimize backend performance by using efficient algorithms and database indexing.</li>\n",
    "</ul>\n",
    "<ul>Monitoring and Logging:\n",
    "    <li>Implement monitoring tools to track application performance and errors.</li>\n",
    "    <li>Use logging to record application events and debug issues.</li>\n",
    "</ul>"
   ]
  },
  {
   "cell_type": "markdown",
   "metadata": {},
   "source": [
    "## Prerequisites\n",
    "Test Server: Frontend to Backend works locally. I can fetch items from the backend database (books) through my random book generator. I can also add book reccomendations from the form on my frontend to the backend table titled \"savedbookrecs\".\n",
    "\n",
    "### Subdomain"
   ]
  },
  {
   "cell_type": "code",
   "execution_count": null,
   "metadata": {},
   "outputs": [],
   "source": [
    "'''yml\n",
    "Server: https://bookworms.stu.nighthawkcodingsociety.com/\n",
    "Domain: nighthawkcodingsociety.com\n",
    "Subdomain: bookworms\n",
    "'''"
   ]
  },
  {
   "cell_type": "markdown",
   "metadata": {},
   "source": [
    "### Port (Backend)\n",
    "We updated our unique port for our application on main.py:"
   ]
  },
  {
   "cell_type": "code",
   "execution_count": null,
   "metadata": {},
   "outputs": [],
   "source": [
    "if __name__ == \"__main__\":\n",
    "      app.run(debug=True, host=\"0.0.0.0\", port=\"8504\")\n",
    "    # first number - 8\n",
    "    # second number - 5 - class period\n",
    "    # third + 4th - # of table (04)\n",
    "    # 8504"
   ]
  },
  {
   "cell_type": "markdown",
   "metadata": {},
   "source": [
    "Updated Dockerfile:"
   ]
  },
  {
   "cell_type": "code",
   "execution_count": null,
   "metadata": {},
   "outputs": [],
   "source": [
    "FROM docker.io/python:3.11\n",
    "\n",
    "WORKDIR /\n",
    "\n",
    "# --- [Install python and pip] ---\n",
    "RUN apt-get update && apt-get upgrade -y && \\\n",
    "    apt-get install -y python3 python3-pip git\n",
    "COPY . /\n",
    "\n",
    "RUN pip install --no-cache-dir -r requirements.txt\n",
    "RUN pip install gunicorn\n",
    "\n",
    "ENV GUNICORN_CMD_ARGS=\"--workers=3 --bind=0.0.0.0:8504\" #changed the port to our group's unique port number \n",
    "\n",
    "EXPOSE 8504\n",
    "\n",
    "# Define environment variable\n",
    "ENV FLASK_ENV=deploy\n",
    "\n",
    "CMD [ \"gunicorn\", \"main:app\" ]"
   ]
  },
  {
   "cell_type": "markdown",
   "metadata": {},
   "source": [
    "Updated docker-compose.yml:"
   ]
  },
  {
   "cell_type": "code",
   "execution_count": null,
   "metadata": {},
   "outputs": [],
   "source": [
    "'''yml\n",
    "version: '3'\n",
    "services:\n",
    "        web:\n",
    "                image: bookworms\n",
    "                build: .\n",
    "                env_file:\n",
    "                        - .env # This file is optional; defaults will be used if it does not exist\n",
    "                ports:\n",
    "                        - \"8504:8504\"\n",
    "                volumes:\n",
    "                        - ./instance:/instance\n",
    "                restart: unless-stopped\n",
    "'''"
   ]
  },
  {
   "cell_type": "markdown",
   "metadata": {},
   "source": [
    "Updated nginx_file"
   ]
  },
  {
   "cell_type": "raw",
   "metadata": {
    "vscode": {
     "languageId": "raw"
    }
   },
   "source": [
    "  server {\n",
    "      listen 80;\n",
    "      listen [::]:80;\n",
    "      server_name bookworms.stu.nighthawkcodingsociety.com;\n",
    "\n",
    "      location / {\n",
    "          proxy_pass http://localhost:8504;\n",
    "\n",
    "          # Preflighted requests\n",
    "          if ($request_method = OPTIONS) {\n",
    "              add_header \"Access-Control-Allow-Credentials\" \"true\" always;\n",
    "              add_header \"Access-Control-Allow-Origin\"  \"https://gabrielac07.github.io\" always;\n",
    "              add_header \"Access-Control-Allow-Methods\" \"GET, POST, PUT, DELETE, OPTIONS, HEAD\" always;\n",
    "              add_header \"Access-Control-Allow-MaxAge\" 600 always;\n",
    "              add_header \"Access-Control-Allow-Headers\" \"Authorization, Origin, X-Origin, X-Requested-With, Content-Type, Accept\" always;\n",
    "              return 204;\n",
    "          }\n",
    "      }\n",
    "  }"
   ]
  },
  {
   "cell_type": "markdown",
   "metadata": {},
   "source": [
    "### Port (Frontend)\n",
    "This is our updated group's assets/api/config.js"
   ]
  },
  {
   "cell_type": "code",
   "execution_count": null,
   "metadata": {
    "vscode": {
     "languageId": "javascript"
    }
   },
   "outputs": [],
   "source": [
    "export var pythonURI;\n",
    "if (location.hostname === \"localhost\") {\n",
    "        pythonURI = \"http://localhost:8504\";\n",
    "} else if (location.hostname === \"127.0.0.1\") {\n",
    "        pythonURI = \"http://127.0.0.1:8504\";\n",
    "} else {\n",
    "        pythonURI =  \"https://bookworms.stu.nighthawkcodingsociety.com\";\n",
    "}"
   ]
  },
  {
   "cell_type": "markdown",
   "metadata": {},
   "source": [
    "## Accessing AWS EC2"
   ]
  },
  {
   "cell_type": "markdown",
   "metadata": {},
   "source": [
    "### Amazon Web Services (AWS) Management Console\n",
    "\n",
    "Log into AWS Console using teacher-provided account\n",
    "\n",
    "EC2 > Instances > CSP\n",
    "<br>\n",
    "\n",
    "### Unrestricted Gateway to AWS EC2 Terminal\n",
    "School access: csp.nighthawkcodingsociety.com \n",
    "U: ubuntu\n",
    "P hint: 3 Musketeers"
   ]
  },
  {
   "cell_type": "markdown",
   "metadata": {},
   "source": [
    "## Application Setup\n",
    "\n",
    "### Finding a Port\n",
    "\n",
    "AWS EC2 terminal > `docker ps` > find port (ours is 8504)\n",
    "\n",
    "### On localhost setup Docker files using VSCode\n",
    "\n",
    "1. VSCode > bookworms > ensure `Dockerfile` and `docker-compose.yml` match port discovered with `docker ps`\n",
    "\n",
    "2. Use `cd` to enter correct repo. Test `docker-compose up` or sudo docker-compose up\n",
    "  - DO NOT type -d\n",
    "\n",
    "3. Type in `http://localhost:8504`\n",
    "\n",
    "4. Push changes to Github\n",
    "\n",
    "## Server Setup\n",
    "\n",
    "1. Use `cd` and clone backend repo\n",
    "\n",
    "2. Build site with `docker-compose up -d --build`\n",
    "\n",
    "3. Test site: `curl localhost:8504` This command will show either HTML content or an error\n",
    "  - 500 error: check site on localhost\n",
    "  - broken pipe error: check ports on docker-compose.yml and Dockerfile\n",
    "  - incorrect content: check `docker ps`. someone else is on your port\n",
    "\n",
    "### Route 53 DNS\n",
    "\n",
    "AWS Route 53 > set up DNS subdomain\n",
    "\n",
    "### Nginx Setup\n",
    "\n",
    "1. Go to terminal in nginx: `cd /etc/nginx/sites-available`\n",
    "\n",
    "2. Create nginx config file: `sudo nano bookworms`\n",
    "\n",
    "3. Write config file:\n",
    "```python\n",
    "servserver {\n",
    "        listen 80;\n",
    "        listen [::]:80;\n",
    "        server_name bookworms.stu.nighthawkcodingsociety.com;\n",
    "\n",
    "        location / {\n",
    "                proxy_pass http://localhost:8504;\n",
    "\n",
    "                # Preflighted requests\n",
    "                if ($request_method = OPTIONS) {\n",
    "                add_header \"Access-Control-Allow-Credentials\" \"true\" always;\n",
    "                add_header \"Access-Control-Allow-Origin\"  \"https://nighthawkcoders.github.io\" always;\n",
    "                add_header \"Access-Control-Allow-Methods\" \"GET, POST, PUT, DELETE, OPTIONS, HEAD\" always;\n",
    "                add_header \"Access-Control-Allow-MaxAge\" 600 always;\n",
    "                add_header \"Access-Control-Allow-Headers\" \"Authorization, Origin, X-Origin, X-Requested-With, Content-Type, Accept\" always;\n",
    "                return 204;\n",
    "                }\n",
    "        }\n",
    "}\n",
    "```\n",
    "\n",
    "4. Save changes: `cmd` or `ctl X`, then `y`, then `enter`\n",
    "\n",
    "5. Activate configuration by creating a symbolic link\n",
    "  - `cd /etc/nginx/sites-enabled`, then `sudo ln -s /etc/nginx/sites-available/bookworms /etc/nginx/sites-enabled`\n",
    "\n",
    "6. Validate: `sudo nginx -t`\n",
    "\n",
    "7. Restart nginx: `sudo systemctl restart nginx`\n",
    "\n",
    "8. Test domain name on browser (using http:// and not https://)\n",
    "\n",
    "### Certbot Config\n",
    "\n",
    "Run `sudo certbot --nginx` and follow prompts\n",
    "\n",
    "If successful, test domain name using https://\n",
    "\n",
    "## Changing Code will require Deployment Updates\n",
    "\n",
    "### VSCode\n",
    "\n",
    "1. `git pull` before making ANY changes\n",
    "\n",
    "2. Open terminal in VSC, `cd` into repo, run `python3 main.py`\n",
    "\n",
    "3. Commit often, locally\n",
    "\n",
    "4. Before updating deployment, open Docker Desktop app and test\n",
    "  - Use `cd` to enter repo, test `docker-compose up` or `sudo docker-compose up`\n",
    "\n",
    "5. After Docker is done building, type `http://localhost:8504` into browser. Read error messages. This uses up a lot of CPU resources, so feel free to close once finished testing.\n",
    "\n",
    "6. `Sync` changes or `git pull` if successful\n",
    "  - View `git status` if you can't push, resolve open files (`git restore` or `git commit`), then `git pull` and repeat steps as needed\n",
    "\n",
    "### Pulling Changes into AWS EC2 deployment\n",
    "\n",
    "AWS EC2 terminal:\n",
    "\n",
    "1. Navigate to repo using `cd`\n",
    "\n",
    "2. `docker-compose down` (when testing in browser with https://, should be down (502))\n",
    "\n",
    "3. `git pull`\n",
    "\n",
    "4. Rebuild docker container with `docker-compose up -d --build` (when testing in browswer with https://, should be up)\n",
    "\n",
    "### Optional, Troubleshooting checks on AWS EC2\n",
    "\n",
    "1. Try to curl: `curl localhost:8504`. Home page should match\n",
    "\n",
    "2. Run `docker-compose ps` to verify docker is up\n",
    "\n",
    "3. Run `docker ps`\n",
    "\n",
    "## Cockpit Navigation\n",
    "\n",
    "[See Mr. Mort's notes on Cockpit.](https://nighthawkcoders.github.io/portfolio_2025/2024/12/03/aws-deployment_IPYNB_2_.html)\n",
    "\n",
    "## Further Deployment Notes (#coding)\n",
    "\n",
    "To log into AWS EC2 deployment server, use [Cockpit backdoor](https://cockpit.stu.nighthawkcodingsociety.com/)\n",
    "\n",
    "U: ubuntu\n",
    "P hint: 3 Musketeers\n",
    "\n",
    "### First time install\n",
    "\n",
    "1. Login\n",
    "\n",
    "2. Clone repo\n",
    "\n",
    "3. In project dir\n",
    "  - Create new .env file w passwords\n",
    "  - Run `./scripts/db_init.py`\n",
    "\n",
    "4. In repo, run Docker commands:\n",
    "  - `docker-compose build`\n",
    "  - `docker-compose up -d`\n",
    "\n",
    "5. Test server\n",
    "  - `docker ps` (look for own application/port)\n",
    "  - `curl localhost:8504`\n",
    "\n",
    "After these steps, you are ready for AWS + Route53 Domain Name registration\n",
    "\n",
    "[AWS Console sign-in URL](https://nighthawkcodingsociety.signin.aws.amazon.com/console)\n",
    "\n",
    "U: ubuntu\n",
    "\n",
    "After AWS login, [register domain on Route53](https://us-east-1.console.aws.amazon.com/route53/v2/hostedzones?region=us-east-1#ListRecordSets/Z09610033A3V5NNQF4NH5)\n",
    "\n",
    "Test DNS server in terminal. Ensure it returrns IP address\n",
    "\n",
    "  - `cd` into repo\n",
    "  - `dig bookworm_backend.stu.nighthawkcodingsociety.com`\n",
    "\n",
    "Final steps: Nginx and Certbot (done live during graded Tech Talk)"
   ]
  }
 ],
 "metadata": {
  "kernelspec": {
   "display_name": "venv",
   "language": "python",
   "name": "python3"
  },
  "language_info": {
   "name": "python",
   "version": "3.12.3"
  }
 },
 "nbformat": 4,
 "nbformat_minor": 2
}
