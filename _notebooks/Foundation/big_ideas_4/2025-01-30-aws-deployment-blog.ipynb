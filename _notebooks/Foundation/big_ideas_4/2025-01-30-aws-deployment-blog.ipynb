{
 "cells": [
  {
   "cell_type": "code",
   "execution_count": null,
   "metadata": {},
   "outputs": [],
   "source": [
    "---\n",
    "toc: true\n",
    "layout: post\n",
    "title: AWS Deployment Qualification Blog\n",
    "description: Showing the requirements met to be ready to deploy the backend\n",
    "permalink: /_posts/Foundation/big_ideas_4/2025-01-30-aws-deployment-blog_IPYNB_2_.md\n",
    "categories: [GitHub Pages]\n",
    "type: ccc\n",
    "---"
   ]
  },
  {
   "cell_type": "markdown",
   "metadata": {},
   "source": []
  },
  {
   "cell_type": "markdown",
   "metadata": {},
   "source": []
  },
  {
   "cell_type": "markdown",
   "metadata": {},
   "source": [
    "### AWS Deployment Qualification Requirements"
   ]
  },
  {
   "cell_type": "markdown",
   "metadata": {},
   "source": [
    "2/6/25 Notes\n",
    "- Terminal: ls, docker ps\n",
    "docker ps | grep 050 #5th period group\n",
    "- to got to project: cd bookworms or bookworms_backend\n",
    "get a template\n",
    "\n",
    "sudo cp -f nginx_file /etc/nginx/site-available/\n",
    "\n",
    "cd into the the etc file above\n",
    "follow his naming conventions\n",
    "change file names to .stu\n",
    "\n",
    "cd sites-enabled/\n",
    "\n",
    "ln ..\n",
    "sudo ln -s ../sites-available/bookworms.stu . <!--makes a link to the directory-->\n",
    "\n",
    "sudo nginx -t <!--tells us what the error now-->\n",
    "\n",
    "Insecurities:\n",
    "sudo certbot --nginx\n",
    "\n",
    "creates a key-based security for your website --> allows users to securely access website\n",
    "\n",
    "db stuff\n",
    "ls instance/volumes/\n",
    "\n",
    "python -m venv venv\n",
    "pip install -r  requirements txt\n",
    "df .\n",
    "\n",
    "./scripts/db_init.py"
   ]
  }
 ],
 "metadata": {
  "kernelspec": {
   "display_name": "venv",
   "language": "python",
   "name": "python3"
  },
  "language_info": {
   "name": "python",
   "version": "3.12.3"
  }
 },
 "nbformat": 4,
 "nbformat_minor": 2
}
