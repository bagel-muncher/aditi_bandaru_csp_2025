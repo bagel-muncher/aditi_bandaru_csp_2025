{
 "cells": [
  {
   "cell_type": "markdown",
   "metadata": {},
   "source": [
    "---\n",
    "toc: true\n",
    "layout: post\n",
    "title: Girls in CS Student Panel\n",
    "description: What I heard at the event and what I took away from it\n",
    "permalink: /_posts/Foundation/big_ideas_4/2025-01-08-student-panel-blog-post_IPYNB_2_\n",
    "categories: [GitHub Pages]\n",
    "type: ccc\n",
    "---"
   ]
  },
  {
   "cell_type": "markdown",
   "metadata": {},
   "source": [
    "## Girls In CS - Student Panel\n",
    "Former Del Norte Students talk about their experiences (mainly CS related) in college and how AP CS classes have helped them in college"
   ]
  },
  {
   "cell_type": "markdown",
   "metadata": {},
   "source": [
    "To receive extra credit you must attend and write something in your Blog about the event.   We will try to get some group photos to verify your attendance.\n",
    "The something could contain a summary.   But, it must contain something  you will investigate, do, or change as a result of panelist discussion.\n",
    "You will share this with me at next live review or office hours for seed or grade boost.\n",
    "\n",
    "Don't make a summary because Mort was there. Talk about what they panel says that I can do or apply to myself."
   ]
  },
  {
   "cell_type": "markdown",
   "metadata": {},
   "source": [
    "Panel: David, Vivian, Michael, Edwin "
   ]
  },
  {
   "cell_type": "code",
   "execution_count": null,
   "metadata": {
    "vscode": {
     "languageId": "plaintext"
    }
   },
   "outputs": [],
   "source": [
    "# Notes \n",
    "\n",
    "Edwin says creativity is boundless\n",
    "\n",
    "Project-based learning --> final project\n",
    "\n",
    "David: explain code well -> learning through projects and explaining your work youself\n",
    "\n",
    "explain what I want to do and what my processes are\n",
    "\n",
    "Role of clear communication:\n",
    "- very important --> must be direct, clear, and concise --> so they will take you seriously\n",
    "- when presenting something --> know what points you want to talk about\n",
    "- Vivian's experience with clubs\n",
    "    - clubs will interview you\n",
    "    - big question: Tell me about yourself\n",
    "\n",
    "Documentation and Issues are very important \n",
    "- Show a clear history of our progress\n",
    "- agile methodology, while annoying, ends up being very helpful\n",
    "- David's class makes his do flow charts \n",
    "    - flow charts are a really big part of communication\n",
    "        - UML, what data to put in flowcharts\n",
    "* User Diagrams in AP CSP (not just technical questions)\n",
    "\n",
    "David is chief engineer and manages a lot of people --> communication and delegating tasks is key to efficiency \n",
    "Vivian's Hackathon - working together as a team and helping out others is important to being an efficient team\n",
    "\n",
    "EXTENSIVE Documentation\n",
    "    - David's CS class made him comment on every single line --> explaining every line of code\n",
    "\n",
    "College Application/Admissions Process\n",
    "    - Ivy Leagues don't take AP credits\n",
    "    - Connections and networking are incredibly important\n",
    "    - Talk about what impact I want to make\n",
    "    - Go to career fairs --> can make a lot of connections\n",
    "\n",
    "Recruitment for jobs\n",
    "    - Technical skills and abilities over GPA\n",
    "    - Create a portfolio of all your projects\n",
    "        - Create a webstite to put all you work on it --> online portfolio bc you can't fit everything in to a one-page resume"
   ]
  },
  {
   "cell_type": "markdown",
   "metadata": {},
   "source": [
    "# Proof of attendance\n",
    "<img src=\"{{site.baseurl}}/images/notebooks/IMG_1258.jpg\">"
   ]
  },
  {
   "cell_type": "markdown",
   "metadata": {},
   "source": [
    "# What I took away from the panel\n",
    "I really appreciated that a lot of the advice the panelists gave were not just applicable to AP CSP, but to real life. David and Edwin, especially, emphasized the important of organization and documentation. Seeig David's impressive flowchart made me realize how much more viable or realistic a progect appear when you map or layout all the aspects/parts your project has. Moving forward into Sprint 5, I will incorporate a clear checklist, burn down, and flowchart for my project, I clearly know what I want to do.\n",
    "<br>\n",
    "Another important takeaway from the panel was getting insight and advice on what to do in college. As a senior, I've finished my applications and am currently waiting for decisions to come out. While waiting, I keep wondering what I'm going to do in college, how I'm going to meet new people, and how to network. I'm honestly scared about networking becuase I'm pretty introverted and am nervous when in an area where I know now one. This anxiety, is something I working on overcoming, but the panelists gave some important insights on what to do. Networking is extremely important for beyong college when trying to achieve a stable and successful career. In college, I'll definitely join a couple of clubs and go to career fairs to make connections and increase my profile. \n",
    "<br>\n",
    "I'm planning to go pre-med for my undergraduate and then go to medical school. Even if my desired path is not related to CS, the panelists some information about how to impress people, and get into internships and programs that I will carry with me into college. The first one was to create a portfolio of everything I've done in college (all the projects, research, etc). The second was to have extensive documentation on those projects, so that people and recruiters know my skills. The last, was making sure I have advanced technical skills besides just a GPA because recuiters prioritize that. "
   ]
  }
 ],
 "metadata": {
  "language_info": {
   "name": "python"
  }
 },
 "nbformat": 4,
 "nbformat_minor": 2
}
