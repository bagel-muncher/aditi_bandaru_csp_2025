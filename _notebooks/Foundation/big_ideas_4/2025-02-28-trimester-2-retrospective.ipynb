{
 "cells": [
  {
   "cell_type": "markdown",
   "metadata": {},
   "source": [
    "---\n",
    "toc: true\n",
    "layout: post\n",
    "title: Trimester 2 Retrospective\n",
    "description: Reflection of what I've done during Trimester 2\n",
    "permalink: /_posts/Foundation/big_ideas_4/2025-02-28-trimester-2-retrospective\n",
    "categories: [GitHub Pages]\n",
    "type: ccc\n",
    "---"
   ]
  },
  {
   "cell_type": "markdown",
   "metadata": {},
   "source": [
    "\n",
    "The 10th point comes from ability to impress me in reflection and looking forward (Retrospective).\n",
    "Taking extreme interests in other projects and people, ie N@tM reviews, chronicle event/interests, personalization\n",
    "Reaching out and helping someone new to you get Final Exam materials organized. Performing practice/preliminary live review with this new person or Ms Pataki.\n",
    "Thinking what you will do next in CompSci, interests, classes, college, internships, career.\n",
    "Reflection on individual strengths, weaknesses\n",
    "Reflection on project by creating next steps plans, strengths, weaknesses\n",
    "Sending summary of what you will be talking about 24 hours in advance of Live review in DM\n",
    "Include in summary honest self grade assessment on point related topics, including reasoning.\n",
    "Being able to highlight all 10 points in 3 minutes of Live Review."
   ]
  },
  {
   "cell_type": "markdown",
   "metadata": {},
   "source": [
    "# DOCSE: 5 things I did over the course of Trimester 2\n",
    "<ol>\n",
    "    <li>I learned Python. Before Trimester 2, I was only knew how to code frontend. After the first review of Trimester 2, I started learning Python and doing my best to understand how backend worked. I've learned a lot, but I still have a long way to go.</li>\n",
    "    <li>I learned how to create and integrate APIs (Application Programming Interface).</li>\n",
    "    <li>I learned how to create a database and table with APIs and models using SQLAlchemy in backend and pull from other tables in my group</li>\n",
    "    <li>I learned how to test my backend with Postman and the importance of debugging</li>\n",
    "    <li>I developed collaboration and teamwork skills with my group and used them to make our project more coherent.</li>\n",
    "</ol>"
   ]
  },
  {
   "cell_type": "markdown",
   "metadata": {},
   "source": [
    "## Issues, Burndown, Presentation of my work\n",
    "\n",
    "### User Story (Starting Issue)\n",
    "<img src=\"{{site.baseurl}}/images/trimester_2_review/user_story.png\">\n",
    "\n",
    "### Burndown List\n",
    "<img src=\"{{site.baseurl}}/images/trimester_2_review/burndown.png\">\n",
    "\n",
    "### Kanban Board\n",
    "<img src=\"{{site.baseurl}}/images/trimester_2_review/kanban_board.png\">"
   ]
  },
  {
   "cell_type": "markdown",
   "metadata": {},
   "source": [
    "# Full Stack Project Demo"
   ]
  },
  {
   "cell_type": "code",
   "execution_count": null,
   "metadata": {},
   "outputs": [],
   "source": [
    "# Book to Add in Demo\n",
    "{\n",
    "    \"title\": \"A Feast for Crows\",\n",
    "    \"author\": \"George R. R. Martin\",\n",
    "    \"genre\": \"Fantasy\",\n",
    "    \"description\": \"A Feast for Crows by George R. R. Martin is the fourth book in the A Song of Ice and Fire series. The novel follows the aftermath of the War of the Five Kings as the Seven Kingdoms struggle to recover from the devastation and chaos. As new threats emerge and old rivalries resurface, the realm faces an uncertain future.\",\n",
    "    \"cover_image_url\": \"https://m.media-amazon.com/images/I/91Tpg6BX00L._UF1000,1000_QL80_.jpg\"\n",
    "}"
   ]
  },
  {
   "cell_type": "markdown",
   "metadata": {},
   "source": [
    "\n",
    "## CPT requirement highlights\n",
    "\n",
    "1. The User Story I created, contains the instructions on how to use the feature I developed and instructions for input and output. Regarding my code, I added many comments explaining what different aspects of the code did.\n",
    "2. I use at least one list to represent a collection of data that is stored and used to manage program complexity. This is an example of one of the lists in my program. This list is part of the code that create a table where data of new books added will be stored:\n",
    "    "
   ]
  },
  {
   "cell_type": "code",
   "execution_count": null,
   "metadata": {},
   "outputs": [],
   "source": [
    "# Static data\n",
    "def initSavedBookRecs(): # Function to initialize the saved book recommendations\n",
    "    saved_bookrecs_data = [\n",
    "        (\"A Clash of Kings\", \"George R. R. Martin\", \"Fantasy\", \"A Clash of Kings by George R. R. Martin is the second installment in the A Song of Ice and Fire series. The novel follows the chaos and power struggles that erupt across the Seven Kingdoms as multiple factions claim the Iron Throne following the death of King Robert Baratheon. Amid the political intrigue and battles, dark supernatural forces begin to rise, threatening the realm from the shadows.\", \"https://m.media-amazon.com/images/I/81ES5DAxprL.jpg\"),\n",
    "        (\"A Storm of Swords\", \"George R. R. Martin\", \"Fantasy\", \"A Storm of Swords by George R. R. Martin is the third book in the A Song of Ice and Fire series. The novel continues the epic tale of political intrigue, betrayal, and warfare in the Seven Kingdoms. As the War of the Five Kings rages on, alliances are forged and broken, and the fate of Westeros hangs in the balance.\", \"https://m.media-amazon.com/images/I/819o5XLwuFL.jpg\"),\n",
    "        #(\"A Feast for Crows\", \"George R. R. Martin\", \"Fantasy\", \"A Feast for Crows by George R. R. Martin is the fourth book in the A Song of Ice and Fire series. The novel follows the aftermath of the War of the Five Kings as the Seven Kingdoms struggle to recover from the devastation and chaos. As new threats emerge and old rivalries resurface, the realm faces an uncertain future.\", \"https://m.media-amazon.com/images/I/91Tpg6BX00L._UF1000,1000_QL80_.jpg\")\n",
    "    ]"
   ]
  },
  {
   "cell_type": "markdown",
   "metadata": {},
   "source": [
    "3. I have a procedure that contributes to the program's intended purpose. I define the procedure's name (random_bookrec), it's return type (JSON), and its parameter (genre): \n",
    "4. I have an algorithm that includes sequencing, selection, and iteration:"
   ]
  },
  {
   "cell_type": "code",
   "execution_count": null,
   "metadata": {},
   "outputs": [],
   "source": [
    "# Endpoint to get a random book\n",
    "@bookrec_api.route('/random_bookrec', methods=['GET'])\n",
    "def random_bookrec():\n",
    "    genre = request.args.get('genre')  # Get the 'genre' parameter from the request \n",
    "    #print(f\"Received genre: {genre}\")  # Debug log\n",
    "    \n",
    "    while True: # Loop until a book is found \n",
    "        book = get_random_bookrec(genre)\n",
    "        if book:\n",
    "            return jsonify({\n",
    "                'title': book.title,\n",
    "                'author': book.author,\n",
    "                'description': book.description,\n",
    "                'image_cover': book.cover_url\n",
    "            })\n",
    "        else: # Retry if no books are found in the database for the requested genre\n",
    "            return jsonify({\"error\": \"No books found, retrying in 5 seconds...\"}), 404\n",
    "            time.sleep(5)\n",
    "            #print(\"No books found, retrying in 5 seconds...\")"
   ]
  },
  {
   "cell_type": "markdown",
   "metadata": {},
   "source": [
    "5. In my frontend (Javascript), I have calls to my defined procedure (random_bookrec) as stated above.\n"
   ]
  },
  {
   "cell_type": "markdown",
   "metadata": {},
   "source": [
    "## N@tM feedback"
   ]
  },
  {
   "cell_type": "markdown",
   "metadata": {},
   "source": [
    "<img src=\"{{site.baseurl}}/images/trimester_2_review/natm_group_photo.png\">\n",
    "<br>\n",
    "Night at The Museum was surprisingly engaging. There were so many amazing projects on display and it was really fun learning about how they worked and could be used in real-world applications. For my group, I set up a Feedback form for people to scan and give comments about our project. We got several responses. For my feature, Justin suggested adding more to it, so that users could select multiple genre at once. His reasoning was that individual books can fall under more than one genre. When presenting my feature, I realized that I need to work a lot using computer science and coding terms. I tried to integrate it into my presentation, but I was a bit slow with it (it didn't really roll of my tongue).\n",
    "\n",
    "## Other group projects\n",
    "<strong>Star Wars Game</strong>\n",
    "<img src=\"{{site.baseurl}}/images/trimester_2_review/star_wars_game.jpg\">\n",
    "<br>\n",
    "<strong>Ian Wu's Project</strong>\n",
    "<img src=\"{{site.baseurl}}/images/trimester_2_review/ian_wu_project.jpg\">\n",
    "<br>"
   ]
  },
  {
   "cell_type": "markdown",
   "metadata": {},
   "source": [
    "# Project Feature Blog Write Up\n",
    "Procedure: Capture and paste two program code segments you developed\n",
    "during the administration of this task that contain a student-developed\n",
    "procedure that implements an algorithm used in your program and a call to\n",
    "that procedure. \n",
    "i. The first program code segment must be a student-developed\n",
    "procedure that:\n",
    "<ul>\n",
    "    <li>Defines the procedure’s name and return type (if necessary)</li>\n",
    "    <li>Contains and uses one or more parameters that have an effect on the functionality of the procedure</li>\n",
    "    <li>Implements an algorithm that includes sequencing, selection, and iteration </li>\n",
    "</ul>"
   ]
  },
  {
   "cell_type": "code",
   "execution_count": null,
   "metadata": {},
   "outputs": [],
   "source": [
    "# Endpoint to get a random book\n",
    "@bookrec_api.route('/random_bookrec', methods=['GET'])\n",
    "def random_bookrec():\n",
    "    genre = request.args.get('genre')  # Get the 'genre' parameter from the request \n",
    "    #print(f\"Received genre: {genre}\")  # Debug log\n",
    "    \n",
    "    while True: # Loop until a book is found \n",
    "        book = get_random_bookrec(genre)\n",
    "        if book:\n",
    "            return jsonify({\n",
    "                'title': book.title,\n",
    "                'author': book.author,\n",
    "                'description': book.description,\n",
    "                'image_cover': book.cover_url\n",
    "            })\n",
    "        else: # Retry if no books are found in the database for the requested genre\n",
    "            return jsonify({\"error\": \"No books found, retrying in 5 seconds...\"}), 404\n",
    "            time.sleep(5)\n",
    "            #print(\"No books found, retrying in 5 seconds...\")"
   ]
  },
  {
   "cell_type": "markdown",
   "metadata": {},
   "source": [
    "<strong>Explanation:</strong> The feature I developed for my group's project, a interactive website for book reader, was a random book generator. This feature will give the user some ideas of what to read. The user selects a genre to recieve a random book recommendation within the specified category. They can select a from the genres of nonfiction, historical fiction, suspense/thriller, fantasy, romance, action, classics, or mystery, and will be able to generate multiple random books. Each generated book comes with the title, author, book cover, and short summary. The books are selected from the database of books my group created in the backend.  \n",
    "<br>\n",
    "My feature's program defines the procedure’s name and return type in the backend code. The function to select a random book based on the selected genre and determine what information the frontend displays is named <strong>random_bookrec.</strong> The function (random_bookrec) returns a JSON (JavaScript Object Notation) response using jsonify. JSON is used to store and transfer data while the \"jsonify\" method converts Python code into JSON. Since the random_bookrec function is in Python and the selected book's information needs to be displayed in frontend, the Python data has to be converted into Javascript and this requires returning a JSON response.\n",
    "<br>\n",
    "<br>\n",
    "My feature contains and uses one or more parameters that have an effect on the functionality of the procedure which can be seen in the function, random_bookrec\" using the genre parameter obtained from the request arguments (request.args.get('genre')). This parameter affects the functionality by filtering the books based on the genre.\n",
    "<br>\n",
    "My feature implements an algorithm that includes sequencing, selection, and iteration:\n",
    "    <ul>\n",
    "        <li>Sequencing: The steps are executed in a specific order, such as getting the genre, entering the loop, and checking if a book is found.</li>\n",
    "        <li>Selection: The if statement checks if a book is found and returns the book details if true. Otherwise, it returns an error message.</li>\n",
    "        <li>Iteration: The while True loop continues to execute until a book is found.</li>\n",
    "    </ul>"
   ]
  },
  {
   "cell_type": "markdown",
   "metadata": {},
   "source": [
    "ii. The second program code segment must show where your\n",
    "student-developed procedure is being called in your program."
   ]
  },
  {
   "cell_type": "code",
   "execution_count": null,
   "metadata": {
    "vscode": {
     "languageId": "javascript"
    }
   },
   "outputs": [],
   "source": [
    "<script type=\"module\">\n",
    "    function getRandomBook() { //The function that calls the Python segment\n",
    "    //Get the selected genre from the dropdown\n",
    "    const genreKey = document.getElementById(\"genre\").value;\n",
    "    const query = genreMap[genreKey] || \"Nonfiction\"; \n",
    "    //\n",
    "    const apiUrl = `${pythonURI}/api/random_bookrec?genre=${encodeURIComponent(query)}`;\n",
    "    //Fetch data from the backend API\n",
    "    fetch(apiUrl, fetchOptions) // Flask server endpoint\n",
    "        .then((response) => {\n",
    "\n",
    "                if (!response.ok) {\n",
    "                    throw new Error('No books found for the selected genre.');\n",
    "                }\n",
    "                return response.json();\n",
    "            })\n",
    "            .then((book) => {\n",
    "                displayBook(book); // Display the book details on the page\n",
    "            })\n",
    "            .catch((error) => {\n",
    "                console.error(\"Error fetching data:\", error);\n",
    "                alert(\"An error occurred while fetching the book. Please try again.\");\n",
    "            });\n",
    "    }\n",
    "    function displayBook(book) {\n",
    "        const { title, author, description, image_cover } = book;\n",
    "        document.getElementById(\"book_title\").innerText = title;\n",
    "        document.getElementById(\"book_author\").innerText = `By: ${author}`;\n",
    "        document.getElementById(\"book_description\").innerText = description;\n",
    "        document.getElementById(\"book_cover\").src = image_cover;\n",
    "        document.getElementById(\"book_cover\").style.display = image_cover ? \"block\" : \"none\";\n",
    "        document.getElementById(\"genre_selection\").style.display = \"none\";\n",
    "        document.getElementById(\"book_display\").style.display = \"block\";\n",
    "    }\n",
    "    function startOver() { //redirects the book display back to the default display\n",
    "        document.getElementById(\"genre_selection\").style.display = \"block\";\n",
    "        document.getElementById(\"book_display\").style.display = \"none\";\n",
    "    }\n"
   ]
  },
  {
   "cell_type": "markdown",
   "metadata": {},
   "source": [
    "<strong>Explanation:</strong> The Python code segement (from my bookrec.py API file) in the first part defines an endpoint /random_bookrec that returns a random book recommendation based on the genre specified in the request. This endpoint is being called in the JavaScript function getRandomBook() in my random_book_recommender.md file.\n",
    "\n",
    "<ol>\n",
    "    <li>User Interaction: The user selects a genre from the dropdown menu and clicks the \"Get a Book!\" button. This triggers the getRandomBook() function.</li>\n",
    "    <li>Retrieve Selected Genre: The getRandomBook() function retrieves the selected genre from the dropdown menu using document.getElementById(\"genre\").value.</li>\n",
    "    <li>Map Genre to Query Parameter: The selected genre is mapped to a query parameter using the genreMap object. If the genre is not mapped, it defaults to \"Nonfiction\".</li>\n",
    "    <li>Build API URL: The function constructs the API URL with the selected genre as a query parameter: ${pythonURI}/api/random_bookrec?genre=${encodeURIComponent(query)}.</li>\n",
    "    <li>Fetch Data from Backend API: The function makes a fetch request to the /random_bookrec endpoint with the constructed URL. Handling API response:</li>\n",
    "        <ul>\n",
    "            <li>If the response is not OK (status code is not 200), it throws an error with the message 'No books found for the selected genre.'.</li>\n",
    "            <li>If the response is OK, it parses the JSON response and calls the displayBook(book) function to display the book details on the page.</li>\n",
    "        </ul>\n",
    "    <li>Display Book Details: The displayBook(book) function updates the DOM elements with the book details (title, author, description, and cover image).</li>\n",
    "    <li>The Python endpoint /random_bookrec does the following actions:</li>\n",
    "        <ul>\n",
    "            <li>Retrieve Genre Parameter: It retrieves the genre parameter from the request.</li>\n",
    "            <li>Loop Until a Book is Found: It enters a loop to find a random book of the specified genre using the get_random_bookrec(genre) function.</li>\n",
    "            <li>Return Book Details: If a book is found, it returns the book details (title, author, description, and cover image) as a JSON response.\n",
    "If no books are found, it returns a JSON response with an error message and a 404 status code.</li>\n",
    "        </ul>\n",
    "</ol>"
   ]
  },
  {
   "cell_type": "markdown",
   "metadata": {},
   "source": [
    "<strong>List: </strong>Capture and paste two program code segments you developed during\n",
    "the administration of this task that contain a list (or other collection type)\n",
    "being used to manage complexity in your program.\n",
    "i. The first program code segment must show how data have been\n",
    "stored in the list."
   ]
  },
  {
   "cell_type": "code",
   "execution_count": null,
   "metadata": {},
   "outputs": [],
   "source": [
    "# Static data\n",
    "def initSavedBookRecs(): # Function to initialize the saved book recommendations\n",
    "    saved_bookrecs_data = [\n",
    "        (\"A Clash of Kings\", \"George R. R. Martin\", \"Fantasy\", \"A Clash of Kings by George R. R. Martin is the second installment in the A Song of Ice and Fire series. The novel follows the chaos and power struggles that erupt across the Seven Kingdoms as multiple factions claim the Iron Throne following the death of King Robert Baratheon. Amid the political intrigue and battles, dark supernatural forces begin to rise, threatening the realm from the shadows.\", \"https://m.media-amazon.com/images/I/81ES5DAxprL.jpg\"),\n",
    "        (\"A Storm of Swords\", \"George R. R. Martin\", \"Fantasy\", \"A Storm of Swords by George R. R. Martin is the third book in the A Song of Ice and Fire series. The novel continues the epic tale of political intrigue, betrayal, and warfare in the Seven Kingdoms. As the War of the Five Kings rages on, alliances are forged and broken, and the fate of Westeros hangs in the balance.\", \"https://m.media-amazon.com/images/I/819o5XLwuFL.jpg\"),\n",
    "        #(\"A Feast for Crows\", \"George R. R. Martin\", \"Fantasy\", \"A Feast for Crows by George R. R. Martin is the fourth book in the A Song of Ice and Fire series. The novel follows the aftermath of the War of the Five Kings as the Seven Kingdoms struggle to recover from the devastation and chaos. As new threats emerge and old rivalries resurface, the realm faces an uncertain future.\", \"https://m.media-amazon.com/images/I/91Tpg6BX00L._UF1000,1000_QL80_.jpg\")\n",
    "    ]"
   ]
  },
  {
   "cell_type": "markdown",
   "metadata": {},
   "source": [
    "<strong>Explanation: </strong> In the initSavedBookRecs function, data is stored in the saved_bookrecs_data list. This segment initializes a list called saved_bookrecs_data with tuples containing book information. The list saved_bookrecs_data stores multiple tuples, each representing a book with its title, author, genre, description, and cover URL. Using a list to store book data simplifies the process of initializing and managing multiple book records."
   ]
  },
  {
   "cell_type": "markdown",
   "metadata": {},
   "source": [
    "ii. The second program code segment must show the data in the\n",
    "same list being used, such as creating new data from the existing\n",
    "data or accessing multiple elements in the list, as part of fulfilling\n",
    "the program’s purpose."
   ]
  },
  {
   "cell_type": "code",
   "execution_count": null,
   "metadata": {},
   "outputs": [],
   "source": [
    "for title, author, genre, description, cover_url in saved_bookrecs_data: # Iterate through the saved book recommendations\n",
    "        # Check if the book already exists in the database\n",
    "        if not SaveBookRec.query.filter_by(title=title, author=author).first():\n",
    "            new_book = SaveBookRec(title=title, author=author, genre=genre, description=description, cover_url=cover_url)\n",
    "            db.session.add(new_book)\n",
    "\n",
    "    try: # Try to add the new book to the database\n",
    "        db.session.commit() # Commit the changes to the database\n",
    "    except Exception as e: # If an error occurs, rollback the changes and raise the error\n",
    "        db.session.rollback() # Rollback the changes\n",
    "        raise e # Raise the error"
   ]
  },
  {
   "cell_type": "markdown",
   "metadata": {},
   "source": [
    "<strong>Explanation:</strong> In the same initSavedBookRecs function, the data in the saved_bookrecs_data list is used to create new records in the database. This segment iterates over the saved_bookrecs_data list and uses the data to create new records in the SaveBookRec table. The list saved_bookrecs_data is accessed element by element, and for each tuple, a new SaveBookRec object is created and added to the database session. Iterating over the list and using its data to populate the database simplifies the process of initializing the database with predefined book records."
   ]
  },
  {
   "cell_type": "markdown",
   "metadata": {},
   "source": [
    "# MCQ\n",
    "<img src=\"{{site.baseurl}}/images/trimester_2_review/mcq_score.png\">\n",
    "\n",
    "## Reviewing Mistakes\n",
    "<br>\n",
    "\n",
    "### Q11 Color represented by binary triplet\n",
    "<br>\n",
    "<p>Skill: 2.B</p>\n",
    "<img src=\"{{site.baseurl}}/images/trimester_2_review/question 11.png\">\n",
    "<br>\n",
    "\n",
    "### Q14 Print digits algorithm\n",
    "<br>\n",
    "<p>Skill: 4.B</p>\n",
    "<img src=\"{{site.baseurl}}/images/trimester_2_review/question 14.png\">\n",
    "<br>\n",
    "\n",
    "### Q17 Data represented by bit sequences\n",
    "<br>\n",
    "<p>Skill: 3.C</p>\n",
    "<img src=\"{{site.baseurl}}/images/trimester_2_review/question 17.png\">\n",
    "<br>\n",
    "\n",
    "### Q23 Flowchart to set available\n",
    "<br>\n",
    "<p>Skill: 1.D</p>\n",
    "<img src=\"{{site.baseurl}}/images/trimester_2_review/question 23.png\">\n",
    "<br>\n",
    "\n",
    "### Q50 Reasonable time algorithms\n",
    "<br>\n",
    "<p>Skill: 1.D</p>\n",
    "<img src=\"{{site.baseurl}}/images/trimester_2_review/question 50.png\">\n",
    "<br>\n",
    "\n",
    "### Q56 Compare execution times of two versions\n",
    "<br>\n",
    "<p>Skill: 1.D</p>\n",
    "<img src=\"{{site.baseurl}}/images/trimester_2_review/question 56 part 1.png\">\n",
    "<img src=\"{{site.baseurl}}/images/trimester_2_review/question 56 part 2.png\">\n",
    "<br>\n",
    "\n",
    "### Q67 Error in numOccurrences procedure\n",
    "<br>\n",
    "<p>Skill: 4.C</p>\n",
    "<img src=\"{{site.baseurl}}/images/trimester_2_review/question 67.png\">\n",
    "<br>\n",
    "\n",
    "### Reflection\n",
    "<p>I was kind of surprised by my score because I know there were more questions where I had doubts - namely the questions of binary. I learned about binary a while ago, but it got confusing and I forgot about it. I should've gotten more binary questions wrong, but I got some of them right because I guessed C and that was the right answer. Compared to the MCQ I took at the begginning of the trimester, this MCQ was much better because I was able to understand the questions better overall. The skill I missed the most was 1.D. </p>\n",
    "<ul>\n",
    "    <li>Skill 1.D: Design and evaluate computation solutions for a purpose. Evaluate solution options.</li>\n",
    "    <li>Skill 2.B: Develop and implement algorithms. Impement and apply an algorithm.</li>\n",
    "    <li>Skill 4.B: Evaluate and test algorithms and programs. Determine the result of code segments.</li>\n",
    "    <li>SKill 3.C: Develope programs that incorporate abstractions. Explain how abstraction manages complexity</li>\n",
    "    <li>Skill 4.C: Evaluate and test algorithms and programs. Identify and correct errors in algorithms and programs, including error discovery through testing.</li>\n",
    "</ul>\n",
    "<p>I got a couple of 1.D questions right. The questions I got wrong mainly had to do with algorithms and understanding their execution time. That is a weakness that I will work on understanding and improving on. I also need to spend more time working on understanding algorithms</p>"
   ]
  },
  {
   "cell_type": "markdown",
   "metadata": {},
   "source": [
    "# Reflection"
   ]
  },
  {
   "cell_type": "markdown",
   "metadata": {},
   "source": [
    "<ol>\n",
    "    <li>What's next for me in CompSci, interests, classes, college, internships, career.</li>\n",
    "        <ul>\n",
    "            <li>I'm going to college next year. I'm planning to major in Biomedical Engineering as a pre-med student. However, as an engineering student and someone who is planning to do research, I am expecting that I'll have to doing coding. After graduating, I'm still going to continue learning code and work on building a portfolio.</li>\n",
    "        </ul>\n",
    "    <li>Reflection on individual strengths, weaknesses</li>\n",
    "        <ul>\n",
    "            <li>Strengths: Collaboration, Patience, Perseverance</li>\n",
    "            <li>Weaknesses: Communication, \"Stage-fright\", Fear of failing</li>\n",
    "        </ul>\n",
    "    <li>Reflection on project by creating next steps plans, strengths, weaknesses</li>\n",
    "        <ul>\n",
    "            <li>Next Steps: For my individual CPT project, I need to revert my code back to using my own API and Model (bookrec). It's currently using Maryam's API and model. I also believe that I have some unnecessary segments of code in my API/model that isn't allowing the code to function smoothly, so I need to remove those segments. I'd also like to add the N@tM feedback I got to my feature (Justin's feedback).</li>\n",
    "            <li>Strengths: I meet all CPT requirements, I have all the CRUD methods, and my feature is individualistic and relevant to my group's project</li>\n",
    "            <li>Weaknesses: I'm using Maryam's suggest API and Model right to maintain coherency with out features. If I continue using her feature, I need to find a way so that the books added on our features don't show up on both features. Sometimes errors show up even though the code works, so I need to figure out why the errors are showing up and fix it.</li>\n",
    "        </ul>\n",
    "</ol>"
   ]
  },
  {
   "cell_type": "markdown",
   "metadata": {},
   "source": [
    "## Self Assessment\n",
    "<a href=\"https://github.com/bagel-muncher/aditi_bandaru_csp_2025/issues/12\">Self-Assessment issue</a>"
   ]
  }
 ],
 "metadata": {
  "kernelspec": {
   "display_name": "venv",
   "language": "python",
   "name": "python3"
  },
  "language_info": {
   "name": "python",
   "version": "3.12.3"
  }
 },
 "nbformat": 4,
 "nbformat_minor": 2
}
