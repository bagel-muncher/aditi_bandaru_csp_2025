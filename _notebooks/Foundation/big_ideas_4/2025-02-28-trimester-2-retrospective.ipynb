{
 "cells": [
  {
   "cell_type": "markdown",
   "metadata": {},
   "source": [
    "---\n",
    "toc: true\n",
    "layout: post\n",
    "title: Trimester 2 Retrospective\n",
    "description: Reflection of what I've done during Trimester 2\n",
    "permalink: /_posts/Foundation/big_ideas_4/2025-02-28-trimester-2-retrospective\n",
    "categories: [GitHub Pages]\n",
    "type: ccc\n",
    "---"
   ]
  },
  {
   "cell_type": "markdown",
   "metadata": {},
   "source": [
    "5 points - 5 things you did over 12 weeks, Issues, burndown, presentation\n",
    "2 points - Full Stack Project Demo, including CPT requirement highlights, and N@tM feedback\n",
    "1 point - Project Feature blog write up, using CPT/FRQ language\n",
    "1 point - MCQ\n",
    "\n",
    "The 10th point comes from ability to impress me in reflection and looking forward (Retrospective).\n",
    "Taking extreme interests in other projects and people, ie N@tM reviews, chronicle event/interests, personalization\n",
    "Reaching out and helping someone new to you get Final Exam materials organized. Performing practice/preliminary live review with this new person or Ms Pataki.\n",
    "Thinking what you will do next in CompSci, interests, classes, college, internships, career.\n",
    "Reflection on individual strengths, weaknesses\n",
    "Reflection on project by creating next steps plans, strengths, weaknesses\n",
    "Sending summary of what you will be talking about 24 hours in advance of Live review in DM\n",
    "Include in summary honest self grade assessment on point related topics, including reasoning.\n",
    "Being able to highlight all 10 points in 3 minutes of Live Review."
   ]
  },
  {
   "cell_type": "markdown",
   "metadata": {},
   "source": [
    "# DOCSE: 5 things I did over the course of Trimester 2\n",
    "<ol>\n",
    "    <li>I learned Python. Before Trimester 2, I was only knew how to code frontend. After the first review of Trimester 2, I started learning Python and doing my best to understand how backend worked. I've learned a lot, but I still have a long way to go.</li>\n",
    "    <li>I learned how to create and incorporate APIs (Application Programming Interface).</li>\n",
    "    <li>I learned how to create a database and table with APIs and models using SQLAlchemy in backend and pull from other tables in my group</li>\n",
    "    <li>I learned how to test my backend with Postman and how the importance of debugging</li>\n",
    "    <li>I developed collaboration and teamwork skills with my group and used them to make our project more coherent.</li>\n",
    "</ol>"
   ]
  },
  {
   "cell_type": "markdown",
   "metadata": {},
   "source": [
    "## Issues, Burndown, Presentation of my work\n",
    "\n",
    "### User Story (Starting Issue)\n",
    "<img src=\"{{site.baseurl}}/images/trimester_2_review/user_story.png\">\n",
    "\n",
    "### Burndown List\n",
    "<img src=\"{{site.baseurl}}/images/trimester_2_review/burndown.png\">\n",
    "\n",
    "### Kanban Board\n",
    "<img src=\"{{site.baseurl}}/images/trimester_2_review/kanban_board.png\">"
   ]
  },
  {
   "cell_type": "code",
   "execution_count": null,
   "metadata": {},
   "outputs": [],
   "source": [
    "# Book to Add in Demo\n",
    "{\n",
    "    \"title\": \"A Feast for Crows\",\n",
    "    \"author\": \"George R. R. Martin\",\n",
    "    \"genre\": \"Fantasy\",\n",
    "    \"description\": \"A Feast for Crows by George R. R. Martin is the fourth book in the A Song of Ice and Fire series. The novel follows the aftermath of the War of the Five Kings as the Seven Kingdoms struggle to recover from the devastation and chaos. As new threats emerge and old rivalries resurface, the realm faces an uncertain future.\",\n",
    "    \"cover_image_url\": \"https://m.media-amazon.com/images/I/91Tpg6BX00L._UF1000,1000_QL80_.jpg\"\n",
    "}"
   ]
  },
  {
   "cell_type": "markdown",
   "metadata": {},
   "source": [
    "# Full Stack Project Demo\n",
    "\n",
    "This is demonstration of a user adding a new book reccomendation to my feature through the frontend. This is what the page looks like at first:\n",
    "<br>\n",
    "<img src=\"{{site.baseurl}}/images/notebooks/sprint_5_live_review/bookrec_start_page.png\">\n",
    "<br>\n",
    "The form to add a new book appears when the user clicks the \"Add a New Book Reccomendation\" button:\n",
    "<br>\n",
    "<img src=\"{{site.baseurl}}/images/notebooks/sprint_5_live_review/add_bookrec_empty_form.png\">\n",
    "<br>\n",
    "This is the filled out form (Each input box is required):\n",
    "<br>\n",
    "<img src=\"{{site.baseurl}}/images/notebooks/sprint_5_live_review/filled_bookrec_form.png\">\n",
    "<br>\n",
    "Once the user has filled out the form and has clicked the \"Done\" button, a console message appears to confirm that their form has been added to the backend table:\n",
    "<br>\n",
    "<img src=\"{{site.baseurl}}/images/notebooks/sprint_5_live_review/bookrec_form_done.png\">\n",
    "<br>\n",
    "After clicking \"Done\", the new book appears in the backend table (number 3):\n",
    "<br>\n",
    "<img src=\"{{site.baseurl}}/images/notebooks/sprint_5_live_review/backend_bookrec_added.png\">\n",
    "<br>\n",
    "\n",
    "CPT requirement highlights"
   ]
  },
  {
   "cell_type": "markdown",
   "metadata": {},
   "source": [
    "## N@tM feedback"
   ]
  },
  {
   "cell_type": "markdown",
   "metadata": {},
   "source": [
    "# Project Feature Blog Write Up\n",
    "Procedure: Capture and paste two program code segments you developed\n",
    "during the administration of this task that contain a student-developed\n",
    "procedure that implements an algorithm used in your program and a call to\n",
    "that procedure. \n",
    "i. The first program code segment must be a student-developed\n",
    "procedure that:\n",
    "□ Defines the procedure’s name and return type (if necessary)\n",
    "□ Contains and uses one or more parameters that have an effect on\n",
    "the functionality of the procedure\n",
    "□ Implements an algorithm that includes sequencing, selection, and\n",
    "iteration"
   ]
  },
  {
   "cell_type": "code",
   "execution_count": null,
   "metadata": {},
   "outputs": [],
   "source": []
  },
  {
   "cell_type": "markdown",
   "metadata": {},
   "source": [
    "ii. The second program code segment must show where your\n",
    "student-developed procedure is being called in your program."
   ]
  },
  {
   "cell_type": "code",
   "execution_count": null,
   "metadata": {},
   "outputs": [],
   "source": []
  },
  {
   "cell_type": "markdown",
   "metadata": {},
   "source": [
    "List: Capture and paste two program code segments you developed during\n",
    "the administration of this task that contain a list (or other collection type)\n",
    "being used to manage complexity in your program.\n",
    "i. The first program code segment must show how data have been\n",
    "stored in the list."
   ]
  },
  {
   "cell_type": "code",
   "execution_count": null,
   "metadata": {},
   "outputs": [],
   "source": []
  },
  {
   "cell_type": "markdown",
   "metadata": {},
   "source": [
    "ii. The second program code segment must show the data in the\n",
    "same list being used, such as creating new data from the existing\n",
    "data or accessing multiple elements in the list, as part of fulfilling\n",
    "the program’s purpose."
   ]
  },
  {
   "cell_type": "code",
   "execution_count": null,
   "metadata": {},
   "outputs": [],
   "source": []
  },
  {
   "cell_type": "markdown",
   "metadata": {},
   "source": [
    "# MCQ\n",
    "<img src=\"{{site.baseurl}}/images/trimester_2_review/mcq_score.png\">\n",
    "\n",
    "## Reviewing Mistakes\n",
    "<br>\n",
    "### Q11 Color represented by binary triplet\n",
    "<br>\n",
    "<img src=\"{{site.baseurl}}/images/trimester_2_review/question 11.png\">\n",
    "<br>\n",
    "\n",
    "### Q14 Print digits algorithm\n",
    "<br>\n",
    "<img src=\"{{site.baseurl}}/images/trimester_2_review/question 14.png\">\n",
    "<br>\n",
    "\n",
    "### Q17 Data represented by bit sequences\n",
    "<br>\n",
    "<img src=\"{{site.baseurl}}/images/trimester_2_review/question 17.png\">\n",
    "<br>\n",
    "\n",
    "### Q23 Flowchart to set available\n",
    "<br>\n",
    "<img src=\"{{site.baseurl}}/images/trimester_2_review/question 23.png\">\n",
    "<br>\n",
    "\n",
    "### Q50 Reasonable time algorithms\n",
    "<br>\n",
    "<img src=\"{{site.baseurl}}/images/trimester_2_review/question 50.png\">\n",
    "<br>\n",
    "\n",
    "### Q56 Compare execution times of two versions\n",
    "<br>\n",
    "<img src=\"{{site.baseurl}}/images/trimester_2_review/question 56 part 1.png\">\n",
    "<img src=\"{{site.baseurl}}/images/trimester_2_review/question 56 part 2.png\">\n",
    "<br>\n",
    "\n",
    "### Q67 Error in numOccurrences procedure\n",
    "<br>\n",
    "<img src=\"{{site.baseurl}}/images/trimester_2_review/question 67.png\">\n",
    "<br>\n"
   ]
  }
 ],
 "metadata": {
  "kernelspec": {
   "display_name": "venv",
   "language": "python",
   "name": "python3"
  },
  "language_info": {
   "name": "python",
   "version": "3.12.3"
  }
 },
 "nbformat": 4,
 "nbformat_minor": 2
}
