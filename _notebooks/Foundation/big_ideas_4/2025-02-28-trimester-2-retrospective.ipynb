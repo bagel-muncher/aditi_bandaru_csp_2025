{
 "cells": [
  {
   "cell_type": "markdown",
   "metadata": {},
   "source": [
    "---\n",
    "toc: true\n",
    "layout: post\n",
    "title: Trimester 2 Retrospective\n",
    "description: Reflection of what I've done during Trimester 2\n",
    "permalink: /_posts/Foundation/big_ideas_4/2025-02-28-trimester-2-retrospective\n",
    "categories: [GitHub Pages]\n",
    "type: ccc\n",
    "---"
   ]
  },
  {
   "cell_type": "markdown",
   "metadata": {},
   "source": [
    "5 points - 5 things you did over 12 weeks, Issues, burndown, presentation\n",
    "2 points - Full Stack Project Demo, including CPT requirement highlights, and N@tM feedback\n",
    "1 point - Project Feature blog write up, using CPT/FRQ language\n",
    "1 point - MCQ\n",
    "\n",
    "The 10th point comes from ability to impress me in reflection and looking forward (Retrospective).\n",
    "Taking extreme interests in other projects and people, ie N@tM reviews, chronicle event/interests, personalization\n",
    "Reaching out and helping someone new to you get Final Exam materials organized. Performing practice/preliminary live review with this new person or Ms Pataki.\n",
    "Thinking what you will do next in CompSci, interests, classes, college, internships, career.\n",
    "Reflection on individual strengths, weaknesses\n",
    "Reflection on project by creating next steps plans, strengths, weaknesses\n",
    "Sending summary of what you will be talking about 24 hours in advance of Live review in DM\n",
    "Include in summary honest self grade assessment on point related topics, including reasoning.\n",
    "Being able to highlight all 10 points in 3 minutes of Live Review."
   ]
  },
  {
   "cell_type": "markdown",
   "metadata": {},
   "source": [
    "# DOCSE: 5 things I did over the course of Trimester 2\n",
    "<ol>\n",
    "    <li>I learned Python. Before Trimester 2, I was only knew how to code frontend. After the first review of Trimester 2, I started learning Python and doing my best to understand how backend worked. I've learned a lot, but I still have a long way to go.</li>\n",
    "    <li>I learned how to create and incorporate APIs (Application Programming Interface).</li>\n",
    "    <li>I learned how to create databases and tables with APIs and models in backend and pull from other tables in my group</li>\n",
    "    <li>I learned how to test my backend with Postman and how to backup and restore my data.</li>\n",
    "    <li>I incorporated all the CRUD (Create, Read, Update, Delete) methods into my feature (the random book generator and adding book reccomendations).</li>\n",
    "</ol>"
   ]
  },
  {
   "cell_type": "markdown",
   "metadata": {},
   "source": [
    "## Issues, Burndown, Presentation of my work"
   ]
  },
  {
   "cell_type": "markdown",
   "metadata": {},
   "source": [
    "# Full Stack Project Demo\n",
    "CPT requirement highlights"
   ]
  },
  {
   "cell_type": "markdown",
   "metadata": {},
   "source": [
    "## N@tM feedback"
   ]
  },
  {
   "cell_type": "markdown",
   "metadata": {},
   "source": [
    "# Project Feature Blog Write Up"
   ]
  },
  {
   "cell_type": "markdown",
   "metadata": {},
   "source": [
    "# MCQ"
   ]
  }
 ],
 "metadata": {
  "kernelspec": {
   "display_name": "venv",
   "language": "python",
   "name": "python3"
  },
  "language_info": {
   "name": "python",
   "version": "3.12.3"
  }
 },
 "nbformat": 4,
 "nbformat_minor": 2
}
