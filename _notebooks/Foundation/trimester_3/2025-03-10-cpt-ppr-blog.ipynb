{
 "cells": [
  {
   "cell_type": "raw",
   "metadata": {
    "vscode": {
     "languageId": "raw"
    }
   },
   "source": [
    "---\n",
    "toc: true\n",
    "layout: post\n",
    "title: CPT and PPT\n",
    "description: Blog for AP CSP Exam \n",
    "permalink: /_posts/Foundation/trimester_3/2025-03-10-cpt-ppr-blog_IPYNB_2_\n",
    "categories: [GitHub Pages]\n",
    "comments: true\n",
    "type: ccc\n",
    "---"
   ]
  },
  {
   "cell_type": "markdown",
   "metadata": {},
   "source": [
    "# Personalized Project Reference (PPR)\n",
    "<br>\n",
    "Procedure: Capture and paste two program code segments you developed\n",
    "during the administration of this task that contain a student-developed\n",
    "procedure that implements an algorithm used in your program and a call to\n",
    "that procedure. \n",
    "i. The first program code segment must be a student-developed\n",
    "procedure that:\n",
    "<ul>\n",
    "    <li>Defines the procedure’s name and return type (if necessary)</li>\n",
    "    <li>Contains and uses one or more parameters that have an effect on the functionality of the procedure</li>\n",
    "    <li>Implements an algorithm that includes sequencing, selection, and iteration </li>\n",
    "</ul>"
   ]
  },
  {
   "cell_type": "code",
   "execution_count": null,
   "metadata": {},
   "outputs": [],
   "source": [
    "from model.librarydb import Book\n",
    "import random\n",
    "\n",
    "def get_random_bookrec(genre=None):\n",
    "    if genre:  \n",
    "        books = Book.query.filter(Book.genre.ilike(f'%{genre}%')).all()  \n",
    "    else:\n",
    "        books = Book.query.all()  \n",
    "    \n",
    "    return random.choice(books) if books else None  \n"
   ]
  },
  {
   "cell_type": "markdown",
   "metadata": {},
   "source": [
    "<strong>Explanation:</strong> The feature I developed for my group's project, a interactive website for book reader, was a random book generator. This feature will give the user some ideas of what to read. The user selects a genre to recieve a random book recommendation within the specified category. They can select a from the genres of nonfiction, historical fiction, suspense/thriller, fantasy, romance, action, classics, or mystery, and will be able to generate multiple random books. Each generated book comes with the title, author, book cover, and short summary. The books are selected from the database of books my group created in the backend.  \n",
    "<br>\n",
    "My feature's program defines the procedure’s name and return type in the backend code. The function to select a random book based on the selected genre and determine what information the frontend displays is named <strong>random_bookrec.</strong> The function (random_bookrec) returns a JSON (JavaScript Object Notation) response using jsonify. JSON is used to store and transfer data while the \"jsonify\" method converts Python code into JSON. Since the random_bookrec function is in Python and the selected book's information needs to be displayed in frontend, the Python data has to be converted into Javascript and this requires returning a JSON response.\n",
    "<br>\n",
    "<br>\n",
    "My feature contains and uses one or more parameters that have an effect on the functionality of the procedure which can be seen in the function, random_bookrec\" using the genre parameter obtained from the request arguments (request.args.get('genre')). This parameter affects the functionality by filtering the books based on the genre.\n",
    "<br>\n",
    "My feature implements an algorithm that includes sequencing, selection, and iteration:\n",
    "    <ul>\n",
    "        <li>Sequencing: The steps are executed in a specific order, such as getting the genre, entering the loop, and checking if a book is found.</li>\n",
    "        <li>Selection: The if statement checks if a book is found and returns the book details if true. Otherwise, it returns an error message.</li>\n",
    "        <li>Iteration: The while True loop continues to execute until a book is found.</li>\n",
    "    </ul>"
   ]
  },
  {
   "cell_type": "markdown",
   "metadata": {},
   "source": [
    "ii. The second program code segment must show where your\n",
    "student-developed procedure is being called in your program."
   ]
  },
  {
   "cell_type": "code",
   "execution_count": null,
   "metadata": {},
   "outputs": [],
   "source": [
    "@bookrec_api.route('/random_bookrec', methods=['GET'])\n",
    "def random_bookrec():\n",
    "    genre = request.args.get('genre')  \n",
    "    \n",
    "    while True:   \n",
    "        book = get_random_bookrec(genre)  \n",
    "        if book:\n",
    "            return jsonify({\n",
    "                'title': book.title,\n",
    "                'author': book.author,\n",
    "                'description': book.description,\n",
    "                'image_cover': book.cover_url\n",
    "            })\n",
    "        else:  \n",
    "            return jsonify({\"error\": \"No books found, retrying in 5 seconds...\"}), 404"
   ]
  },
  {
   "cell_type": "markdown",
   "metadata": {},
   "source": [
    "<strong>Explanation:</strong> The Python code segement (from my bookrec.py API file) in the first part defines an endpoint /random_bookrec that returns a random book recommendation based on the genre specified in the request. This endpoint is being called in the JavaScript function getRandomBook() in my random_book_recommender.md file.\n",
    "\n",
    "<ol>\n",
    "    <li>User Interaction: The user selects a genre from the dropdown menu and clicks the \"Get a Book!\" button. This triggers the getRandomBook() function.</li>\n",
    "    <li>Retrieve Selected Genre: The getRandomBook() function retrieves the selected genre from the dropdown menu using document.getElementById(\"genre\").value.</li>\n",
    "    <li>Map Genre to Query Parameter: The selected genre is mapped to a query parameter using the genreMap object. If the genre is not mapped, it defaults to \"Nonfiction\".</li>\n",
    "    <li>Build API URL: The function constructs the API URL with the selected genre as a query parameter: ${pythonURI}/api/random_bookrec?genre=${encodeURIComponent(query)}.</li>\n",
    "    <li>Fetch Data from Backend API: The function makes a fetch request to the /random_bookrec endpoint with the constructed URL. Handling API response:</li>\n",
    "        <ul>\n",
    "            <li>If the response is not OK (status code is not 200), it throws an error with the message 'No books found for the selected genre.'.</li>\n",
    "            <li>If the response is OK, it parses the JSON response and calls the displayBook(book) function to display the book details on the page.</li>\n",
    "        </ul>\n",
    "    <li>Display Book Details: The displayBook(book) function updates the DOM elements with the book details (title, author, description, and cover image).</li>\n",
    "    <li>The Python endpoint /random_bookrec does the following actions:</li>\n",
    "        <ul>\n",
    "            <li>Retrieve Genre Parameter: It retrieves the genre parameter from the request.</li>\n",
    "            <li>Loop Until a Book is Found: It enters a loop to find a random book of the specified genre using the get_random_bookrec(genre) function.</li>\n",
    "            <li>Return Book Details: If a book is found, it returns the book details (title, author, description, and cover image) as a JSON response.\n",
    "If no books are found, it returns a JSON response with an error message and a 404 status code.</li>\n",
    "        </ul>\n",
    "</ol>"
   ]
  },
  {
   "cell_type": "markdown",
   "metadata": {},
   "source": [
    "<strong>List: </strong>Capture and paste two program code segments you developed during\n",
    "the administration of this task that contain a list (or other collection type)\n",
    "being used to manage complexity in your program.\n",
    "i. The first program code segment must show how data have been\n",
    "stored in the list."
   ]
  },
  {
   "cell_type": "code",
   "execution_count": null,
   "metadata": {},
   "outputs": [],
   "source": [
    "def initSavedBookRecs():\n",
    "    saved_bookrecs_data = [\n",
    "        (\"A Clash of Kings\", \"George R. R. Martin\", \"Fantasy\", \"A Clash of Kings by George R. R. Martin is the second installment in the A Song of Ice and Fire series. The novel follows the chaos and power struggles that erupt across the Seven Kingdoms as multiple factions claim the Iron Throne following the death of King Robert Baratheon. Amid the political intrigue and battles, dark supernatural forces begin to rise, threatening the realm from the shadows.\", \"https://m.media-amazon.com/images/I/81ES5DAxprL.jpg\"),\n",
    "        (\"A Storm of Swords\", \"George R. R. Martin\", \"Fantasy\", \"A Storm of Swords by George R. R. Martin is the third book in the A Song of Ice and Fire series. The novel continues the epic tale of political intrigue, betrayal, and warfare in the Seven Kingdoms. As the War of the Five Kings rages on, alliances are forged and broken, and the fate of Westeros hangs in the balance.\", \"https://m.media-amazon.com/images/I/819o5XLwuFL.jpg\"),\n",
    "    ]"
   ]
  },
  {
   "cell_type": "markdown",
   "metadata": {},
   "source": [
    "<strong>Explanation: </strong> In the initSavedBookRecs function, data is stored in the saved_bookrecs_data list. This segment initializes a list called saved_bookrecs_data with tuples containing book information. The list saved_bookrecs_data stores multiple tuples, each representing a book with its title, author, genre, description, and cover URL. Using a list to store book data simplifies the process of initializing and managing multiple book records."
   ]
  },
  {
   "cell_type": "markdown",
   "metadata": {},
   "source": [
    "ii. The second program code segment must show the data in the\n",
    "same list being used, such as creating new data from the existing\n",
    "data or accessing multiple elements in the list, as part of fulfilling\n",
    "the program’s purpose."
   ]
  },
  {
   "cell_type": "code",
   "execution_count": null,
   "metadata": {},
   "outputs": [],
   "source": [
    "for title, author, genre, description, cover_url in saved_bookrecs_data:\n",
    "    try:\n",
    "        if not SaveBookRec.query.filter_by(title=title, author=author).first():\n",
    "            new_book = SaveBookRec(title=title, author=author, genre=genre, description=description, cover_url=cover_url)\n",
    "            db.session.add(new_book)\n",
    "    except Exception as e:\n",
    "        db.session.rollback()\n",
    "        print(f\"Error initializing book: {e}\")\n",
    "db.session.commit()"
   ]
  },
  {
   "cell_type": "markdown",
   "metadata": {},
   "source": [
    "<strong>Explanation:</strong> In the same initSavedBookRecs function, the data in the saved_bookrecs_data list is used to create new records in the database. This segment iterates over the saved_bookrecs_data list and uses the data to create new records in the SaveBookRec table. The list saved_bookrecs_data is accessed element by element, and for each tuple, a new SaveBookRec object is created and added to the database session. Iterating over the list and using its data to populate the database simplifies the process of initializing the database with predefined book records."
   ]
  }
 ],
 "metadata": {
  "kernelspec": {
   "display_name": "venv",
   "language": "python",
   "name": "python3"
  },
  "language_info": {
   "name": "python",
   "version": "3.12.3"
  }
 },
 "nbformat": 4,
 "nbformat_minor": 2
}
