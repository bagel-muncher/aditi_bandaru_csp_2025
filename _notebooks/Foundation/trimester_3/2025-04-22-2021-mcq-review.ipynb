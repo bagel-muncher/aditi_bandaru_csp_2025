{
 "cells": [
  {
   "cell_type": "raw",
   "metadata": {
    "vscode": {
     "languageId": "raw"
    }
   },
   "source": [
    "---\n",
    "toc: true\n",
    "layout: post\n",
    "title: 2021 MCQ Review\n",
    "description: Reviewing mistakes, weaknesses/areas of focus in the MCQ\n",
    "permalink: _posts/Foundation/trimester_3/2025-04-22-2021-mcq-review_IPYNB_2_\n",
    "categories: [Trimester 3]\n",
    "comments: true\n",
    "type: ccc\n",
    "---"
   ]
  },
  {
   "cell_type": "markdown",
   "metadata": {},
   "source": [
    "## MCQ Distrbutions\n",
    "\n",
    "### MCQ - Big Ideas\n",
    "<img src=\"{{site.baseurl}}/images/trimester_3/mcq-big-ideas.png\">\n",
    "\n",
    "### MCQ - Skills\n",
    "<img src=\"{{site.baseurl}}/images/trimester_3/mcq_skill_distribution.png\">\n",
    "\n",
    "Review: I'm still not completely confident about Big Ideas 2 and 3, so I will focus heavily on those in preparation for the AP Exam. I also want to review Big Ideas 4 because I'm not very familiar with it as I am the other ideas (even though I did fine with it on the MCQ). Big Ideas 1 and 5 are like common sense to me at this point."
   ]
  },
  {
   "cell_type": "markdown",
   "metadata": {},
   "source": [
    "## Missed Questions Review\n",
    "\n",
    "### Question 29: Value displayed when j is 3 and k is 4\n",
    "\n",
    "<img src=\"{{site.baseurl}}/images/trimester_3/2021mcq_question_29.png\">\n",
    "\n",
    "Explanation: D is the correct answer because the algorithm represented in the flowchart calculates j * k by repeatedly adding j to result a total of k times. The value displayed is 12.\n",
    "\n",
    "### Question 39: Number of bits needed for item inventory\n",
    "\n",
    "<img src=\"{{site.baseurl}}/images/trimester_3/2021mcq_question_39.png\">\n",
    "\n",
    "Explanation: Answer C is the correct answer because using 6 bits will only allow for up to 64 sequences because 2^6 = 64. Using 7 bits will allow for up to 128 sequences because 2^7 = 128. Therefore, a minimum of 7 bits are needed.\n",
    "\n",
    "### Question 55: Move element from end of list to beginning\n",
    "\n",
    "<img src=\"{{site.baseurl}}/images/trimester_3/2021mcq_question_55.png\">\n",
    "\n",
    "Explanation: Answer C is the correct annwer cause this code segment assigns the value of the last element of the list to the variable temp, then removes the last element of the list, then inserts temp as the first element of the list."
   ]
  },
  {
   "cell_type": "markdown",
   "metadata": {},
   "source": [
    "### Things to Review\n",
    "\n",
    "- Skills 2.A and 2.B\n",
    "- Binary numbers and how to interpret them (2.1)\n",
    "- Lists (3.10)\n",
    "- Interation (Wasn't super confident about it)"
   ]
  }
 ],
 "metadata": {
  "language_info": {
   "name": "python"
  }
 },
 "nbformat": 4,
 "nbformat_minor": 2
}
