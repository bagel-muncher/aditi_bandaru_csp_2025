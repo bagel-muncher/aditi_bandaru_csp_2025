{
 "cells": [
  {
   "cell_type": "raw",
   "id": "22e046da",
   "metadata": {
    "vscode": {
     "languageId": "raw"
    }
   },
   "source": [
    "---\n",
    "toc: true\n",
    "layout: post\n",
    "title: Glucoquest - Flashcards\n",
    "description: Tech description blog post about Glucoquest flashcards\n",
    "permalink: /_posts/Foundation/trimester_3/2025-06-03-glucoquest-tech-blog_IPYNB_2_\n",
    "categories: [GitHub Pages]\n",
    "comments: true\n",
    "type: ccc\n",
    "---"
   ]
  },
  {
   "cell_type": "markdown",
   "id": "c11f6588",
   "metadata": {},
   "source": [
    "## Overview\n",
    "\n",
    "This flashcards app provides educational content on diabetes via interactive cards. It includes:\n",
    "- A front-end web interface for flipping flashcards and taking quizzes.\n",
    "- A RESTful API backend powered by Flask and Flask-RESTful.\n",
    "- A lightweight database model using SQLAlchemy.\n",
    "- Data initialization via `flashcards.csv`."
   ]
  },
  {
   "cell_type": "markdown",
   "id": "6aa99710",
   "metadata": {},
   "source": [
    "## Technical Design\n",
    "\n",
    "### System Components\n",
    "```\n",
    "+--------------+        +------------------+        +-----------------+\n",
    "|   Front End  | <----> |  Flask REST API  | <----> |  Flashcard DB   |\n",
    "| (HTML/JS/CSS)|        |  (Python Flask)  |        |  (SQLAlchemy)   |\n",
    "+--------------+        +------------------+        +-----------------+\n",
    "```"
   ]
  },
  {
   "cell_type": "markdown",
   "id": "d5dfb64a",
   "metadata": {},
   "source": [
    "## Front End: `flashcards.md` + Custom JS\n",
    "\n",
    "The `flashcards.md` file serves HTML and JavaScript for the UI:\n",
    "- Tailwind-based theme and dark styling.\n",
    "- DOM controls for flashcard navigation (`Next`, `Previous`, `Quiz Me`).\n",
    "- Flip animation for cards.\n",
    "- Interactive quiz mode with form submission."
   ]
  },
  {
   "cell_type": "markdown",
   "id": "57eedf46",
   "metadata": {},
   "source": [
    "### Features\n",
    "- Interactive flashcard viewer with flip animation.\n",
    "- Quiz mode with grading and confetti feedback.\n",
    "- Fetches flashcards from backend asynchronously via `fetch()`."
   ]
  },
  {
   "cell_type": "markdown",
   "id": "5dc1a786",
   "metadata": {},
   "source": [
    "### Sample Code Snippet from `flashcards.md`"
   ]
  },
  {
   "cell_type": "markdown",
   "id": "74bb63d0",
   "metadata": {},
   "source": [
    "```javascript\n",
    "const response = await fetch(`${pythonURI}/api/flashcards`);\n",
    "flashcards = await response.json();  // JSON from Flask API\n",
    "displayCard();  // Populate the DOM\n",
    "```"
   ]
  },
  {
   "cell_type": "markdown",
   "id": "19cea7ef",
   "metadata": {},
   "source": [
    "## API Layer: `flashcards.py`\n",
    "\n",
    "Built using **Flask** and **Flask-RESTful**, this module exposes several endpoints:"
   ]
  },
  {
   "cell_type": "markdown",
   "id": "483c7883",
   "metadata": {},
   "source": [
    "### Endpoints Summary\n",
    "\n",
    "| Endpoint | Method | Description |\n",
    "|---------|--------|-------------|\n",
    "| `/api/flashcards` | GET | Retrieve all flashcards |\n",
    "| `/api/flashcards` | POST | Add a new flashcard |\n",
    "| `/api/flashcards/<id>` | DELETE | Delete a flashcard |\n",
    "| `/api/flashcards/grade` | POST | Submit quiz answers for grading |"
   ]
  },
  {
   "cell_type": "markdown",
   "id": "4c3cd95a",
   "metadata": {},
   "source": [
    "### Example: Flashcard Grading Logic"
   ]
  },
  {
   "cell_type": "markdown",
   "id": "8cc8304e",
   "metadata": {},
   "source": [
    "```python\n",
    "similarity = difflib.SequenceMatcher(None, user, correct).ratio()\n",
    "is_correct = similarity >= 0.8 or (len(user) >= 4 and user in correct)\n",
    "```"
   ]
  },
  {
   "cell_type": "markdown",
   "id": "e812ed44",
   "metadata": {},
   "source": [
    "## Data Model: `model.flashcards`\n",
    "\n",
    "Assumed to be structured like:\n",
    "```python\n",
    "class Flashcard(db.Model):\n",
    "    id = db.Column(db.Integer, primary_key=True)\n",
    "    term = db.Column(db.String(128), nullable=False)\n",
    "    definition = db.Column(db.Text, nullable=False)\n",
    "\n",
    "    def to_dict(self):\n",
    "        return {\"term\": self.term, \"definition\": self.definition}\n",
    "```"
   ]
  },
  {
   "cell_type": "markdown",
   "id": "5e73c8b7",
   "metadata": {},
   "source": [
    "## Flashcard Dataset: `flashcards.csv`\n",
    "\n",
    "This file contains the initial term-definition pairs used to populate the database."
   ]
  },
  {
   "cell_type": "markdown",
   "id": "985ac863",
   "metadata": {},
   "source": [
    "### Sample (CSV):\n",
    "```\n",
    "Term,Definition\n",
    "\"Diabetes\",\"A condition where the body can't properly use sugar from food.\"\n",
    "\"Insulin\",\"A hormone that helps sugar get into cells for energy.\"\n",
    "```"
   ]
  },
  {
   "cell_type": "markdown",
   "id": "d7b49325",
   "metadata": {},
   "source": [
    "```python\n",
    "import pandas as pd\n",
    "df = pd.read_csv(\"flashcards.csv\")\n",
    "for _, row in df.iterrows():\n",
    "    db.session.add(Flashcard(term=row[\"Term\"], definition=row[\"Definition\"]))\n",
    "db.session.commit()\n",
    "```"
   ]
  },
  {
   "cell_type": "markdown",
   "id": "150bc400",
   "metadata": {},
   "source": [
    "## draw.io System Diagram (Suggested Layout)\n",
    "\n",
    "**Components to Draw:**\n",
    "- **User Interface (Browser)** → HTML/CSS/JS\n",
    "- **Front-End Logic** → Flip/Quiz Logic\n",
    "- **Flask Server (API)** → Flask Blueprint\n",
    "- **Database Layer** → SQLAlchemy Models\n",
    "- **Flashcard Data Source** → CSV ingestion\n",
    "\n",
    "**Connections:**\n",
    "- Browser ↔ `/api/flashcards` (REST)\n",
    "- Flask ↔ SQLite/PostgreSQL (via SQLAlchemy)"
   ]
  },
  {
   "cell_type": "markdown",
   "id": "9cc330be",
   "metadata": {},
   "source": [
    "## Summary\n",
    "\n",
    "| Layer | Technology | Purpose |\n",
    "|-------|------------|---------|\n",
    "| Frontend | HTML, CSS, JS | User interaction and flashcard display |\n",
    "| Backend | Flask, Flask-RESTful | API for CRUD operations and quiz grading |\n",
    "| DB | SQLAlchemy + SQLite/Postgres | Persistent flashcard storage |\n",
    "| Data | CSV | Initial content source |"
   ]
  }
 ],
 "metadata": {
  "kernelspec": {
   "display_name": "venv",
   "language": "python",
   "name": "python3"
  },
  "language_info": {
   "name": "python",
   "version": "3.12.3"
  }
 },
 "nbformat": 4,
 "nbformat_minor": 5
}
