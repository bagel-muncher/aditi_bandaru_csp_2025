{
 "cells": [
  {
   "cell_type": "raw",
   "metadata": {
    "vscode": {
     "languageId": "raw"
    }
   },
   "source": [
    "---\n",
    "toc: true\n",
    "layout: post\n",
    "title: AP Exam Study and Review\n",
    "description: A study blog with a study plan that includes a review from everything I've learned over the course of this year for the AP CSP Exam\n",
    "permalink: _posts/Foundation/trimester_3/2025-04-25-ap-exam-study-review-blog_IPYNB_2_\n",
    "categories: [Trimester 3]\n",
    "comments: true\n",
    "type: ccc\n",
    "---"
   ]
  },
  {
   "cell_type": "markdown",
   "metadata": {},
   "source": [
    "# AP CSP Review\n",
    "\n",
    "What I Know:\n",
    "- General Computer/Internet features\n",
    "\n",
    "What I Need to Improve One"
   ]
  },
  {
   "cell_type": "markdown",
   "metadata": {},
   "source": [
    "## MCQ Review"
   ]
  }
 ],
 "metadata": {
  "language_info": {
   "name": "python"
  }
 },
 "nbformat": 4,
 "nbformat_minor": 2
}
