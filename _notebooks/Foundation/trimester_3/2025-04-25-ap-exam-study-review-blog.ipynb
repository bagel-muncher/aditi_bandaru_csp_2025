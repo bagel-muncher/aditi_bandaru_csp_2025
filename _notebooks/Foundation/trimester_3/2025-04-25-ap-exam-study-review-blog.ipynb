{
 "cells": [
  {
   "cell_type": "raw",
   "metadata": {
    "vscode": {
     "languageId": "raw"
    }
   },
   "source": [
    "---\n",
    "toc: true\n",
    "layout: post\n",
    "title: AP Exam Study Plan\n",
    "description: A study blog with a study plan that includes a review from everything I've learned over the course of this year for the AP CSP Exam\n",
    "permalink: _posts/Foundation/trimester_3/2025-04-25-ap-exam-study-review-blog_IPYNB_2_\n",
    "categories: [Trimester 3]\n",
    "comments: true\n",
    "type: ccc\n",
    "---"
   ]
  },
  {
   "cell_type": "markdown",
   "metadata": {},
   "source": [
    "## Big Ideas\n",
    "\n",
    "### Big Ideas 3\n",
    "\n",
    "<style>\n",
    "    .lesson_button {\n",
    "        color: white;\n",
    "        background-color: #71BC78;\n",
    "        border: none;\n",
    "        border-radius: 5px;\n",
    "        padding: 10px;\n",
    "    }\n",
    "    \n",
    "    .team_box {\n",
    "        border-style: solid;\n",
    "        border-width: 3px;\n",
    "        border-radius: 5px;\n",
    "        padding: 15px;\n",
    "        border-color:#008080;\n",
    "        transition: background-color 0.2s;\n",
    "        /*box-shadow: 0 10px 25px rgba(0, 0, 0, 0.2);\n",
    "        */\n",
    "        \n",
    "    }\n",
    "\n",
    "    .team_box:hover {\n",
    "        background-color: #ddf8df;\n",
    "    }\n",
    "</style>\n",
    "<html>\n",
    "    <body>\n",
    "        <div>\n",
    "            <table>\n",
    "                <tr>\n",
    "                    <td><a href=\"{{site.baseurl}}/sprints/sprint2/sprint2_homepage/index\"><button\n",
    "                        class=\"lesson_button\">Big Ideas 3 Home</button></a></td>\n",
    "                    <td><a href=\"{{site.baseurl}}/sprint_2/lesson_homework/2024-10-07-3-1-hacks_IPYNB_2_\"><button\n",
    "                        class=\"lesson_button\">3.1</button></a></td>\n",
    "                    <td><a href=\"{{site.baseurl}}/sprint_1/2024-09-24-big-ideas-32-lists-tuples-sets_IPYNB_2_\"><button\n",
    "                        class=\"lesson_button\">3.2</button></a></td>\n",
    "                    <td><a href=\"{{site.baseurl}}/sprint_2/lesson_homework/2024-10-11-33-35-hacks_IPYNB_2_\"><button\n",
    "                        class=\"lesson_button\">3.3</button></a></td>\n",
    "                    <td><a href=\"{{site.baseurl}}/sprint_2/lesson_homework/2024-10-07-3-4-hacks_IPYNB_2_\"><button\n",
    "                        class=\"lesson_button\">3.4</button></a></td>\n",
    "                    <td><a href=\"{{site.baseurl}}/sprint_2/lesson_homework/2024-10-11-33-35-hacks_IPYNB_2_\"><button\n",
    "                        class=\"lesson_button\">3.5</button></a></td>\n",
    "                    <td><a href=\"{{site.baseurl}}/sprint_2/lesson_homework/2024-10-07-36-37-hacks_IPYNB_2_ \"><button\n",
    "                        class=\"lesson_button\">3.6 & 3.7</button></a></td>\n",
    "                    <td><a href=\"{{site.baseurl}}/sprint_2/lesson_homework/2024-10-10-3-8-hacks_IPYNB_2_\"><button\n",
    "                        class=\"lesson_button\">3.8</button></a></td>\n",
    "                    <td><a href=\"{{site.baseurl}}/sprint_2/lesson_homework/2024-10-10-3-10-hacks_IPYNB_2_\"><button\n",
    "                        class=\"lesson_button\">3.10</button></a></td>\n",
    "                </tr>\n",
    "            </table>\n",
    "        </div>\n",
    "    </body>\n",
    "</html>\n",
    "\n",
    "### Big Ideas 2 and 5\n",
    "<a href=\"{{site.baseurl}}/sprints/sprint7/team_teach_index.md\">Ongoing team teams</a>"
   ]
  },
  {
   "cell_type": "markdown",
   "metadata": {},
   "source": [
    "## Study Resources:\n",
    "\n",
    "- <a href=\"https://uploads-ssl.webflow.com/605fe570e5454a357d1e1811/60a17b3ca029da702d2bf511_SS-APCSP-1.pdf\">AP Computer Science Principles Study Guide by SimpleStudies</a>\n",
    "- <a href=\"https://library.fiveable.me/ap-comp-sci-p\">Fiveable Study Guides</a>\n",
    "- <a href=\"https://uploads-ssl.webflow.com/632be2995229ca0bd3715246/640a3e468a509715f7dc0ace_AP_CSP_Cram_Chart.pdf\">Fiveable Cheatsheet</a>\n",
    "- <a href=\"https://knowt.com/exams/AP/AP-Computer-Science-Principles\">Knowt: AP CSP Guide</a>\n",
    "- <a href=\"https://longbaonguyen.github.io/courses/apcsp/lect23.pdf\">Complete Review for the AP Exam</a>\n"
   ]
  },
  {
   "cell_type": "markdown",
   "metadata": {},
   "source": [
    "## Study Calendar\n",
    "\n",
    "| Week        | Sun       | Mon       | Tue       | Wed       | Thu       | Fri       | Sat       |\n",
    "|-------------|-----------|-----------|-----------|-----------|-----------|-----------|-----------|\n",
    "| Apr 20–26   |  | |  | Big Idea 2.1–2.2  |Big Idea 2.3 |Big Idea 2.4           | Review + Quiz|\n",
    "| Apr 27–May 3| Submit CPT, Big Idea 3.1–3.4 | 3.5–3.6      | 3.7–3.8     | 3.9–3.10   | 3.11–3.13  | 3.14–3.15  | Review     |\n",
    "| May 4–10    | 3.16–3.18  | Big Idea 1 | Big Idea 4 | Big Idea 5 | Practice Test 1| Review     | Rest       |\n",
    "| May 11–14   | Practice Test 2 | Mistake Review | Light Review + Rest | Final Review (anything) |           |           |           |\n"
   ]
  },
  {
   "cell_type": "markdown",
   "metadata": {},
   "source": [
    "## Additional Resources\n",
    "\n",
    "- <a href=\"https://www.youtube.com/watch?v=cs58aO6XczY&list=PLoGgviqq4844vbwcKegJgIxSQyVHDzSXT\">Collegeboard Video Collection</a>\n",
    "- <a href=\"https://www.youtube.com/watch?v=Id4vPEy8F9s&list=PLj_pyeExdy66JkPloB7cvp60gr_NreIC1\"> Flavio Reviews</a>\n",
    "\n",
    "<iframe width=\"560\" height=\"315\" src=\"https://www.youtube.com/embed/I9LBXmbB9iw?si=dWWA-2FqYl7B5cjU\" title=\"YouTube video player\" frameborder=\"0\" allow=\"accelerometer; autoplay; clipboard-write; encrypted-media; gyroscope; picture-in-picture; web-share\" referrerpolicy=\"strict-origin-when-cross-origin\" allowfullscreen></iframe>\n",
    "\n",
    "<iframe width=\"560\" height=\"315\" src=\"https://www.youtube.com/embed/oq5zZjkTboo?si=qu4-tK0KIWqZMXEs\" title=\"YouTube video player\" frameborder=\"0\" allow=\"accelerometer; autoplay; clipboard-write; encrypted-media; gyroscope; picture-in-picture; web-share\" referrerpolicy=\"strict-origin-when-cross-origin\" allowfullscreen></iframe>"
   ]
  }
 ],
 "metadata": {
  "language_info": {
   "name": "python"
  }
 },
 "nbformat": 4,
 "nbformat_minor": 2
}
