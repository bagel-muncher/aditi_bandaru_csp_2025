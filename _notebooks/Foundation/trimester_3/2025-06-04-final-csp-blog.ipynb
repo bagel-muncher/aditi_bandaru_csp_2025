{
 "cells": [
  {
   "cell_type": "raw",
   "id": "0b2c970d",
   "metadata": {
    "vscode": {
     "languageId": "raw"
    }
   },
   "source": [
    "---\n",
    "toc: true\n",
    "layout: post\n",
    "title: End of the year AP CSP Review\n",
    "description: Reflecting on the year, the projects, learning, and skills acquired.\n",
    "permalink: /_posts/Foundation/trimester_3/2025-06-04-final-csp-blog_IPYNB_2_\n",
    "categories: [GitHub Pages]\n",
    "comments: true\n",
    "type: ccc\n",
    "---"
   ]
  },
  {
   "cell_type": "markdown",
   "id": "2f283baa",
   "metadata": {},
   "source": [
    "## Profile\n",
    "\n",
    "### LinkedIn\n",
    "\n",
    "<a href=\"https://www.linkedin.com/in/aditi-bandaru-041a94275/\">LinkedIn Profile</a>\n",
    "\n",
    "![linkedin-projects.png]({{site.baseurl}}/images/trimester_3/final-blog/linkedin-projects.png)\n",
    "\n",
    "College Major: Biochemistry, Premed\n",
    "\n",
    "- CS knowledge required to analyze data for research\n",
    "- Machine Learning skills for prediction models\n",
    "- Understand software behind medical and biomedical devices\n",
    "\n",
    "### GitHub\n",
    "\n",
    "<a href=\"https://github.com/bagel-muncher\">GitHub Profile</a>\n"
   ]
  },
  {
   "cell_type": "markdown",
   "id": "def0ece5",
   "metadata": {},
   "source": [
    "# Projects\n",
    "\n",
    "Contributions:\n",
    "\n",
    "![GitHub Contributions]({{site.baseurl}}/images/trimester_3/final-blog/github-green-boxes.png)\n",
    "\n",
    "## Bookworms\n",
    "\n",
    "### Frontend\n",
    "\n",
    "![bookworms-front-contributes.png]({{site.baseurl}}/images/trimester_3/final-blog/bookworms-front-contributes.png)\n",
    "<img src=\"{{site.baseurl}}/images/trimester_3/final-blog/bookrec-fantasy.png\">\n",
    "<img src=\"{{site.baseurl}}/images/trimester_3/final-blog/bookrec-fantasy-book.png\">\n",
    "<img src=\"{{site.baseurl}}/images/trimester_3/final-blog/bookrec-empty-form.png\">\n",
    "<img src=\"{{site.baseurl}}/images/trimester_3/final-blog/bookrec-book-table.png\">\n",
    "\n",
    "### Backend\n",
    "\n",
    "<img src=\"{{site.baseurl}}/images/trimester_3/final-blog/bookworms-back-commits.png\">\n",
    "<img src=\"{{site.baseurl}}/images/trimester_3/final-blog/bookworms-api-1.png\">\n",
    "<img src=\"{{site.baseurl}}/images/trimester_3/final-blog/bookworms-api-2.png\">\n",
    "<img src=\"{{site.baseurl}}/images/trimester_3/final-blog/bookworms-api-3.png\">\n",
    "<img src=\"{{site.baseurl}}/images/trimester_3/final-blog/bookworms-api-4.png\">\n",
    "<img src=\"{{site.baseurl}}/images/trimester_3/final-blog/bookworms-api-5.png\">\n",
    "<img src=\"{{site.baseurl}}/images/trimester_3/final-blog/bookworms-model-1.png\">\n",
    "<img src=\"{{site.baseurl}}/images/trimester_3/final-blog/bookworms-model-2.png\">\n",
    "<img src=\"{{site.baseurl}}/images/trimester_3/final-blog/bookworms-back-table.png\">\n",
    "\n",
    "\n",
    "### Collaboration/Communication\n",
    "\n",
    "<img src=\"{{site.baseurl}}/images/trimester_3/final-blog/bookworms-collab.png\">\n",
    "<img src=\"{{site.baseurl}}/images/trimester_3/final-blog/bookworms_kanban.png\">\n"
   ]
  },
  {
   "cell_type": "markdown",
   "id": "1f2cab20",
   "metadata": {},
   "source": [
    "## Dexcom: Glucoquest\n",
    "\n",
    "### Frontend\n",
    "<img src=\"{{site.baseurl}}/images/trimester_3/final-blog/gluco-flashcards-start.png\">\n",
    "<img src=\"{{site.baseurl}}/images/trimester_3/final-blog/gluco-flashcards-quiz.png\">\n",
    "<img src=\"{{site.baseurl}}/images/trimester_3/final-blog/gluco-quiz-results.png\">\n",
    "\n",
    "### Backend\n",
    "<img src=\"{{site.baseurl}}/images/trimester_3/final-blog/gluco-api-1.png\">\n",
    "<img src=\"{{site.baseurl}}/images/trimester_3/final-blog/gluco-api-2.png\">\n",
    "<img src=\"{{site.baseurl}}/images/trimester_3/final-blog/gluco-api-3.png\">\n",
    "<img src=\"{{site.baseurl}}/images/trimester_3/final-blog/flashcards-csv.png\">\n",
    "<img src=\"{{site.baseurl}}/images/trimester_3/final-blog/gluco-model.png\">\n",
    "\n",
    "### Collaboration/Communication\n",
    "<img src=\"{{site.baseurl}}/images/trimester_3/final-blog/gluco-collab-1.png\">\n",
    "<img src=\"{{site.baseurl}}/images/trimester_3/final-blog/gluco-collab-2.png\">"
   ]
  },
  {
   "cell_type": "markdown",
   "id": "333c3f85",
   "metadata": {},
   "source": [
    "## Skills\n",
    "\n",
    "- Collaboration\n",
    "- Flexibility\n",
    "- Perseverance and Patience\n",
    "- Consistency\n",
    "- Willingness to learn\n",
    "\n",
    "### Full Stack\n",
    "- APIs (RESTful APIs)\n",
    "<img src=\"{{site.baseurl}}/images/trimester_3/final-blog/gluco-api-1.png\">\n",
    "\n",
    "- CRUD operations\n",
    "<img src=\"{{site.baseurl}}/images/trimester_3/final-blog/bookworms-model-1.png\">\n",
    "\n",
    "- Frontend - Backend connection\n",
    "<img src=\"{{site.baseurl}}/images/trimester_3/final-blog/front-back-connection.png\">"
   ]
  },
  {
   "cell_type": "markdown",
   "id": "b15aee32",
   "metadata": {},
   "source": [
    "## Night at the Museum Demo\n",
    "- Live demo of project features\n",
    "- Explain features using technical terms in way for the audience to understand\n",
    "- Allow audience to interact with the features hands-on (play games, learn flashcards)"
   ]
  },
  {
   "cell_type": "markdown",
   "id": "83c4e5d4",
   "metadata": {},
   "source": [
    "## Demos\n",
    "\n",
    "<a href=\"https://gabrielac07.github.io/bookworms/random_book_recommender/\">Bookworms: Random Book Generator</a>\n",
    "\n",
    "<a href=\"https://open-coding-society.github.io/glucoquest_frontend/flashcards/\">Glucoquest: Flashcards</a>"
   ]
  }
 ],
 "metadata": {
  "kernelspec": {
   "display_name": "venv",
   "language": "python",
   "name": "python3"
  },
  "language_info": {
   "name": "python",
   "version": "3.12.3"
  }
 },
 "nbformat": 4,
 "nbformat_minor": 5
}
