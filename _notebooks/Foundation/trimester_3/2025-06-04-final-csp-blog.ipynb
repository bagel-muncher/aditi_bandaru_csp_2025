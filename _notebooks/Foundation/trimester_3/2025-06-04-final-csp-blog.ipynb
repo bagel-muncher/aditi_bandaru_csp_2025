{
 "cells": [
  {
   "cell_type": "raw",
   "id": "0b2c970d",
   "metadata": {
    "vscode": {
     "languageId": "raw"
    }
   },
   "source": [
    "---\n",
    "toc: true\n",
    "layout: post\n",
    "title: End of the year AP CSP Review\n",
    "description: Reflecting on the year, the projects, learning, and skills acquired.\n",
    "permalink: /_posts/Foundation/trimester_3/2025-06-04-final-csp-blog_IPYNB_2_\n",
    "categories: [GitHub Pages]\n",
    "comments: true\n",
    "type: ccc\n",
    "---"
   ]
  }
 ],
 "metadata": {
  "language_info": {
   "name": "python"
  }
 },
 "nbformat": 4,
 "nbformat_minor": 5
}
