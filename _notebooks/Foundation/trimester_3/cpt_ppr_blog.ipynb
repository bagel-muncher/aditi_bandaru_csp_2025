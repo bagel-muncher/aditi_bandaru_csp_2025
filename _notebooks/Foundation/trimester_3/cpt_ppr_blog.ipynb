{
 "cells": [
  {
   "cell_type": "markdown",
   "metadata": {},
   "source": [
    "---\n",
    "toc: true\n",
    "layout: post\n",
    "title: CPT and PPT\n",
    "description: Blog for AP CSP Exam \n",
    "permalink: /_posts/Foundation/trimester_3/cpt_ppr_blog.ipynb\n",
    "categories: [GitHub Pages]\n",
    "type: ccc\n",
    "---"
   ]
  },
  {
   "cell_type": "markdown",
   "metadata": {},
   "source": [
    "# Personalized Project Reference (PPR)\n",
    "I wrote this following the Personalized Project Reference (PPR) that is supposed to help with writing the FRQ.\n",
    "<br>\n",
    "Procedure: Capture and paste two program code segments you developed\n",
    "during the administration of this task that contain a student-developed\n",
    "procedure that implements an algorithm used in your program and a call to\n",
    "that procedure. \n",
    "i. The first program code segment must be a student-developed\n",
    "procedure that:\n",
    "<ul>\n",
    "    <li>Defines the procedure’s name and return type (if necessary)</li>\n",
    "    <li>Contains and uses one or more parameters that have an effect on the functionality of the procedure</li>\n",
    "    <li>Implements an algorithm that includes sequencing, selection, and iteration </li>\n",
    "</ul>"
   ]
  },
  {
   "cell_type": "code",
   "execution_count": null,
   "metadata": {},
   "outputs": [],
   "source": [
    "@bookrec_api.route('/random_bookrec', methods=['GET'])\n",
    "def random_bookrec():\n",
    "    genre = request.args.get('genre') \n",
    "    \n",
    "    while True: \n",
    "        book = get_random_bookrec(genre)\n",
    "        if book:\n",
    "            return jsonify({\n",
    "                'title': book.title,\n",
    "                'author': book.author,\n",
    "                'description': book.description,\n",
    "                'image_cover': book.cover_url\n",
    "            })\n",
    "        else: \n",
    "            return jsonify({\"error\": \"No books found, retrying in 5 seconds...\"}), 404\n",
    "            time.sleep(5)\n"
   ]
  },
  {
   "cell_type": "markdown",
   "metadata": {},
   "source": [
    "ii. The second program code segment must show where your\n",
    "student-developed procedure is being called in your program."
   ]
  },
  {
   "cell_type": "code",
   "execution_count": null,
   "metadata": {
    "vscode": {
     "languageId": "javascript"
    }
   },
   "outputs": [],
   "source": [
    "<script type=\"module\">\n",
    "    function getRandomBook() { \n",
    "    \n",
    "    const genreKey = document.getElementById(\"genre\").value;\n",
    "    const query = genreMap[genreKey] || \"Nonfiction\"; \n",
    "    \n",
    "    const apiUrl = `${pythonURI}/api/random_bookrec?genre=${encodeURIComponent(query)}`;\n",
    "    \n",
    "    fetch(apiUrl, fetchOptions) \n",
    "        .then((response) => {\n",
    "\n",
    "                if (!response.ok) {\n",
    "                    throw new Error('No books found for the selected genre.');\n",
    "                }\n",
    "                return response.json();\n",
    "            })\n",
    "            .then((book) => {\n",
    "                displayBook(book); \n",
    "            })\n",
    "            .catch((error) => {\n",
    "                console.error(\"Error fetching data:\", error);\n",
    "                alert(\"An error occurred while fetching the book. Please try again.\");\n",
    "            });\n",
    "    }\n",
    "    function displayBook(book) {\n",
    "        const { title, author, description, image_cover } = book;\n",
    "        document.getElementById(\"book_title\").innerText = title;\n",
    "        document.getElementById(\"book_author\").innerText = `By: ${author}`;\n",
    "        document.getElementById(\"book_description\").innerText = description;\n",
    "        document.getElementById(\"book_cover\").src = image_cover;\n",
    "        document.getElementById(\"book_cover\").style.display = image_cover ? \"block\" : \"none\";\n",
    "        document.getElementById(\"genre_selection\").style.display = \"none\";\n",
    "        document.getElementById(\"book_display\").style.display = \"block\";\n",
    "    }\n",
    "    function startOver() { \n",
    "        document.getElementById(\"genre_selection\").style.display = \"block\";\n",
    "        document.getElementById(\"book_display\").style.display = \"none\";\n",
    "    }\n"
   ]
  },
  {
   "cell_type": "markdown",
   "metadata": {},
   "source": [
    "<strong>List: </strong>Capture and paste two program code segments you developed during\n",
    "the administration of this task that contain a list (or other collection type)\n",
    "being used to manage complexity in your program.\n",
    "i. The first program code segment must show how data have been\n",
    "stored in the list."
   ]
  },
  {
   "cell_type": "code",
   "execution_count": null,
   "metadata": {},
   "outputs": [],
   "source": [
    "def initSavedBookRecs():\n",
    "    saved_bookrecs_data = [\n",
    "        (\"A Clash of Kings\", \"George R. R. Martin\", \"Fantasy\", \"A Clash of Kings by George R. R. Martin is the second installment in the A Song of Ice and Fire series. The novel follows the chaos and power struggles that erupt across the Seven Kingdoms as multiple factions claim the Iron Throne following the death of King Robert Baratheon. Amid the political intrigue and battles, dark supernatural forces begin to rise, threatening the realm from the shadows.\", \"https://m.media-amazon.com/images/I/81ES5DAxprL.jpg\"),\n",
    "        (\"A Storm of Swords\", \"George R. R. Martin\", \"Fantasy\", \"A Storm of Swords by George R. R. Martin is the third book in the A Song of Ice and Fire series. The novel continues the epic tale of political intrigue, betrayal, and warfare in the Seven Kingdoms. As the War of the Five Kings rages on, alliances are forged and broken, and the fate of Westeros hangs in the balance.\", \"https://m.media-amazon.com/images/I/819o5XLwuFL.jpg\"),\n",
    "    ]"
   ]
  },
  {
   "cell_type": "markdown",
   "metadata": {},
   "source": [
    "ii. The second program code segment must show the data in the\n",
    "same list being used, such as creating new data from the existing\n",
    "data or accessing multiple elements in the list, as part of fulfilling\n",
    "the program’s purpose."
   ]
  },
  {
   "cell_type": "code",
   "execution_count": null,
   "metadata": {},
   "outputs": [],
   "source": [
    "for title, author, genre, description, cover_url in saved_bookrecs_data:\n",
    "        if not SaveBookRec.query.filter_by(title=title, author=author).first():\n",
    "            new_book = SaveBookRec(title=title, author=author, genre=genre, description=description, cover_url=cover_url)\n",
    "            db.session.add(new_book)\n",
    "    try: \n",
    "        db.session.commit() \n",
    "    except Exception as e:\n",
    "        db.session.rollback()\n",
    "        raise e"
   ]
  }
 ],
 "metadata": {
  "language_info": {
   "name": "python"
  }
 },
 "nbformat": 4,
 "nbformat_minor": 2
}
