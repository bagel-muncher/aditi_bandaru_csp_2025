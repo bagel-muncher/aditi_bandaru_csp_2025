{
 "cells": [
  {
   "cell_type": "raw",
   "metadata": {
    "vscode": {
     "languageId": "raw"
    }
   },
   "source": [
    "---\n",
    "toc: true\n",
    "layout: post\n",
    "title: Simulations/Games and Random Assignment\n",
    "description: Classwork and Homework for the team teach\n",
    "permalink: /_posts/Foundation/trimester_3/sprint7-team-teaches/2025-04-22-simulation-and-random-assignment_IPYNB_2_\n",
    "categories: [Trimester 3]\n",
    "comments: true\n",
    "type: ccc\n",
    "---"
   ]
  },
  {
   "cell_type": "markdown",
   "metadata": {},
   "source": [
    "### Homework Hack #1: Dice Roll Simulation (Basic)\n",
    "Objective:\n",
    "Write a function that simulates a 6-sided dice roll using the random module."
   ]
  },
  {
   "cell_type": "code",
   "execution_count": 1,
   "metadata": {},
   "outputs": [
    {
     "name": "stdout",
     "output_type": "stream",
     "text": [
      "Dice roll: 4\n"
     ]
    }
   ],
   "source": [
    "import random\n",
    "\n",
    "def roll_dice():\n",
    "    # Write your code here to simulate a 6-sided dice roll\n",
    "    return random.randint(1, 6)\n",
    "\n",
    "print(\"Dice roll:\", roll_dice())"
   ]
  },
  {
   "cell_type": "markdown",
   "metadata": {},
   "source": [
    "### Popcorn Hack #2: Biased Color Generator\n",
    "Objective:\n",
    "Modify the function biased_color() so that:\n",
    "\n",
    "Red appears 50% of the time\n",
    "Blue appears 30% of the time\n",
    "All other colors share the remaining 20%\n",
    "Then print 10 random biased colors."
   ]
  },
  {
   "cell_type": "code",
   "execution_count": 4,
   "metadata": {},
   "outputs": [
    {
     "name": "stdout",
     "output_type": "stream",
     "text": [
      "Blue\n",
      "Red\n",
      "Blue\n",
      "Blue\n",
      "Green\n",
      "Blue\n",
      "Blue\n",
      "Yellow\n",
      "Purple\n",
      "Red\n"
     ]
    }
   ],
   "source": [
    "import random\n",
    "\n",
    "def biased_color():\n",
    "    # Make a biased color generator, with a bias towards Red and Blue.\n",
    "    colors = ['Red', 'Blue', 'Green', 'Yellow', 'Purple']\n",
    "    probabilities = [0.5, 0.3, 0.0667, 0.0667, 0.0667]  # Probabilities for each color\n",
    "    # Print 10 biased random colors\n",
    "    for _ in range(10):\n",
    "        print(random.choices(colors, probabilities)[0])\n",
    "\n",
    "# Example usage:\n",
    "biased_color()"
   ]
  },
  {
   "cell_type": "markdown",
   "metadata": {},
   "source": [
    "### Practice MC (frogs)\n",
    "\n",
    "Answer: C"
   ]
  },
  {
   "cell_type": "markdown",
   "metadata": {},
   "source": [
    "### Homework Hack #1- Coin Flip Win Simulation\n",
    "Objective:\n",
    "Simulate a game where two players flip a coin. First to reach 3 heads wins.\n",
    "\n",
    "Task:\n",
    "1. Use random.choice() to simulate flipping a coin (\"heads\" or \"tails\").\n",
    "2. Each player flips once per round.\n",
    "3. Track how many heads each player has.\n",
    "4. Stop when one player reaches 3 heads.\n",
    "5. Print the winner and how many rounds it took."
   ]
  },
  {
   "cell_type": "code",
   "execution_count": 5,
   "metadata": {},
   "outputs": [
    {
     "name": "stdout",
     "output_type": "stream",
     "text": [
      "Round 1: Player 1 flipped tails, Player 2 flipped tails\n",
      "Scores -> Player 1: 0, Player 2: 0\n",
      "Round 2: Player 1 flipped heads, Player 2 flipped heads\n",
      "Scores -> Player 1: 1, Player 2: 1\n",
      "Round 3: Player 1 flipped heads, Player 2 flipped heads\n",
      "Scores -> Player 1: 2, Player 2: 2\n",
      "Round 4: Player 1 flipped tails, Player 2 flipped tails\n",
      "Scores -> Player 1: 2, Player 2: 2\n",
      "Round 5: Player 1 flipped heads, Player 2 flipped tails\n",
      "Scores -> Player 1: 3, Player 2: 2\n",
      "Player 1 wins in 5 rounds!\n"
     ]
    }
   ],
   "source": [
    "import random\n",
    "\n",
    "def coin_flip_game():\n",
    "\n",
    "    player1_heads = 0\n",
    "    player2_heads = 0\n",
    "    rounds = 0\n",
    "\n",
    "    while player1_heads < 3 and player2_heads < 3:\n",
    "        rounds += 1\n",
    "        # Simulate coin flips for both players\n",
    "        player1_flip = random.choice([\"heads\", \"tails\"])\n",
    "        player2_flip = random.choice([\"heads\", \"tails\"])\n",
    "\n",
    "        # Update head counts\n",
    "        if player1_flip == \"heads\":\n",
    "            player1_heads += 1\n",
    "        if player2_flip == \"heads\":\n",
    "            player2_heads += 1\n",
    "\n",
    "        # Print the results of the round\n",
    "        print(f\"Round {rounds}: Player 1 flipped {player1_flip}, Player 2 flipped {player2_flip}\")\n",
    "        print(f\"Scores -> Player 1: {player1_heads}, Player 2: {player2_heads}\")\n",
    "\n",
    "    # Determine the winner\n",
    "    if player1_heads == 3:\n",
    "        print(f\"Player 1 wins in {rounds} rounds!\")\n",
    "    else:\n",
    "        print(f\"Player 2 wins in {rounds} rounds!\")\n",
    "\n",
    "# Example usage:\n",
    "coin_flip_game()"
   ]
  }
 ],
 "metadata": {
  "kernelspec": {
   "display_name": "venv",
   "language": "python",
   "name": "python3"
  },
  "language_info": {
   "codemirror_mode": {
    "name": "ipython",
    "version": 3
   },
   "file_extension": ".py",
   "mimetype": "text/x-python",
   "name": "python",
   "nbconvert_exporter": "python",
   "pygments_lexer": "ipython3",
   "version": "3.12.3"
  }
 },
 "nbformat": 4,
 "nbformat_minor": 2
}
