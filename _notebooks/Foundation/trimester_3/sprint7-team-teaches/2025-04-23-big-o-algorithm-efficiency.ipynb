{
 "cells": [
  {
   "cell_type": "raw",
   "metadata": {
    "vscode": {
     "languageId": "raw"
    }
   },
   "source": [
    "---\n",
    "toc: true\n",
    "layout: post\n",
    "title: Big O and Algorithm Efficiency\n",
    "description: Classwork and Homework for the team teach\n",
    "permalink: /_posts/Foundation/trimester_3/2025-04-23-big-o-algorithm-efficiency_IPYNB_2_\n",
    "categories: [Trimester 3]\n",
    "comments: true\n",
    "type: ccc\n",
    "---"
   ]
  },
  {
   "cell_type": "markdown",
   "metadata": {},
   "source": [
    "## Homework"
   ]
  },
  {
   "cell_type": "code",
   "execution_count": 1,
   "metadata": {},
   "outputs": [
    {
     "name": "stdout",
     "output_type": "stream",
     "text": [
      "1\n"
     ]
    }
   ],
   "source": [
    "# O(1) - Constant Time\n",
    "def get_first_element(lst):\n",
    "    return lst[0]\n",
    "\n",
    "example_list = [1, 2, 3, 4, 5]\n",
    "print(get_first_element(example_list))  # Always takes the same amount of time regardless of list size"
   ]
  },
  {
   "cell_type": "code",
   "execution_count": 2,
   "metadata": {},
   "outputs": [
    {
     "name": "stdout",
     "output_type": "stream",
     "text": [
      "3\n"
     ]
    }
   ],
   "source": [
    "# O(log n) - Logarithmic Time\n",
    "def binary_search(arr, target):\n",
    "    \n",
    "    left, right = 0, len(arr) - 1\n",
    "    while left <= right:\n",
    "        mid = (left + right) // 2\n",
    "        if arr[mid] == target:\n",
    "            return mid\n",
    "        elif arr[mid] < target:\n",
    "            left = mid + 1\n",
    "        else:\n",
    "            right = mid - 1\n",
    "    return -1\n",
    "\n",
    "# Example usage:\n",
    "print(binary_search([1, 3, 5, 7, 9], 7))  # Output: 3"
   ]
  },
  {
   "cell_type": "code",
   "execution_count": 3,
   "metadata": {},
   "outputs": [
    {
     "name": "stdout",
     "output_type": "stream",
     "text": [
      "40\n"
     ]
    }
   ],
   "source": [
    "# O(n) - Linear Time\n",
    "def find_max(arr):\n",
    "    max_val = arr[0]\n",
    "    for num in arr:\n",
    "        if num > max_val:\n",
    "            max_val = num\n",
    "    return max_val\n",
    "\n",
    "# Example usage:\n",
    "print(find_max([10, 20, 30, 40]))  # Output: 40"
   ]
  },
  {
   "cell_type": "code",
   "execution_count": null,
   "metadata": {},
   "outputs": [
    {
     "name": "stdout",
     "output_type": "stream",
     "text": [
      "(1, 1)\n",
      "(1, 2)\n",
      "(1, 3)\n",
      "(2, 1)\n",
      "(2, 2)\n",
      "(2, 3)\n",
      "(3, 1)\n",
      "(3, 2)\n",
      "(3, 3)\n"
     ]
    }
   ],
   "source": [
    "#O(n²) - Quadratic Time\n",
    "def print_all_pairs(arr):\n",
    "\n",
    "    for i in range(len(arr)):\n",
    "        for j in range(len(arr)):\n",
    "            print(f\"({arr[i]}, {arr[j]})\")\n",
    "\n",
    "# Example usage:\n",
    "print_all_pairs([1, 2, 3])\n",
    "# Output:\n",
    "# (1, 1)\n",
    "# (1, 2)\n",
    "# (1, 3)\n",
    "# (2, 1)\n",
    "# (2, 2)\n",
    "# (2, 3)\n",
    "# (3, 1)\n",
    "# (3, 2)\n",
    "# (3, 3)"
   ]
  }
 ],
 "metadata": {
  "kernelspec": {
   "display_name": "venv",
   "language": "python",
   "name": "python3"
  },
  "language_info": {
   "codemirror_mode": {
    "name": "ipython",
    "version": 3
   },
   "file_extension": ".py",
   "mimetype": "text/x-python",
   "name": "python",
   "nbconvert_exporter": "python",
   "pygments_lexer": "ipython3",
   "version": "3.12.3"
  }
 },
 "nbformat": 4,
 "nbformat_minor": 2
}
