{
 "cells": [
  {
   "cell_type": "raw",
   "id": "b22370bc",
   "metadata": {
    "vscode": {
     "languageId": "raw"
    }
   },
   "source": [
    "---\n",
    "toc: true\n",
    "layout: post\n",
    "title: Color Codes, Images, Base64 Blog\n",
    "description: Classwork and Homework for the team teach\n",
    "permalink: /_posts/Foundation/trimester_3/2025-04-29-color-codes_IPYNB_2_\n",
    "categories: [Trimester 3]\n",
    "comments: true\n",
    "type: ccc\n",
    "---"
   ]
  },
  {
   "cell_type": "markdown",
   "id": "d8ac8668",
   "metadata": {},
   "source": [
    "## Exercise 1\n",
    "1. Convert these hex codes to RGB & RGBA (A = 1):\n",
    "\n",
    "#1E90FF\n",
    "\n",
    "- RGB: rgb(30, 144, 255)\n",
    "\n",
    "- RGBA: rgba(30, 144, 255, 1)\n",
    "\n",
    "#32CD32\n",
    "\n",
    "- RGB: rgb(50, 205, 50)\n",
    "\n",
    "- RGBA: rgba(50, 205, 50, 1)\n",
    "\n",
    "#FFD700\n",
    "\n",
    "- RGB: rgb(255, 215, 0)\n",
    "\n",
    "- RGBA: rgba(255, 215, 0, 1)\n",
    "\n",
    "2. Write an RGBA for 50%-transparent teal (rgb(0,128,128)).\n",
    "\n",
    "rgba(0, 128, 128, 0.5)"
   ]
  },
  {
   "cell_type": "markdown",
   "id": "0dfdb4df",
   "metadata": {},
   "source": [
    "## Exercise 2\n",
    "\n",
    "### Design a 2×2 icon: Pick 4 colors, list each hex code.\n",
    "\n",
    "1. Top-left: #FF5733 – Orange-Red\n",
    "\n",
    "2. Top-right: #33FFCE – Aqua\n",
    "\n",
    "3. Bottom-left: #335BFF – Blue\n",
    "\n",
    "4. Bottom-right: #F4FF33 – Yellow\n",
    "\n",
    "### Calculate storage for that 2×2 image at 24-bit color depth:\n",
    "Bits per pixel × number of pixels → total bits.\n",
    "\n",
    "Bits per pixel: 24 bits (8 bits for Red, Green, and Blue each)\n",
    "\n",
    "Number of pixels: 2 × 2 = 4 pixels\n",
    "\n",
    "Total bits: 24 bits/pixel × 4 pixels = <strong>96 bits</strong>"
   ]
  },
  {
   "cell_type": "markdown",
   "id": "95a8859d",
   "metadata": {},
   "source": [
    "## Exercise 3\n",
    "  <style>\n",
    "    img {\n",
    "      width: 100px;\n",
    "      height: 100px;\n",
    "      image-rendering: pixelated;\n",
    "      border: 2px solid black;\n",
    "    }\n",
    "</style>\n",
    "\n",
    "1. Base64-encode the string:\n",
    "Plaintext: \"Cat\"\n",
    "\n",
    "ASCII values: C = 67, a = 97, t = 116\n",
    "\n",
    "Binary: 01000011 01100001 01110100\n",
    "\n",
    "Group into 6-bit chunks → Convert to Base64:\n",
    "\n",
    "\"Cat\" --> Q2F0\n",
    "\n",
    "2. Create a 1×1 red PNG, convert it to Base64, and embed in img tag.\n",
    "\n",
    "<img\n",
    "  src=\"data:image/png;base64,iVBORw0KGgoAAAANSUhEUgAAAAEAAAABCAIAAACQd1PeAAAADElEQVR4nGNgYAAAAAIAAeIhvDMAAAAASUVORK5CYII=\"\n",
    "  alt=\"1x1 red\"\n",
    "  width=\"100\"\n",
    "  height=\"100\"\n",
    "/>\n",
    "\n",
    "Note: The image is invisible for some reason but this is my img tag:\n",
    "\n",
    "src=\"data:image/png;base64,iVBORw0KGgoAAAANSUhEUgAAAAEAAAABCAIAAACQd1PeAAAADElEQVR4nGNgYAAAAAIAAeIhvDMAAAAASUVORK5CYII=\"\n"
   ]
  }
 ],
 "metadata": {
  "language_info": {
   "name": "python"
  }
 },
 "nbformat": 4,
 "nbformat_minor": 5
}
