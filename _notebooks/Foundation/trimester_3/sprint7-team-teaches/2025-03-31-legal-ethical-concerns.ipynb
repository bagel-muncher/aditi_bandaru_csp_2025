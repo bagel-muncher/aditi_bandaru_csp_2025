{
 "cells": [
  {
   "cell_type": "raw",
   "metadata": {
    "vscode": {
     "languageId": "raw"
    }
   },
   "source": [
    "---\n",
    "toc: true\n",
    "layout: post\n",
    "title: Legal and Ethical Concerns\n",
    "description: Classwork and Homework for the team teach\n",
    "permalink: /_posts/Foundation/trimester_3/sprint7-team-teaches/2025-03-31-legal-ethical-concerns_IPYNB_2_\n",
    "categories: [Trimester 3]\n",
    "comments: true\n",
    "type: ccc\n",
    "---"
   ]
  },
  {
   "cell_type": "markdown",
   "metadata": {},
   "source": [
    "## Popcorn Hack #1:\n",
    "Suppose you buy something that someone made.\n",
    "- Give an example of when it is your IP, and when it is not your IP.\n",
    "\n",
    "Answer:\n",
    "\n",
    "It's your IP when: If you create and design your own original artwork, music, or writing, you own the intellectual property (IP). For instance, if you write a book and self-publish it, you have the copyright, meaning others cannot legally copy or distribute it without your permission.\n",
    "\n",
    "It's Not Your IP when: if you buy a video game, a movie, or a book from a store, you own the physical copy but not the intellectual property rights. This means you can resell your personal copy (e.g., selling a used book or game), but you cannot make copies or distribute them, as that would violate copyright laws. You generally have the right to resell legally purchased physical goods (first-sale doctrine), but copying or distributing them without permission is a violation of IP rights."
   ]
  },
  {
   "cell_type": "markdown",
   "metadata": {},
   "source": [
    "## Popcorn Hack #2:\n",
    "As a computer science student, which license suits your repository / site the best and why?\n",
    "\n",
    "CC BY-NC: Non-commercial use only (to be used for privatized works).\n",
    "\n",
    "Why: There is some personal information on my repository that I do not want to be out in the public (it's not serious, but I'm just not comfortable with it). I also put a lot of personal work into this repository, so I don't want others to make money off of it. I'm alright with this repository being used by others in a private, non-commercial manner."
   ]
  },
  {
   "cell_type": "markdown",
   "metadata": {},
   "source": [
    "## FRQ\n",
    "\n",
    "1. Explain how the ease of access to digital content impacts intellectual property rights. Provide one example of a legal way to use someone else's creation without violating their rights.\n",
    "\n",
    "Since digital files (such as music, videos, and books) can be easily duplicated and shared online, unauthorized distribution and piracy have become major concerns for content creators and copyright holders. Many companies use digital rights management (DRM) and licensing agreements to protect their work and limit unauthorized use. One legal way to use someone else's work without violating their rights is through Creative Commons (CC) licenses. For example, if a photographer uploads an image under a CC BY (Attribution) license, others can legally use the photo as long as they give proper credit to the original creator. This allows for legal sharing and adaptation while still respecting the creator’s rights.\n",
    "\n",
    "2. Compare and contrast Creative Commons and Open Source licenses. In what situation might a creator choose a Creative Commons license over an Open Source license?\n",
    "\n",
    "Creative Commons (CC) and Open Source licenses both allow creators to share their work with certain permissions, but they serve different purposes. Creative Commons licenses are designed for artistic, literary, and educational materials, such as images, music, and writing. They offer different levels of permissions, with some allowing modifications and commercial use while others restrict them. In contrast, Open Source licenses apply to software and code, ensuring that anyone can modify, distribute, and build upon the original work. While most CC licenses require attribution, open-source licenses typically allow free reuse of the code, sometimes with conditions like maintaining the same license. A photographer or educator might choose a CC license to control how their creative work is shared, while a software developer would use an Open Source license to encourage collaboration and improvements on their program. A Creative Commons (CC) license is better suited for creators who produce artistic, literary, or educational content rather than software. For example, a photographer might use a CC BY license to allow others to share and modify their photos as long as they give credit. A teacher might publish an online textbook under a CC BY-SA license so that educators can modify and share the content while maintaining the same license.\n",
    "\n",
    "3. A company wants to release its software for free and allow modifications but also wants to prevent competitors from selling the modified version. Which software license should they choose, and why?\n",
    "\n",
    "The company should choose the GNU General Public License (GPL) because it allows users to freely use, modify, and distribute the software while requiring that any modified versions also remain open-source and free. This prevents competitors from taking the modified version and selling it as a proprietary product. The \"copyleft\" nature of the GPL ensures that all derivatives of the original software must also be licensed under the GPL, maintaining the original intent of free and open access while preventing commercial exploitation by competitors.\n",
    "\n",
    "4. Why is copyright important for protecting intellectual property?\n",
    "\n",
    "Copyright is important for protecting intellectual property (IP) because it grants creators exclusive rights over their original works, such as books, music, films, and software. It ensures that others cannot copy, distribute, or profit from the work without permission, giving creators control over how their work is used. This protection encourages innovation and creativity by allowing individuals and businesses to benefit financially from their efforts. Without copyright, creators might lack the incentive to produce new content, as others could freely copy and profit from their work. Additionally, copyright laws help prevent plagiarism and unauthorized use, ensuring that original creators receive credit and compensation for their contributions."
   ]
  },
  {
   "cell_type": "markdown",
   "metadata": {},
   "source": [
    "## Quizlet Match Activity\n",
    "\n",
    "Here's a screenshot of my score/time\n",
    "<br>\n",
    "<img src=\"{{site.baseurl}}/images/team_teaches_7/quizlet_match_3.png\">"
   ]
  }
 ],
 "metadata": {
  "language_info": {
   "name": "python"
  }
 },
 "nbformat": 4,
 "nbformat_minor": 2
}
