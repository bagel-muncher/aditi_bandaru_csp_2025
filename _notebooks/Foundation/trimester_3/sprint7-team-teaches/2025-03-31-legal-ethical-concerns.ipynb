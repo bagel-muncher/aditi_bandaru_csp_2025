{
 "cells": [
  {
   "cell_type": "raw",
   "metadata": {
    "vscode": {
     "languageId": "raw"
    }
   },
   "source": [
    "---\n",
    "toc: true\n",
    "layout: post\n",
    "title: Legal and Ethical Concerns\n",
    "description: Classwork and Homework for the team teach\n",
    "permalink: /_posts/Foundation/trimester_3/sprint7-team-teaches/2025-03-31-legal-ethical-concerns_IPYNB_2_\n",
    "categories: [Trimester 3]\n",
    "comments: true\n",
    "type: ccc\n",
    "---"
   ]
  },
  {
   "cell_type": "markdown",
   "metadata": {},
   "source": [
    "## Popcorn Hack #1:\n",
    "Suppose you buy something that someone made.\n",
    "- Give an example of when it is your IP, and when it is not your IP.\n",
    "\n",
    "Answer:\n",
    "\n",
    "It's your IP when: If you create and design your own original artwork, music, or writing, you own the intellectual property (IP). For instance, if you write a book and self-publish it, you have the copyright, meaning others cannot legally copy or distribute it without your permission.\n",
    "\n",
    "It's Not Your IP when: if you buy a video game, a movie, or a book from a store, you own the physical copy but not the intellectual property rights. This means you can resell your personal copy (e.g., selling a used book or game), but you cannot make copies or distribute them, as that would violate copyright laws. You generally have the right to resell legally purchased physical goods (first-sale doctrine), but copying or distributing them without permission is a violation of IP rights."
   ]
  },
  {
   "cell_type": "markdown",
   "metadata": {},
   "source": [
    "## Popcorn Hack #2:\n",
    "As a computer science student, which license suits your repository / site the best and why?\n",
    "\n",
    "CC BY-NC: Non-commercial use only (to be used for privatized works).\n",
    "\n",
    "Why: There is some personal information on my repository that I do not want to be out in the public (it's not serious, but I'm just not comfortable with it). I also put a lot of personal work into this repository, so I don't want others to make money off of it. I'm alright with this repository being used by others in a private, non-commercial manner."
   ]
  }
 ],
 "metadata": {
  "language_info": {
   "name": "python"
  }
 },
 "nbformat": 4,
 "nbformat_minor": 2
}
