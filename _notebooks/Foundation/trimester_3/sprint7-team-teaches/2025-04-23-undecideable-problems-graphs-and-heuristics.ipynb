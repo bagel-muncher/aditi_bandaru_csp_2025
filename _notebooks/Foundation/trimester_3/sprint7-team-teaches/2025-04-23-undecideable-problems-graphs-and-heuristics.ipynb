{
 "cells": [
  {
   "cell_type": "raw",
   "metadata": {
    "vscode": {
     "languageId": "raw"
    }
   },
   "source": [
    "---\n",
    "toc: true\n",
    "layout: post\n",
    "title: Undecideable Problems, Graphs + Heuristics\n",
    "description: Classwork and Homework for the team teach\n",
    "permalink: /_posts/Foundation/trimester_3/2025-04-23-undecideable-problems-graphs-and-heuristics_IPYNB_2_\n",
    "categories: [Trimester 3]\n",
    "comments: true\n",
    "type: ccc\n",
    "---"
   ]
  },
  {
   "cell_type": "markdown",
   "metadata": {},
   "source": [
    "### Homework\n",
    "1. Research and write a brief explanation of another undecidable problem not discussed in class\n",
    "\n",
    "The Post Correspondence Problem (PCP) is an undecidable problem introduced by Emil Post in 1946. It asks whether, given two lists of strings over some alphabet, there exists a sequence of indices that, when used to concatenate the strings from both lists in the same order, results in the same string.\n",
    "\n",
    "Example:\n",
    "There are two lists:\n",
    "\n",
    "List A: [\"a\", \"ab\"]\n",
    "\n",
    "List B: [\"aa\", \"b\"]\n",
    "\n",
    "Is there is a sequence of indices like this:"
   ]
  },
  {
   "cell_type": "code",
   "execution_count": 3,
   "metadata": {},
   "outputs": [
    {
     "ename": "NameError",
     "evalue": "name 'A' is not defined",
     "output_type": "error",
     "traceback": [
      "\u001b[0;31m---------------------------------------------------------------------------\u001b[0m",
      "\u001b[0;31mNameError\u001b[0m                                 Traceback (most recent call last)",
      "Cell \u001b[0;32mIn[3], line 1\u001b[0m\n\u001b[0;32m----> 1\u001b[0m \u001b[43mA\u001b[49m[i_1] \u001b[38;5;241m+\u001b[39m A[i_2] \u001b[38;5;241m+\u001b[39m \u001b[38;5;241m.\u001b[39m\u001b[38;5;241m.\u001b[39m\u001b[38;5;241m.\u001b[39m \u001b[38;5;241m+\u001b[39m A[i_k] \u001b[38;5;241m==\u001b[39m B[i_1] \u001b[38;5;241m+\u001b[39m B[i_2] \u001b[38;5;241m+\u001b[39m \u001b[38;5;241m.\u001b[39m\u001b[38;5;241m.\u001b[39m\u001b[38;5;241m.\u001b[39m \u001b[38;5;241m+\u001b[39m B[i_k]\n",
      "\u001b[0;31mNameError\u001b[0m: name 'A' is not defined"
     ]
    }
   ],
   "source": [
    "A[i_1] + A[i_2] + ... + A[i_k] == B[i_1] + B[i_2] + ... + B[i_k]\n"
   ]
  },
  {
   "cell_type": "markdown",
   "metadata": {},
   "source": [
    "No. This problem is undecidable because there is no algorithm that can solve all instances of it."
   ]
  },
  {
   "cell_type": "markdown",
   "metadata": {},
   "source": [
    "2. Implement the Nearest Neighbor algorithm for the TSP in a programming language of your choice "
   ]
  },
  {
   "cell_type": "code",
   "execution_count": 1,
   "metadata": {},
   "outputs": [
    {
     "name": "stdout",
     "output_type": "stream",
     "text": [
      "Path: [0, 1, 3, 2, 0]\n",
      "Total Distance: 33\n"
     ]
    }
   ],
   "source": [
    "def nearest_neighbor_tsp(graph, start):\n",
    "    n = len(graph)\n",
    "    visited = [False] * n\n",
    "    path = [start]\n",
    "    visited[start] = True\n",
    "    current = start\n",
    "    total_distance = 0\n",
    "\n",
    "    for _ in range(n - 1):\n",
    "        nearest = None\n",
    "        min_dist = float('inf')\n",
    "        for i in range(n):\n",
    "            if not visited[i] and 0 < graph[current][i] < min_dist:\n",
    "                nearest = i\n",
    "                min_dist = graph[current][i]\n",
    "        visited[nearest] = True\n",
    "        path.append(nearest)\n",
    "        total_distance += min_dist\n",
    "        current = nearest\n",
    "\n",
    "    # return to start\n",
    "    total_distance += graph[current][start]\n",
    "    path.append(start)\n",
    "\n",
    "    return path, total_distance\n",
    "\n",
    "# Example usage\n",
    "graph = [\n",
    "    [0, 2, 9, 10],\n",
    "    [1, 0, 6, 4],\n",
    "    [15, 7, 0, 8],\n",
    "    [6, 3, 12, 0]\n",
    "]\n",
    "\n",
    "path, distance = nearest_neighbor_tsp(graph, 0)\n",
    "print(\"Path:\", path)\n",
    "print(\"Total Distance:\", distance)"
   ]
  },
  {
   "cell_type": "markdown",
   "metadata": {},
   "source": [
    "3. Find a real-world example where heuristics are used and explain why an exact solution isn’t practical\n",
    "\n",
    "Google Maps uses heuristics for route planning in GPS systems.\n",
    "\n",
    "This isn't an exact solution because calculating the absolute shortest path considering all roads, traffic data, construction, accidents, and user preferences (e.g., avoid tolls) is computationally intense. The road network is huge, and real-time traffic is constantly changing. Heuristics like A* (A-star) algorithm allow for good enough solutions fast by estimating the best direction based on known data like road lengths and speed limits. Despite that, heuristics are still used because they trade a little bit of optimality for a lot of speed and practicality, especially when speed is critical, like during live navigation."
   ]
  }
 ],
 "metadata": {
  "kernelspec": {
   "display_name": "venv",
   "language": "python",
   "name": "python3"
  },
  "language_info": {
   "codemirror_mode": {
    "name": "ipython",
    "version": 3
   },
   "file_extension": ".py",
   "mimetype": "text/x-python",
   "name": "python",
   "nbconvert_exporter": "python",
   "pygments_lexer": "ipython3",
   "version": "3.12.3"
  }
 },
 "nbformat": 4,
 "nbformat_minor": 2
}
