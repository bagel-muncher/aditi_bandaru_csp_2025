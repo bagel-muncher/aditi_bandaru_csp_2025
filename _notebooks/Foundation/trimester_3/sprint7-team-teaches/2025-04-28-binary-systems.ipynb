{
 "cells": [
  {
   "cell_type": "raw",
   "id": "acd402e3",
   "metadata": {
    "vscode": {
     "languageId": "raw"
    }
   },
   "source": [
    "---\n",
    "toc: true\n",
    "layout: post\n",
    "title: Binary Base 2 Math + Logic Gates\n",
    "description: Classwork and Homework for the team teach\n",
    "permalink: /_posts/Foundation/trimester_3/2025-04-28-binary-systems_IPYNB_2_\n",
    "categories: [Trimester 3]\n",
    "comments: true\n",
    "type: ccc\n",
    "---"
   ]
  },
  {
   "cell_type": "markdown",
   "id": "3b68649e",
   "metadata": {},
   "source": [
    "## Homework: Binary Calculator Implementation\n",
    "Create a nice calculator that will work for Binary\n",
    "\n",
    "<div class=\"binary-calculator\">\n",
    "  <h3>Binary Calculator</h3>\n",
    "  <input id=\"decimalInput\" type=\"number\" placeholder=\"Enter Decimal Number\" />\n",
    "  <button onclick=\"convertToBinary()\">Convert to Binary</button>\n",
    "  <p id=\"binaryOutput\">Binary: </p>\n",
    "\n",
    "  <input id=\"binaryInput1\" type=\"text\" placeholder=\"Enter Binary Number 1\" />\n",
    "  <input id=\"binaryInput2\" type=\"text\" placeholder=\"Enter Binary Number 2\" />\n",
    "  <button onclick=\"addBinary()\">Add</button>\n",
    "  <p id=\"binarySum\">Sum: </p>\n",
    "</div>\n",
    "\n",
    "<script>\n",
    "  // Function to convert decimal to binary\n",
    "  function convertToBinary() {\n",
    "    const decimal = document.getElementById(\"decimalInput\").value;\n",
    "    const binary = parseInt(decimal, 10).toString(2);\n",
    "    document.getElementById(\"binaryOutput\").innerText = `Binary: ${binary}`;\n",
    "  }\n",
    "\n",
    "  // Function to add two binary numbers\n",
    "  function addBinary() {\n",
    "    const binary1 = document.getElementById(\"binaryInput1\").value;\n",
    "    const binary2 = document.getElementById(\"binaryInput2\").value;\n",
    "    const sum = (parseInt(binary1, 2) + parseInt(binary2, 2)).toString(2);\n",
    "    document.getElementById(\"binarySum\").innerText = `Sum: ${sum}`;\n",
    "  }\n",
    "</script>\n",
    "\n",
    "<style>\n",
    "  .binary-calculator {\n",
    "    border: 2px solid #008080;\n",
    "    padding: 15px;\n",
    "    border-radius: 5px;\n",
    "    width: 300px;\n",
    "    margin: 20px auto;\n",
    "    text-align: center;\n",
    "  }\n",
    "\n",
    "  .binary-calculator input {\n",
    "    margin: 5px;\n",
    "    padding: 10px;\n",
    "    width: 80%;\n",
    "  }\n",
    "\n",
    "  .binary-calculator button {\n",
    "    margin: 5px;\n",
    "    padding: 10px;\n",
    "    background-color: #ace3e3;\n",
    "    border: none;\n",
    "    border-radius: 5px;\n",
    "    color: white;\n",
    "    cursor: pointer;\n",
    "  }\n",
    "\n",
    "  .binary-calculator button:hover {\n",
    "    background-color: #008080;\n",
    "  }\n",
    "</style>\n",
    "\n"
   ]
  }
 ],
 "metadata": {
  "language_info": {
   "name": "python"
  }
 },
 "nbformat": 4,
 "nbformat_minor": 5
}
