{
 "cells": [
  {
   "cell_type": "raw",
   "metadata": {
    "vscode": {
     "languageId": "raw"
    }
   },
   "source": [
    "---\n",
    "toc: true\n",
    "layout: post\n",
    "title: Safe Computing\n",
    "description: Classwork and Homework for the team teach\n",
    "permalink: /_posts/Foundation/trimester_3/sprint7-team-teaches/2025-04-01-safe-computing_IPYNB_2_\n",
    "categories: [Trimester 3]\n",
    "comments: true\n",
    "type: ccc\n",
    "---"
   ]
  },
  {
   "cell_type": "markdown",
   "metadata": {},
   "source": [
    "## Popcorn Hack #1\n",
    "Think about a website/company/app that has access to your PII. Describe the service and the kind of data they might store on you. Then, answer the question: How would it affect you if this information was stolen, and what might hackers be able to do with it? (Think about fraud, connections to other websites)\n",
    "\n",
    "A website that has access to my PII is CommonApp. When applying to colleges, I had to enter basically all of my personal data (including my address, family, academic history, SSN). If my information was stolen, then hackers could use my name, address, Social Security number, or banking details, to open credit accounts, make unauthorized purchases, or even commit crimes in my name. Additionally, since many people use the same login credentials across multiple websites, hackers could try to access my email (since my CommonApp login also uses my email) or other accounts accounts through credential stuffing (attempting stolen usernames and passwords on different sites). I made my CommonApp password unique, but since my email is my CommonApp username, hackers could then try to access a lot of my other accounts on other websites/apps. Personal information could be used for phishing scams, where hackers impersonate trusted organizations to trick me into providing more sensitive data. They could also sell my information on the dark web."
   ]
  },
  {
   "cell_type": "markdown",
   "metadata": {},
   "source": [
    "## Popcorn Hack #2\n",
    "You receive an email warning that your bank account is locked and that you need to click a link to reset your password. What steps should you take before taking action?\n",
    "\n",
    "- Check the sender's email address – Look for slight misspellings or unfamiliar domains (e.g., support@yourbank.com vs. support@bank-secure.com). Scammers often use fake but similar-looking addresses.\n",
    "- Look for urgent or threatening language – Phishing emails often try to create panic by saying your account is locked or that immediate action is required. Legitimate banks rarely use such tactics.\n",
    "- Avoid clicking links or downloading attachments – Hover over the link (without clicking) to see if it directs to an official bank website. If the URL looks suspicious or doesn't match your bank's website, do not click it.\n",
    "- Go directly to your bank's website – Instead of clicking the link in the email, open a new browser window and type your bank's official web address manually. Log in from there to check if there are any alerts about your account.\n",
    "- Contact your bank directly – Use the customer service number on your bank's website or your bank statement to verify whether the email is legitimate.\n",
    "- Check for spelling and grammar errors – Many phishing emails contain odd wording, typos, or formatting issues that official communications wouldn’t have.\n",
    "- Enable multi-factor authentication (MFA) – If you haven't already, set up MFA on your banking account to add an extra layer of security, preventing unauthorized access even if your password is compromised."
   ]
  },
  {
   "cell_type": "markdown",
   "metadata": {},
   "source": [
    "## Popcorn Hack #3 \n",
    "How might public Wi-Fi networks be exploited by hackers, and what precautions should users take when connecting to them?\n",
    "\n",
    "Ways Public Wi-Fi networks can be exploited by hackers in several ways:\n",
    "\n",
    "- Man-in-the-Middle (MITM) Attacks – Hackers intercept data between your device and the network, allowing them to steal login credentials, financial details, or personal information.\n",
    "- Fake Hotspots (Evil Twin Attacks) – A hacker creates a Wi-Fi network with a legitimate-sounding name (e.g., \"CoffeeShop_WiFi\") to trick users into connecting. Once connected, they can monitor or manipulate your online activity.\n",
    "- Packet Sniffing – Hackers use software to capture unencrypted data being transmitted over the network, including login details and sensitive information.\n",
    "- Malware Injection – Some public networks have weak security, allowing hackers to inject malware into connected devices, potentially leading to data theft or system compromise.\n",
    "\n",
    "Precautions to Take When Using Public Wi-Fi:\n",
    "\n",
    "- Avoid accessing sensitive accounts – Don't log into banking apps, email, or any service requiring a password while on public Wi-Fi.\n",
    "- Use a VPN (Virtual Private Network) – A VPN encrypts your internet traffic, making it unreadable to hackers, even if they intercept it.\n",
    "- Turn off automatic Wi-Fi connections – Prevent your device from automatically connecting to public networks, reducing the risk of joining a fake hotspot.\n",
    "- Verify the network with staff – Ask employees at a café, airport, or hotel for the official Wi-Fi name to avoid connecting to a fraudulent one.\n",
    "- Disable file sharing and Bluetooth – This prevents unauthorized access to your device by nearby attackers.\n",
    "- Use HTTPS websites only – Ensure websites you visit use HTTPS (instead of HTTP), which encrypts your data. Look for a padlock icon in the address bar.\n",
    "- Enable firewall and keep software updated – A firewall adds a layer of protection, and updated software includes security patches to guard against known threats."
   ]
  }
 ],
 "metadata": {
  "language_info": {
   "name": "python"
  }
 },
 "nbformat": 4,
 "nbformat_minor": 2
}
