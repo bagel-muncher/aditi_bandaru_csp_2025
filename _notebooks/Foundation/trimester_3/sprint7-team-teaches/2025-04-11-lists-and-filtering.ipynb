{
 "cells": [
  {
   "cell_type": "raw",
   "metadata": {
    "vscode": {
     "languageId": "raw"
    }
   },
   "source": [
    "---\n",
    "toc: true\n",
    "layout: post\n",
    "title: Lists and Filtering\n",
    "description: Classwork and Homework for the team teach\n",
    "permalink: /_posts/Foundation/trimester_3/sprint7-team-teaches/2025-04-11-lists-and-filtering_IPYNB_2_\n",
    "categories: [Trimester 3]\n",
    "comments: true\n",
    "type: ccc\n",
    "---"
   ]
  },
  {
   "cell_type": "markdown",
   "metadata": {},
   "source": [
    "## Popcorn Hacks\n",
    "\n",
    "### Popcorn Hacks #1"
   ]
  },
  {
   "cell_type": "code",
   "execution_count": null,
   "metadata": {},
   "outputs": [
    {
     "name": "stdout",
     "output_type": "stream",
     "text": [
      "    name  score\n",
      "0  Alice     85\n",
      "3  David     88\n"
     ]
    }
   ],
   "source": [
    "# Complete the function to find all students with scores between min_score and max_score\n",
    "import pandas as pd\n",
    "#My code\n",
    "def find_students_in_range(df, min_score, max_score):\n",
    "    return df[(df['score'] >= min_score) & (df['score'] <= max_score)]\n",
    "\n",
    "student_data = pd.DataFrame({\n",
    "    'name': ['Alice', 'Bob', 'Charlie', 'David'],\n",
    "    'score': [85, 92, 78, 88]\n",
    "})\n",
    "\n",
    "print(find_students_in_range(student_data, 80, 90))"
   ]
  },
  {
   "cell_type": "markdown",
   "metadata": {},
   "source": [
    "### Popcorn Hack #2"
   ]
  },
  {
   "cell_type": "code",
   "execution_count": 2,
   "metadata": {},
   "outputs": [
    {
     "name": "stdout",
     "output_type": "stream",
     "text": [
      "      name  score Letter\n",
      "0    Alice     85      B\n",
      "1      Bob     92      A\n",
      "2  Charlie     78      C\n",
      "3    David     88      B\n"
     ]
    }
   ],
   "source": [
    "# Complete the function to add a 'Letter' column based on numerical scores\n",
    "import pandas as pf\n",
    "\n",
    "def add_letter_grades(df):\n",
    "    # Your code here\n",
    "    # A: 90-100, B: 80-89, C: 70-79, D: 60-69, F: below 60\n",
    "    def get_letter_grade(score):\n",
    "        if 90 <= score <= 100:\n",
    "            return 'A'\n",
    "        elif 80 <= score <= 89:\n",
    "            return 'B'\n",
    "        elif 70 <= score <= 79:\n",
    "            return 'C'\n",
    "        elif 60 <= score <= 69:\n",
    "            return 'D'\n",
    "        else:\n",
    "            return 'F'\n",
    "\n",
    "    df['Letter'] = df['score'].apply(get_letter_grade)\n",
    "    return df\n",
    "    \n",
    "# Example usage:\n",
    "student_data = pd.DataFrame({\n",
    "    'name': ['Alice', 'Bob', 'Charlie', 'David'],\n",
    "    'score': [85, 92, 78, 88]\n",
    "})\n",
    "\n",
    "print(add_letter_grades(student_data))"
   ]
  },
  {
   "cell_type": "markdown",
   "metadata": {},
   "source": [
    "### Popcorn Hack #3"
   ]
  },
  {
   "cell_type": "code",
   "execution_count": 3,
   "metadata": {},
   "outputs": [
    {
     "name": "stdout",
     "output_type": "stream",
     "text": [
      "[2]\n"
     ]
    }
   ],
   "source": [
    "# Complete the function to find the most common value in a series\n",
    "import pandas as pd\n",
    "\n",
    "def find_mode(series):\n",
    "    # Your code here\n",
    "    return series.mode().tolist()\n",
    "\n",
    "# Test with: find_mode(pd.Series([1, 2, 2, 3, 4, 2, 5]))\n",
    "print(find_mode(pd.Series([1, 2, 2, 3, 4, 2, 5])))  # Output: [2]"
   ]
  },
  {
   "cell_type": "markdown",
   "metadata": {},
   "source": [
    "## Homework Assignment"
   ]
  },
  {
   "cell_type": "code",
   "execution_count": null,
   "metadata": {},
   "outputs": [],
   "source": [
    "import pandas as pd\n",
    "\n",
    "# Load the dataset\n",
    "data = pd.read_csv('data_title.csv')\n",
    "\n",
    "# Display the first few rows of the dataset\n",
    "print(data.head())\n",
    "\n",
    "# Find the highest and lowest average temperature\n",
    "highest_temp_incident = data.loc[data['temperature'].idxmax()]\n",
    "lowest_temp_incident = data.loc[data['temperature'].idxmin()]\n",
    "\n",
    "print(\"Highest Temperature Incident:\", highest_temp_incident)\n",
    "print(\"Lowest Temperature Incident:\", lowest_temp_incident)\n",
    "\n",
    "# Add a new column for the temperature difference\n",
    "data['temp_difference'] = data['max_temperature'] - data['min_temperature']\n",
    "print(data[['incident_id', 'temp_difference']])\n",
    "\n",
    "# Calculate the average temperature\n",
    "average_temp = data['temperature'].mean()\n",
    "\n",
    "# Filter incidents where temperature exceeds the average\n",
    "above_avg_temp_incidents = data[data['temperature'] > average_temp]\n",
    "print(above_avg_temp_incidents)\n",
    "\n",
    "# Group by vegetation type and weather conditions\n",
    "grouped_data = data.groupby(['vegetation_type', 'weather_condition']).agg({\n",
    "    'temperature': 'mean',\n",
    "    'wind_speed': 'mean'\n",
    "}).reset_index()\n",
    "\n",
    "print(grouped_data)\n",
    "\n",
    "# Calculate correlation between vegetation type and fire intensity\n",
    "correlation = data[['vegetation_type', 'fire_intensity']].corr()\n",
    "print(correlation)\n",
    "\n",
    "# Visualize the correlation\n",
    "import matplotlib.pyplot as plt\n",
    "import seaborn as sns\n",
    "\n",
    "sns.barplot(x='vegetation_type', y='fire_intensity', data=data)\n",
    "plt.title('Correlation Between Vegetation Type and Fire Intensity')\n",
    "plt.show()\n",
    "\n",
    "# Calculate average fire intensity for each weather condition\n",
    "avg_fire_intensity = data.groupby('weather_condition')['fire_intensity'].mean()\n",
    "\n",
    "# Find the weather condition with the highest average fire intensity\n",
    "highest_intensity_condition = avg_fire_intensity.idxmax()\n",
    "print(\"Weather Condition with Highest Fire Intensity:\", highest_intensity_condition)\n",
    "\n",
    "# Filter incidents with temperatures above 100°F\n",
    "above_100f = data[data['temperature'] > 100]\n",
    "\n",
    "# Calculate the percentage\n",
    "percentage_above_100f = (len(above_100f) / len(data)) * 100\n",
    "print(f\"Percentage of incidents above 100°F: {percentage_above_100f:.2f}%\")"
   ]
  },
  {
   "cell_type": "code",
   "execution_count": null,
   "metadata": {},
   "outputs": [],
   "source": [
    "import sqlite3\n",
    "\n",
    "# Create a SQLite database and connection\n",
    "conn = sqlite3.connect('fire_incidents.db')\n",
    "\n",
    "# Store the data in a table\n",
    "data.to_sql('fire_incidents', conn, if_exists='replace', index=False)\n",
    "print(\"Data stored in SQLite database.\")\n",
    "\n",
    "# Query the database\n",
    "# Identify fire incidents where the temperature exceeded 120°F and wind speed was above 15 mph\n",
    "SELECT vegetation_type, AVG(temperature) AS avg_temperature, AVG(wind_speed) AS avg_wind_speed\n",
    "FROM fire_incidents\n",
    "GROUP BY vegetation_type;"
   ]
  },
  {
   "cell_type": "markdown",
   "metadata": {},
   "source": [
    "Compare the SQL Approach with the Direct Pandas Approach\n",
    "\n",
    "Advantages of SQL:\n",
    "- SQL is optimized for querying large datasets stored in databases.\n",
    "- SQL can handle larger datasets more efficiently than Pandas in memory-constrained environments.\n",
    "- SQL is a standardized language, making it portable across different database systems.\n",
    "Advantages of Pandas:\n",
    "- Pandas provides a more intuitive (easy to use) and Pythonic way to manipulate data.\n",
    "- Pandas allows for more complex data transformations and custom logic.\n",
    "- Pandas integrates seamlessly with Python libraries for visualization and machine learning.\n",
    "Disadvantages:\n",
    "- SQL can be less flexible for complex transformations.\n",
    "- Pandas can struggle with very large datasets due to memory limitations."
   ]
  }
 ],
 "metadata": {
  "kernelspec": {
   "display_name": "venv",
   "language": "python",
   "name": "python3"
  },
  "language_info": {
   "codemirror_mode": {
    "name": "ipython",
    "version": 3
   },
   "file_extension": ".py",
   "mimetype": "text/x-python",
   "name": "python",
   "nbconvert_exporter": "python",
   "pygments_lexer": "ipython3",
   "version": "3.12.3"
  }
 },
 "nbformat": 4,
 "nbformat_minor": 2
}
