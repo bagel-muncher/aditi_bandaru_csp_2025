{
 "cells": [
  {
   "cell_type": "markdown",
   "metadata": {},
   "source": [
    "---\n",
    "toc: true\n",
    "layout: post\n",
    "title: Tri 1 Review and 2018 Practice MCQ Review\n",
    "description: This a reflection of the past 12 weeks\n",
    "permalink: /sprint_2/lesson_homework/2024-10-07-3-1-hacks_IPYNB_2_\n",
    "categories: [GitHub Pages]\n",
    "type: ccc\n",
    "---"
   ]
  },
  {
   "cell_type": "markdown",
   "metadata": {},
   "source": [
    "# Trimester 1 Review\n",
    "Trimester 1 went by really fast. Usually I have a rocky start the school year with Tri 1, but this year Tri 1 went by very smoothly. I am very grateful to have been in an amazing and collaborative team in AP CSP Tri 1. I had a fun time working with my teammates, especially on our Flocker social media page.\n",
    "## Something Great that I did in Tri 1\n",
    "\n"
   ]
  }
 ],
 "metadata": {
  "language_info": {
   "name": "python"
  }
 },
 "nbformat": 4,
 "nbformat_minor": 2
}
