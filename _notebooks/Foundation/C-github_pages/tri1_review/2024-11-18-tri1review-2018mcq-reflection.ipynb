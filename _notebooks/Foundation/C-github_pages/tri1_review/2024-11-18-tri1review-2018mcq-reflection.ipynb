{
 "cells": [
  {
   "cell_type": "markdown",
   "metadata": {},
   "source": [
    "---\n",
    "toc: true\n",
    "layout: post\n",
    "title: Tri 1 Review and 2018 Practice MCQ Review\n",
    "description: This a reflection of the past 12 weeks\n",
    "permalink: /tri1_review/2024-11-18-tri1review-2018mcq-reflection_IPYNB_2_\n",
    "categories: [GitHub Pages]\n",
    "type: ccc\n",
    "---"
   ]
  },
  {
   "cell_type": "markdown",
   "metadata": {},
   "source": [
    "# Trimester 1 Review\n",
    "Trimester 1 went by really fast. Usually I have a rocky start the school year with Tri 1, but this year Tri 1 went by very smoothly. I am very grateful to have been in an amazing and collaborative team in AP CSP Tri 1. I had a fun time working with my teammates, especially on our Flocker social media page.\n",
    "## Something Great that I did in Tri 1\n",
    "I helped brainstorm ideas for my team's Flocker page. I drew sketches on my iPad of what layout/designs we wanted and what functions should be on our page.\n",
    " \n"
   ]
  },
  {
   "cell_type": "markdown",
   "metadata": {},
   "source": [
    "# 2018 Practice MCQ Review + Reflection\n",
    "I got a 53/66 on this practice MCQ. Considering that this was my first practice for the AP course, I was surprised by my score. I had no idea what the questions were like going into this so I just tried to common sense or logic to answer the questions. One thing I realized from this practice, is that I need to read the questions and look at the code/diagrams more carefully. I missed simple details which led me to the wrong answer, so I have to be more alert."
   ]
  },
  {
   "cell_type": "markdown",
   "metadata": {},
   "source": [
    "## Correcting my incorrect answers\n",
    "\n",
    "### Question 11 - Writing code to use procedure DrawCircle\n",
    "<img src=\"{{site.baseurl}}/images/notebooks/2018_practice_mcq/question10.png\">\n",
    "<br>\n",
    "<strong>Answers</strong>\n",
    "<img src=\"{{site.baseurl}}/images/notebooks/2018_practice_mcq/question10_answers.png\">\n",
    "<br>\n",
    "<p>Answer C is incorrect because the code segment draws a circle centered at the coordinates (7, 2), then moves to the right and up, drawing circles centered at (9, 4) and (11, 6). <strong>Answer B is correct</strong> because the code segment draws a circle centered at the coordinates (3, 6), then moves to the right and down, drawing circles centered at (5, 4) and (7, 2).</p>"
   ]
  },
  {
   "cell_type": "markdown",
   "metadata": {},
   "source": [
    "### Question 14 - Comparing Loop Algorithms\n",
    "<img src=\"{{site.baseurl}}/images/notebooks/2018_practice_mcq/question14.png\">\n",
    "<br>\n",
    "<p>Answer D is incorrect because both programs display ten values. <strong>Answer C is correct</strong> The programs both display 10 values as C states. Additionally, Program B is one greater than the corresponding value from program A. Program A displays 1 2 3 4 5 6 7 8 9 10 and program B displays  2 3 4 5 6 7 8 9 10 11. </p>"
   ]
  },
  {
   "cell_type": "markdown",
   "metadata": {},
   "source": [
    "### Question 21 - Compaing Robot Algorithms\n",
    "Skill 3.B\n",
    "<img src=\"{{site.baseurl}}/images/notebooks/2018_practice_mcq/question21.png\">\n",
    "<img src=\"{{site.baseurl}}/images/notebooks/2018_practice_mcq/question21_answers.png\">\n",
    "<br>\n",
    "<p>Answer A is incorrect because the code segment moves the robot forward two squares, rotates it right one time so that the robot faces the bottom of the grid, and then moves the robot forward three squares. <strong>Answer B is correct</strong> because this code segment moves the robot forward two squares, rotates it right three times so that the robot faces the top of the grid, and then moves the robot forward three squares to the gray square.</p>"
   ]
  },
  {
   "cell_type": "markdown",
   "metadata": {},
   "source": [
    "### Question 22 - Procedure to determine the weather\n",
    "Skill 2.B\n",
    "<img src=\"{{site.baseurl}}/images/notebooks/2018_practice_mcq/question22.png\">\n",
    "<br>\n",
    "<p>Answer D is incorrect because this Boolean expression will always evaluate to true because total (the number of temperatures in the list) will always be greater than 50% of counter (the number of temperatures greater than or equal to 90). <strong>Answer D is correct</strong>  This Boolean expression evaluates to true when counter (the number of temperatures greater than or equal to 90) is greater than 50% of total (the number of entries in the list).</p>\n",
    "<br>\n",
    "<strong>I'm still a bit confused on this concept so I'm bolding this area to come back and review</strong>"
   ]
  },
  {
   "cell_type": "markdown",
   "metadata": {},
   "source": [
    "### Question 26 - Completing robot code by adding if statement\n",
    "Skill 2.B\n",
    "<img src=\"{{site.baseurl}}/images/notebooks/2018_practice_mcq/question26.png\">\n",
    "<br>\n",
    "<p>Answer C is incorrect because the code segment moves the robot up and down between its initial location and the square above its initial location.</p>\n",
    "<p><strong>Answer A is correct</strong> because the code segment rotates right whenever there is an open square to the right. The robot will move forward from its initial location to the upper-left corner of the grid, then rotate right, then move forward to the upper-right corner of the grid, then rotate right, then move down two squares, then rotate right, then move forward to the gray square.</p>"
   ]
  },
  {
   "cell_type": "markdown",
   "metadata": {},
   "source": [
    "### Question 30 - Video-streaming service by genre\n",
    "Skill 1.D\n",
    "<img src=\"{{site.baseurl}}/images/notebooks/2018_practice_mcq/question30.png\">\n",
    "<br>\n",
    "<p>Answer A is incorrect because this approximation assumes that the  Analysis procedure is called only once.</p>\n",
    "<p><strong>Answer D is correct </strong> because each call to the Analysis procedure requires one hour of program execution time. The procedure is called\n",
    "once before the loop, and then four times inside the loop (once for each of the four entries in One word, genre List). Therefore, the program will take approximately 5 hours to execute.</p>"
   ]
  },
  {
   "cell_type": "markdown",
   "metadata": {},
   "source": [
    "### Question 43 - Runtime of algorithm for online retailer\n",
    "Skill 1.D\n",
    "<img src=\"{{site.baseurl}}/images/notebooks/2018_practice_mcq/question43.png\">\n",
    "<br>\n",
    "<p>Answer B is incorrect bcause the number of steps of the algorithm is a polynomial, so the algorithm runs in reasonable time.</p>\n",
    "<p>Answer A is correct because the pattern in the table appears to indicate that there are n squared steps for a list containing n items. This number of steps is a polynomial and therefore the algorithm runs in reasonable time.</p>\n"
   ]
  },
  {
   "cell_type": "markdown",
   "metadata": {},
   "source": [
    "### Question 44 - Using a 4 bit representation for integers\n",
    "Skill 1.D\n",
    "<img src=\"{{site.baseurl}}/images/notebooks/2018_practice_mcq/question44.png\">\n",
    "<br>\n",
    "<p>Answer C is incorrect. The operation 10 plus 7 causes an overflow error, but 12 plus 3 does not produce a result large enough to cause an overflow error.</p>\n",
    "<p>Answer B is correct because with a 4-bit integer representation, 2 to the fourth power values can be represented, which allows for the values between 0 to 1 5, inclusive. If an operation results in a value greater than 15, an overflow error will occur. Of the operations given in the options, only 10 plus 7 gives a result larger than 15.</p>"
   ]
  },
  {
   "cell_type": "markdown",
   "metadata": {},
   "source": [
    "### Question 48 - Science experiment with 75 percent successful trials\n",
    "Skill 2.B\n",
    "<img src=\"{{site.baseurl}}/images/notebooks/2018_practice_mcq/question48.png\">\n",
    "<br>\n",
    "<p>Answer C is incorrect because it causes the experiment to be successful when RANDOM, open parenthesis 1 comma 100, close parenthesis results in exactly 7 5, or 1% of the time.</p>\n",
    "<p>Answer D is correct because it causes the experiment to be successful when RANDOM, open parenthesis 1 comma 100, close parenthesis produces a result from 1 to 75, or 75% of the time.</p>\n"
   ]
  },
  {
   "cell_type": "markdown",
   "metadata": {},
   "source": [
    "### Question 50 - Searching list target\n",
    "Skill 4.B\n",
    "<img src=\"{{site.baseurl}}/images/notebooks/2018_practice_mcq/question50.png\">\n",
    "<br>\n",
    "<p>Answer D is incorrect because the procedure implements a linear search, but the list does not need to be sorted. Answer B is correct because the procedure implements a linear search, which sequentially compares each element of the list with the target\n",
    "value. The list does not need to be sorted because the procedure checks list elements until either the target is found or it reaches the end of the list.</p>"
   ]
  },
  {
   "cell_type": "markdown",
   "metadata": {},
   "source": [
    "### Question 58 - Defining Internet enabled crowdsourcing\n",
    "Skill 1.C\n",
    "<img src=\"{{site.baseurl}}/images/notebooks/2018_practice_mcq/question58.png\">\n",
    "<br>\n",
    "<p>Answer D is incorrect because only statements I and II are correct. Option III is incorrect because there are some problems that cannot be solved in reasonable time. Answer A is correct because the Internet can provide tools, information, and knowledge to crowdsourcing participants and can lower geographic barriers to potential participants. However, there exist problems that cannot be solved in reasonable time, even with a distributed approach.</p>"
   ]
  },
  {
   "cell_type": "markdown",
   "metadata": {},
   "source": [
    "### Question 60 - Managing complexity with abstraction\n",
    "Skill 3.C\n",
    "<img src=\"{{site.baseurl}}/images/notebooks/2018_practice_mcq/question60.png\">\n",
    "<br>\n",
    "<p>Answer C is incorrect because placing all documentation in a single line does not help a programmer to manage the complexity of a program. Answer D is correct because creating a list of names is an example of a data abstraction that may make it easier for a programmer to manage the complexity of a program.</p>"
   ]
  },
  {
   "cell_type": "markdown",
   "metadata": {},
   "source": [
    "### Question 63 - Use of isPrime procedure\n",
    "Skill 4.C\n",
    "<img src=\"{{site.baseurl}}/images/notebooks/2018_practice_mcq/question63.png\">\n",
    "<br>\n",
    "<p>Answer A is incorrect this option is incorrect. The variable count should be set to 0 before the loop so that it starts counting at 1. Answer B is correct because if count is set to 0 repeatedly inside the loop, it will not provide an accurate count of the number of prime numbers in the list. Answer D is correct because  if count is incremented outside the IF statement, it will increase for all entries in the list instead of just the prime entries. </p>"
   ]
  },
  {
   "cell_type": "markdown",
   "metadata": {},
   "source": [
    "## Areas of Improvement\n",
    "The topics that I scored a 50% in were:\n",
    "<ul>\n",
    "    <li>Conditionals</li>\n",
    "    <li>Developing Algorithms</li>\n",
    "    <li>Developing procedures</li>\n",
    "    <li>Random Values</li>\n",
    "    <li>Crowdsourcing</li>\n",
    "</ul>\n",
    "The topics I scored 0% on were:\n",
    "<ul>\n",
    "    <li>Lists</li>\n",
    "    <li>Algorithmic Efficency</li>\n",
    "</ul>\n",
    "\n",
    "Big Idea that needs the most improvement: Algorithms and Programming\n",
    "Skills that need the most improvment: 1.C, 1.D, 2.B, 3.B\n",
    "\n",
    "The types of questions that I did better on were the ones relating to Logic and Ethics of using the Internet becuase I was kind of familiar with them prior to this practice. I need to improve the actual programming questions."
   ]
  }
 ],
 "metadata": {
  "language_info": {
   "name": "python"
  }
 },
 "nbformat": 4,
 "nbformat_minor": 2
}
