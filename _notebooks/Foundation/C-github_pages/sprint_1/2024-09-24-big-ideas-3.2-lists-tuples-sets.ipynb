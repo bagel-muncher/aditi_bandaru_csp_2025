{
 "cells": [
  {
   "cell_type": "markdown",
   "metadata": {},
   "source": [
    "# Data Types in Python: Lists, Tuples, Sets\n",
    "These data types are all used to store multiple items in one variable. However, each data type have different formats and uses. \n"
   ]
  },
  {
   "cell_type": "markdown",
   "metadata": {},
   "source": [
    "## Javascript: Arrays\n",
    "Arrays in Javascript are the equivalent to Lists, Tuples, and Sets in Python\n",
    "<br>"
   ]
  },
  {
   "cell_type": "code",
   "execution_count": 1,
   "metadata": {},
   "outputs": [
    {
     "data": {
      "application/javascript": "const sesame_street = [\"Elmo\", \"Cookie Monster\", \"Oscar the Grouch\", \"Grover\"]; \nlet sesame_street = sesame_street[0]\n\nprint(\"Sesame Street Character: \", sesame_street)\n",
      "text/plain": [
       "<IPython.core.display.Javascript object>"
      ]
     },
     "metadata": {},
     "output_type": "display_data"
    }
   ],
   "source": [
    "%%javascript\n",
    "const sesame_street = [\"Elmo\", \"Cookie Monster\", \"Oscar the Grouch\", \"Grover\"]; \n",
    "let sesame_street = sesame_street[0]\n",
    "\n",
    "print(\"Sesame Street Character: \", sesame_street)"
   ]
  },
  {
   "cell_type": "markdown",
   "metadata": {},
   "source": [
    "# Lists\n",
    "Lists use <strong>square brackets []</strong> and are ordered and can be modfied (are changeable). Lists are best used for storing multiple values of the same or different data types. Items can be duplicated in lists. Lists can be modified (lists are mutable)."
   ]
  },
  {
   "cell_type": "code",
   "execution_count": 29,
   "metadata": {},
   "outputs": [
    {
     "name": "stdout",
     "output_type": "stream",
     "text": [
      "['Elmo', 'Cookie Monster', 'Oscar the Grouch', 'Grover']\n"
     ]
    }
   ],
   "source": [
    "sesame = [\"Elmo\", \"Cookie Monster\", \"Oscar the Grouch\", \"Grover\"]\n",
    "print(sesame)"
   ]
  },
  {
   "cell_type": "code",
   "execution_count": 27,
   "metadata": {},
   "outputs": [
    {
     "name": "stdout",
     "output_type": "stream",
     "text": [
      "Oscar the Grouch\n"
     ]
    }
   ],
   "source": [
    "#Lists are indexed. \"0\" = the first item, \"1\" = the second item, and so on\n",
    "print(sesame[2])"
   ]
  },
  {
   "cell_type": "code",
   "execution_count": 28,
   "metadata": {},
   "outputs": [
    {
     "name": "stdout",
     "output_type": "stream",
     "text": [
      "Elmo\n",
      "Cookie Monster\n",
      "Oscar the Grouch\n",
      "Grover\n"
     ]
    }
   ],
   "source": [
    "#looping this list\n",
    "for x in sesame:\n",
    "  print(x)"
   ]
  },
  {
   "cell_type": "code",
   "execution_count": 30,
   "metadata": {},
   "outputs": [
    {
     "name": "stdout",
     "output_type": "stream",
     "text": [
      "['Elmo', 'Cookie Monster', 'Oscar the Grouch', 'Grover']\n",
      "['Elmo', 'Cookie Monster', 'Oscar the Grouch', 'Big Bird']\n"
     ]
    }
   ],
   "source": [
    "sesame = [\"Elmo\", \"Cookie Monster\", \"Oscar the Grouch\", \"Grover\"]\n",
    "print(sesame)\n",
    "\n",
    "sesame[3] = \"Big Bird\"\n",
    "print(sesame)"
   ]
  },
  {
   "cell_type": "markdown",
   "metadata": {},
   "source": [
    "# Tuples\n",
    "Tuples use <strong>round brackets ()</strong> and are ordered and are be defined/unmutable (cannot be changed). Tuples are useful for representing fixed sequences of data. Tuples are indexed so the first item is \"0\", the second item is \"1\", and so on. Items in tuples can be duplicated."
   ]
  },
  {
   "cell_type": "code",
   "execution_count": 31,
   "metadata": {},
   "outputs": [
    {
     "name": "stdout",
     "output_type": "stream",
     "text": [
      "('Dipsy', 'Tinky-Winky', 'Po', 'Laa-Laa')\n"
     ]
    }
   ],
   "source": [
    "teletubbies = (\"Dipsy\", \"Tinky-Winky\", \"Po\", \"Laa-Laa\")\n",
    "print(teletubbies)\n"
   ]
  },
  {
   "cell_type": "code",
   "execution_count": 32,
   "metadata": {},
   "outputs": [
    {
     "ename": "TypeError",
     "evalue": "'tuple' object does not support item assignment",
     "output_type": "error",
     "traceback": [
      "\u001b[0;31m---------------------------------------------------------------------------\u001b[0m",
      "\u001b[0;31mTypeError\u001b[0m                                 Traceback (most recent call last)",
      "Cell \u001b[0;32mIn[32], line 2\u001b[0m\n\u001b[1;32m      1\u001b[0m \u001b[38;5;66;03m#What happens you try to change the tuple?\u001b[39;00m\n\u001b[0;32m----> 2\u001b[0m \u001b[43mteletubbies\u001b[49m\u001b[43m[\u001b[49m\u001b[38;5;241;43m2\u001b[39;49m\u001b[43m]\u001b[49m \u001b[38;5;241m=\u001b[39m \u001b[38;5;124m\"\u001b[39m\u001b[38;5;124mDipsy\u001b[39m\u001b[38;5;124m\"\u001b[39m\n",
      "\u001b[0;31mTypeError\u001b[0m: 'tuple' object does not support item assignment"
     ]
    }
   ],
   "source": [
    "#What happens you try to change the tuple?\n",
    "teletubbies[2] = \"Dipsy\"\n",
    "\n",
    "#The tuple does not allow for the change to occur"
   ]
  },
  {
   "cell_type": "markdown",
   "metadata": {},
   "source": [
    "# Sets\n",
    "Sets use <strong>curly brackets {}</strong> and are unordered and unmutable (cannot be changed). Sets are best used for tasks such as removing duplicates from a list or performing set operations. Duplicates aren't allowed in sets but adding and removing items are allowed. Indexing on sets can't be done because sets are unordered."
   ]
  },
  {
   "cell_type": "code",
   "execution_count": 33,
   "metadata": {},
   "outputs": [
    {
     "name": "stdout",
     "output_type": "stream",
     "text": [
      "{'Tyrone', 'Uniqua', 'Pablo', 'Tasha'}\n"
     ]
    }
   ],
   "source": [
    "backyardigans = {\"Uniqua\", \"Pablo\", \"Tyrone\", \"Tasha\"}\n",
    "print(backyardigans)"
   ]
  },
  {
   "cell_type": "code",
   "execution_count": 35,
   "metadata": {},
   "outputs": [
    {
     "name": "stdout",
     "output_type": "stream",
     "text": [
      "{'Tasha', 'Uniqua', 'Pablo', 'Austin', 'Tyrone'}\n"
     ]
    }
   ],
   "source": [
    "#To add an item in a set:\n",
    "backyardigans.add(\"Austin\")\n",
    "print(backyardigans)\n",
    "\n",
    "#To remove an item in a set do: setname.remove\n",
    "#Example: backyardigans.remove(\"Pablo\")"
   ]
  },
  {
   "cell_type": "markdown",
   "metadata": {},
   "source": [
    "# Videos for additional information\n",
    "<iframe width=\"400\" height=\"250\" src=\"https://www.youtube.com/embed/gOMW_n2-2Mw\"></iframe>\n",
    "<br>\n",
    "<br>\n",
    "If you want a more in-depth one:\n",
    "<br>\n",
    "<br>\n",
    "<iframe width=\"400\" height=\"250\" src=\"https://www.youtube.com/embed/W8KRzm-HUcc\"></iframe>"
   ]
  },
  {
   "cell_type": "markdown",
   "metadata": {},
   "source": [
    "# Popcorn Hack\n",
    "Create a list of data that could work with your GitHub Pages Blog Topic. For example, if your blog was about movies from different genres, make a list of movies for every genre. "
   ]
  }
 ],
 "metadata": {
  "kernelspec": {
   "display_name": "venv",
   "language": "python",
   "name": "python3"
  },
  "language_info": {
   "codemirror_mode": {
    "name": "ipython",
    "version": 3
   },
   "file_extension": ".py",
   "mimetype": "text/x-python",
   "name": "python",
   "nbconvert_exporter": "python",
   "pygments_lexer": "ipython3",
   "version": "3.12.3"
  }
 },
 "nbformat": 4,
 "nbformat_minor": 2
}
