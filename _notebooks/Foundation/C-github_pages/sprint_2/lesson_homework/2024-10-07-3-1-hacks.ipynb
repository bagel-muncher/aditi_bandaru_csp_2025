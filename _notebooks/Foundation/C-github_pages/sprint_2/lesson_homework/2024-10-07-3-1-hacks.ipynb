{
 "cells": [
  {
   "cell_type": "markdown",
   "metadata": {},
   "source": [
    "# 3.1 Hacks"
   ]
  },
  {
   "cell_type": "markdown",
   "metadata": {},
   "source": [
    "## Profile Creation"
   ]
  },
  {
   "cell_type": "code",
   "execution_count": 3,
   "metadata": {},
   "outputs": [
    {
     "name": "stdout",
     "output_type": "stream",
     "text": [
      "['', '', '']\n",
      "Hi my name is , I'm  years old, and my favorite brawler is \n"
     ]
    }
   ],
   "source": [
    "var1 = input(\"Aditi\")\n",
    "var2 = input(\"Senior\")\n",
    "var3 = input(\"Tokyo Vice\")\n",
    "\n",
    "my_list = [var1, var2, var3]\n",
    "\n",
    "print(my_list)\n",
    "\n",
    "print(\"Hi my name is \" + var1 + \" I'm \" +  var2 + \" years old\" + \", and my favorite brawler is \" + var3)"
   ]
  }
 ],
 "metadata": {
  "kernelspec": {
   "display_name": "venv",
   "language": "python",
   "name": "python3"
  },
  "language_info": {
   "codemirror_mode": {
    "name": "ipython",
    "version": 3
   },
   "file_extension": ".py",
   "mimetype": "text/x-python",
   "name": "python",
   "nbconvert_exporter": "python",
   "pygments_lexer": "ipython3",
   "version": "3.12.3"
  }
 },
 "nbformat": 4,
 "nbformat_minor": 2
}
