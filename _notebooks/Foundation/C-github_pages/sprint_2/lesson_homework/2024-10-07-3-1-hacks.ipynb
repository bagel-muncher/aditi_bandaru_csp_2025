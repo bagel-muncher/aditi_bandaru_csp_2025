{
 "cells": [
  {
   "cell_type": "raw",
   "metadata": {
    "vscode": {
     "languageId": "raw"
    }
   },
   "source": [
    "---\n",
    "toc: true\n",
    "layout: post\n",
    "title: 3.1 Hacks\n",
    "description: Homework for the Big Ideas 3.1 Lesson\n",
    "permalink: /sprint_2/lesson_homework/2024-10-07-3-1-hacks_IPYNB_2_\n",
    "categories: [GitHub Pages]\n",
    "type: ccc\n",
    "---"
   ]
  },
  {
   "cell_type": "markdown",
   "metadata": {},
   "source": [
    "## Popcorn Hack: Profile Creation"
   ]
  },
  {
   "cell_type": "markdown",
   "metadata": {},
   "source": [
    "Python:"
   ]
  },
  {
   "cell_type": "code",
   "execution_count": 3,
   "metadata": {},
   "outputs": [
    {
     "name": "stdout",
     "output_type": "stream",
     "text": [
      "['Aditi', '12th grade', 'Tokyo vice']\n",
      "{'12th grade', 'Aditi', 'Tokyo vice'}\n",
      "Hi my name is Aditi I'm in 12th grade, and my favorite TV show is Tokyo vice\n"
     ]
    }
   ],
   "source": [
    "var1 = input(\"What is your name?:\")\n",
    "var2 = input(\"What grade are you in?:\")\n",
    "var3 = input(\"What is your favorite TV show?:\")\n",
    "\n",
    "my_list = [var1, var2, var3]\n",
    "\n",
    "my_dict = {\n",
    "    var1,\n",
    "    var2,\n",
    "    var3\n",
    "}\n",
    "\n",
    "print(my_list)\n",
    "print(my_dict)\n",
    "\n",
    "print(\"Hi my name is \" + var1 + \" I'm in \" +  var2 + \", and my favorite TV show is \" + var3)\n",
    "\n"
   ]
  },
  {
   "cell_type": "markdown",
   "metadata": {},
   "source": [
    "Javascript:"
   ]
  },
  {
   "cell_type": "code",
   "execution_count": 5,
   "metadata": {},
   "outputs": [
    {
     "data": {
      "application/javascript": "const name = prompt(\"What is your name?:\");\nconst grade = prompt(\"What grade are you in?:\");\nconst show = prompt(\"What is your favorite TV show?:\");\n\n\nconst myList = [name, grade, show];\nconsole.log(myList)\n\n\nconst myProf = {\n    name: name,\n    grade: grade,\n    tv_show: show\n};\n\nconsole.log(myProf)\n\n\nconsole.log(\"Hi, my name is \" + var1 + \", I'm in \" + var2 + \" , and my favorite TV show is \" + var3 + \".\")\n",
      "text/plain": [
       "<IPython.core.display.Javascript object>"
      ]
     },
     "metadata": {},
     "output_type": "display_data"
    }
   ],
   "source": [
    "%%js\n",
    "const name = prompt(\"What is your name?:\");\n",
    "const grade = prompt(\"What grade are you in?:\");\n",
    "const show = prompt(\"What is your favorite TV show?:\");\n",
    "\n",
    "\n",
    "const myList = [name, grade, show];\n",
    "console.log(myList)\n",
    "\n",
    "\n",
    "const myProf = {\n",
    "    name: name,\n",
    "    grade: grade,\n",
    "    tv_show: show\n",
    "};\n",
    "\n",
    "console.log(myProf)\n",
    "\n",
    "\n",
    "console.log(\"Hi, my name is \" + var1 + \", I'm in \" + var2 + \" , and my favorite TV show is \" + var3 + \".\")"
   ]
  },
  {
   "cell_type": "markdown",
   "metadata": {},
   "source": [
    "# Homwork Hack"
   ]
  },
  {
   "cell_type": "markdown",
   "metadata": {},
   "source": [
    "Python example:"
   ]
  },
  {
   "cell_type": "code",
   "execution_count": 6,
   "metadata": {},
   "outputs": [
    {
     "name": "stdout",
     "output_type": "stream",
     "text": [
      "Personal Info:\n",
      "- Full Name: John Doe\n",
      "- Age: 28\n",
      "- Email: john.doe@gmail.com\n",
      "- Hobby: Food Tasting\n",
      "- Dietary Preferences: Vegan\n",
      "- Unique ID: JD28\n"
     ]
    }
   ],
   "source": [
    "full_name = \"John Doe\"\n",
    "age = 28\n",
    "email = \"john.doe@gmail.com\"\n",
    "hobby = \"Food Tasting\"\n",
    "dietary_preferences = \"Vegan\"\n",
    "\n",
    "initials = full_name[0] + full_name[full_name.find(\" \") + 1]\n",
    "unique_id = initials + str(age)\n",
    "\n",
    "formatted_info = \"Personal Info:\\n\" \\\n",
    "                 \"- Full Name: \" + full_name + \"\\n\" \\\n",
    "                 \"- Age: \" + str(age) + \"\\n\" \\\n",
    "                 \"- Email: \" + email + \"\\n\" \\\n",
    "                 \"- Hobby: \" + hobby + \"\\n\" \\\n",
    "                 \"- Dietary Preferences: \" + dietary_preferences + \"\\n\" \\\n",
    "                 \"- Unique ID: \" + unique_id\n",
    "\n",
    "print(formatted_info)"
   ]
  },
  {
   "cell_type": "markdown",
   "metadata": {},
   "source": [
    "Javascript"
   ]
  },
  {
   "cell_type": "code",
   "execution_count": 7,
   "metadata": {},
   "outputs": [
    {
     "data": {
      "application/javascript": "// User Data\nlet fullName = \"Aditi Bandaru\"; \nlet age = 17; \nlet email = \"adtband12@gmail.com\"; \nlet hobby = \"Reading\"; \nlet instrument: \"piano\"; \n\n//Generate unique ID:\nlet lastNameStart = fullName.split(\" \")[1].substring(0,3); // \"Ban\"\nlet firstNameStart = full_name.split(\" \")[0].substring(0,3); //\"Adi\"\nlet reAge = age.toString().split(\"\").reverse().join(\"\"); //\"15\"\n\nlet specialCharacters = \"!@#$%^&*_\"; \nlet randomChar = \nspecialCharacters.charAt(Math.floor(Math.random() * specialCharacters.length));\n\n// Unique ID\nlet id = firstNameStart + lastNameStart + reAge + randomChar; // \"AdiBan17*\"\n\n//output info\nconsole.log(formattedeInfo)\n\nconsole.log(id)\n",
      "text/plain": [
       "<IPython.core.display.Javascript object>"
      ]
     },
     "metadata": {},
     "output_type": "display_data"
    }
   ],
   "source": [
    "%%js\n",
    "// User Data\n",
    "let fullName = \"Aditi Bandaru\"; \n",
    "let age = 17; \n",
    "let email = \"adtband12@gmail.com\"; \n",
    "let hobby = \"Reading\"; \n",
    "let instrument: \"piano\"; \n",
    "\n",
    "//Generate unique ID:\n",
    "let lastNameStart = fullName.split(\" \")[1].substring(0,3); // \"Ban\"\n",
    "let firstNameStart = full_name.split(\" \")[0].substring(0,3); //\"Adi\"\n",
    "let reAge = age.toString().split(\"\").reverse().join(\"\"); //\"15\"\n",
    "\n",
    "let specialCharacters = \"!@#$%^&*_\"; \n",
    "let randomChar = \n",
    "specialCharacters.charAt(Math.floor(Math.random() * specialCharacters.length));\n",
    "\n",
    "// Unique ID\n",
    "let id = firstNameStart + lastNameStart + reAge + randomChar; // \"AdiBan17*\"\n",
    "\n",
    "//output info\n",
    "console.log(formattedeInfo)\n",
    "\n",
    "console.log(id)\n"
   ]
  },
  {
   "cell_type": "raw",
   "metadata": {
    "vscode": {
     "languageId": "raw"
    }
   },
   "source": [
    "<IPython.core.display.Javascript object>"
   ]
  }
 ],
 "metadata": {
  "kernelspec": {
   "display_name": "venv",
   "language": "python",
   "name": "python3"
  },
  "language_info": {
   "codemirror_mode": {
    "name": "ipython",
    "version": 3
   },
   "file_extension": ".py",
   "mimetype": "text/x-python",
   "name": "python",
   "nbconvert_exporter": "python",
   "pygments_lexer": "ipython3",
   "version": "3.12.3"
  }
 },
 "nbformat": 4,
 "nbformat_minor": 2
}
