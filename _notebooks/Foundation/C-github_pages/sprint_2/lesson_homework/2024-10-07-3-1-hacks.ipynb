{
 "cells": [
  {
   "cell_type": "raw",
   "metadata": {
    "vscode": {
     "languageId": "raw"
    }
   },
   "source": [
    "---\n",
    "toc: true\n",
    "layout: post\n",
    "title: 3.1 Hacks\n",
    "description: Homework for the Big Ideas 3.1 Lesson\n",
    "permalink: /sprint_2/lesson_homework/2024-10-07-3-1-hacks_IPYNB_2_\n",
    "categories: [GitHub Pages]\n",
    "type: ccc\n",
    "---"
   ]
  },
  {
   "cell_type": "markdown",
   "metadata": {},
   "source": [
    "# 3.1 Hacks"
   ]
  },
  {
   "cell_type": "markdown",
   "metadata": {},
   "source": [
    "## Popcorn Hack: Profile Creation"
   ]
  },
  {
   "cell_type": "markdown",
   "metadata": {},
   "source": [
    "Python:"
   ]
  },
  {
   "cell_type": "code",
   "execution_count": 37,
   "metadata": {},
   "outputs": [
    {
     "name": "stdout",
     "output_type": "stream",
     "text": [
      "['', '', '']\n",
      "Hi my name is  I'm in, and my TV show is \n"
     ]
    }
   ],
   "source": [
    "var1 = input(\"What is your name?: Aditi\")\n",
    "var2 = input(\"What grade are you in?: 12th grade\")\n",
    "var3 = input(\"What is your favorite TV show?: Tokyo Vice\")\n",
    "\n",
    "my_list = [var1, var2, var3]\n",
    "\n",
    "print(my_list)\n",
    "\n",
    "print(\"Hi my name is \" + var1 + \" I'm in\" +  var2 + \", and my TV show is \" + var3)\n",
    "\n",
    "#the one above is the given template\n"
   ]
  },
  {
   "cell_type": "code",
   "execution_count": 15,
   "metadata": {},
   "outputs": [
    {
     "name": "stdout",
     "output_type": "stream",
     "text": [
      "Hi my name is Aditi I'm in 12th grade, and my favorite TV show is Tokyo Vice .\n"
     ]
    }
   ],
   "source": [
    "name = \"Aditi\"\n",
    "grade = \"12th grade\"\n",
    "tv_show = \"Tokyo Vice\"\n",
    "\n",
    "print(\"Hi my name is \" + name + \" I'm in \" +  grade + \", and my favorite TV show is \" + tv_show + \" .\")"
   ]
  },
  {
   "cell_type": "markdown",
   "metadata": {},
   "source": [
    "Javascript:"
   ]
  },
  {
   "cell_type": "code",
   "execution_count": 42,
   "metadata": {
    "vscode": {
     "languageId": "javascript"
    }
   },
   "outputs": [
    {
     "ename": "SyntaxError",
     "evalue": "invalid syntax (3344832348.py, line 1)",
     "output_type": "error",
     "traceback": [
      "\u001b[0;36m  Cell \u001b[0;32mIn[42], line 1\u001b[0;36m\u001b[0m\n\u001b[0;31m    const var1 = \"Aditi\"\u001b[0m\n\u001b[0m          ^\u001b[0m\n\u001b[0;31mSyntaxError\u001b[0m\u001b[0;31m:\u001b[0m invalid syntax\n"
     ]
    }
   ],
   "source": [
    "const var1 = \"Aditi\"\n",
    "const var2 = \"12th grade\"\n",
    "const var3 = \"Tokyo Vice\"\n",
    "\n",
    "\n",
    "const myList = [var1, var2, var3]\n",
    "console.log(myList)\n",
    "\n",
    "\n",
    "const myDict = {\n",
    "    name: var1,\n",
    "    grade: var2,\n",
    "    tv_show: var3\n",
    "}\n",
    "console.log(myDict)\n",
    "\n",
    "\n",
    "console.log(\"Hi, my name is \" + var1 + \", I'm in \" + var2 + \" , and my favorite TV show is \" + var3 + \".\")"
   ]
  }
 ],
 "metadata": {
  "kernelspec": {
   "display_name": "venv",
   "language": "python",
   "name": "python3"
  },
  "language_info": {
   "codemirror_mode": {
    "name": "ipython",
    "version": 3
   },
   "file_extension": ".py",
   "mimetype": "text/x-python",
   "name": "python",
   "nbconvert_exporter": "python",
   "pygments_lexer": "ipython3",
   "version": "3.12.3"
  }
 },
 "nbformat": 4,
 "nbformat_minor": 2
}
