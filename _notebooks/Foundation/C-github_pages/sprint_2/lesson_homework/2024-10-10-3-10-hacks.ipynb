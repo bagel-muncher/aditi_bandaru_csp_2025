{
 "cells": [
  {
   "cell_type": "raw",
   "metadata": {
    "vscode": {
     "languageId": "raw"
    }
   },
   "source": [
    "---\n",
    "toc: true\n",
    "layout: post\n",
    "title: 3.10 Hacks\n",
    "description: Homework for the Big Ideas 3.10 Lesson\n",
    "permalink: /sprint_2/lesson_homework/2024-10-10-3-10-hacks_IPYNB_2_\n",
    "categories: [GitHub Pages]\n",
    "type: ccc\n",
    "---"
   ]
  },
  {
   "cell_type": "markdown",
   "metadata": {},
   "source": [
    "# Popcorn Hacks"
   ]
  },
  {
   "cell_type": "markdown",
   "metadata": {},
   "source": [
    "Popcorn Hack #1 (10.1)"
   ]
  },
  {
   "cell_type": "code",
   "execution_count": 1,
   "metadata": {},
   "outputs": [
    {
     "name": "stdout",
     "output_type": "stream",
     "text": [
      "['Elmo', 'Cookie Monster', 'Oscar the Grouch', 'Grover', 'Big Bird']\n"
     ]
    }
   ],
   "source": [
    "#Try making your own list then apend an element\n",
    "sesame = [\"Elmo\", \"Cookie Monster\", \"Oscar the Grouch\", \"Grover\"]\n",
    "sesame.append('Big Bird')\n",
    "print(sesame)"
   ]
  },
  {
   "cell_type": "markdown",
   "metadata": {},
   "source": [
    "Popcorn Hack #2 (10.2)"
   ]
  },
  {
   "cell_type": "code",
   "execution_count": 4,
   "metadata": {},
   "outputs": [
    {
     "name": "stdout",
     "output_type": "stream",
     "text": [
      "['Elmo', 'Big Bird', 'Cookie Monster', 'Oscar the Grouch', 'Grover']\n"
     ]
    }
   ],
   "source": [
    "#Inserting\n",
    "sesame = [\"Elmo\", \"Cookie Monster\", \"Oscar the Grouch\", \"Grover\"]\n",
    "sesame.insert(1, \"Big Bird\")\n",
    "print(sesame)"
   ]
  },
  {
   "cell_type": "code",
   "execution_count": 5,
   "metadata": {},
   "outputs": [
    {
     "name": "stdout",
     "output_type": "stream",
     "text": [
      "['Elmo', 'Cookie Monster', 'Oscar the Grouch']\n"
     ]
    }
   ],
   "source": [
    "#Deleting\n",
    "sesame = [\"Elmo\", \"Cookie Monster\", \"Oscar the Grouch\", \"Grover\"]\n",
    "del sesame[3]\n",
    "print(sesame)"
   ]
  },
  {
   "cell_type": "markdown",
   "metadata": {},
   "source": [
    "Popcorn Hack #3 (10.3)"
   ]
  },
  {
   "cell_type": "code",
   "execution_count": 6,
   "metadata": {},
   "outputs": [
    {
     "name": "stdout",
     "output_type": "stream",
     "text": [
      "['Elmo', 'Cookie Monster', 'Oscar the Grouch', 'Big Bird']\n"
     ]
    }
   ],
   "source": [
    "sesame = [\"Elmo\", \"Cookie Monster\", \"Oscar the Grouch\", \"Grover\"]\n",
    "sesame[3] = \"Big Bird\"\n",
    "print(sesame)"
   ]
  },
  {
   "cell_type": "code",
   "execution_count": 7,
   "metadata": {},
   "outputs": [
    {
     "name": "stdout",
     "output_type": "stream",
     "text": [
      "4\n"
     ]
    }
   ],
   "source": [
    "sesame = [\"Elmo\", \"Cookie Monster\", \"Oscar the Grouch\", \"Grover\"]\n",
    "number_of_elements = len(sesame)\n",
    "print(number_of_elements)"
   ]
  },
  {
   "cell_type": "markdown",
   "metadata": {},
   "source": [
    "# Homework"
   ]
  },
  {
   "cell_type": "code",
   "execution_count": 14,
   "metadata": {},
   "outputs": [
    {
     "name": "stdout",
     "output_type": "stream",
     "text": [
      "Sum of even numbers in the list:  210\n",
      "The minimum value in the list is: 7\n",
      "The maximum value in the list is: 70\n"
     ]
    }
   ],
   "source": [
    "numbers = [7, 14, 21, 28, 35, 42, 49, 56, 63, 70]\n",
    "even_sum = 0\n",
    "for score in numbers:\n",
    "    if score % 2 == 0:\n",
    "        even_sum += score\n",
    "print(\"Sum of even numbers in the list: \", even_sum)\n",
    "#finding the minimum value\n",
    "min_value = numbers[0]\n",
    "\n",
    "# Loop through the list to find the minimum\n",
    "for num in numbers:\n",
    "    if num < min_value:\n",
    "        min_value = num\n",
    "\n",
    "print(f\"The minimum value in the list is: {min_value}\")\n",
    "\n",
    "# Maximum value\n",
    "max_value = numbers[9]\n",
    "\n",
    "for num in numbers:\n",
    "    if num < max_value:\n",
    "        min_value = num\n",
    "\n",
    "print(f\"The maximum value in the list is: {max_value}\")"
   ]
  }
 ],
 "metadata": {
  "kernelspec": {
   "display_name": "venv",
   "language": "python",
   "name": "python3"
  },
  "language_info": {
   "codemirror_mode": {
    "name": "ipython",
    "version": 3
   },
   "file_extension": ".py",
   "mimetype": "text/x-python",
   "name": "python",
   "nbconvert_exporter": "python",
   "pygments_lexer": "ipython3",
   "version": "3.12.3"
  }
 },
 "nbformat": 4,
 "nbformat_minor": 2
}
