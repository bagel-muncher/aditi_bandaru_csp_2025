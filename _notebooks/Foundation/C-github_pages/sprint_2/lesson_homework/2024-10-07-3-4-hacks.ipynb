{
 "cells": [
  {
   "cell_type": "raw",
   "metadata": {
    "vscode": {
     "languageId": "raw"
    }
   },
   "source": [
    "---\n",
    "toc: true\n",
    "layout: post\n",
    "title: 3.4 Hacks\n",
    "description: Homework for the Big Ideas 3.4 Lesson\n",
    "permalink: /sprint_2/lesson_homework/2024-10-07-3-4-hacks_IPYNB_2_\n",
    "categories: [GitHub Pages]\n",
    "type: ccc\n",
    "---"
   ]
  },
  {
   "cell_type": "markdown",
   "metadata": {},
   "source": [
    "## Popcorn Hacks"
   ]
  },
  {
   "cell_type": "code",
   "execution_count": 1,
   "metadata": {},
   "outputs": [
    {
     "data": {
      "application/javascript": "// String Length\nlet string = \"Hello World!\"; \n\nlet stringLength = string.length; \n\n//Output length\nconsole.log(\"The length of the string is: \", stringLength); \n\n",
      "text/plain": [
       "<IPython.core.display.Javascript object>"
      ]
     },
     "metadata": {},
     "output_type": "display_data"
    }
   ],
   "source": [
    "%%js\n",
    "// String Length\n",
    "let string = \"Hello World!\"; \n",
    "\n",
    "let stringLength = string.length; \n",
    "\n",
    "//Output length\n",
    "console.log(\"The length of the string is: \", stringLength); \n",
    "\n"
   ]
  },
  {
   "cell_type": "markdown",
   "metadata": {},
   "source": [
    "# Homework"
   ]
  },
  {
   "cell_type": "code",
   "execution_count": null,
   "metadata": {},
   "outputs": [],
   "source": [
    "%%js\n",
    "document.getElementById('passwordForm').addEventListener('submit', functionn(e)) {\n",
    "    e.preventDefault(); \n",
    "\n",
    "    const password = document.getElementById('password.toLowerCase();')\n",
    "    const resultDiv = document.getElementById('validationResult');\n",
    "    \n",
    "    // Validation checks using simple string methods\n",
    "    const minLength = password.length >= 8;\n",
    "    const hasUppercase = password !== password.toLowerCase(); // Checks if there's at least one uppercase letter\n",
    "    const hasLowercase = password !== password.toUpperCase(); // Checks if there's at least one lowercase letter\n",
    "    const hasNumber = password.indexOf('0') !== -1 || password.indexOf('1') !== -1 ||\n",
    "                      password.indexOf('2') !== -1 || password.indexOf('3') !== -1 ||\n",
    "                      password.indexOf('4') !== -1 || password.indexOf('5') !== -1 ||\n",
    "                      password.indexOf('6') !== -1 || password.indexOf('7') !== -1 ||\n",
    "                      password.indexOf('8') !== -1 || password.indexOf('9') !== -1;\n",
    "    if (minLength && hasUppercase && hasLowercase && hasNumber) {\n",
    "      resultDiv.innerHTML = `<p class=\"valid\">Password is valid!</p>`;\n",
    "    } else {\n",
    "      resultDiv.innerHTML = `<p class=\"invalid\">Password is invalid.</p>`;\n",
    "    }\n",
    "  });\n",
    "\n",
    "\n",
    "\n"
   ]
  }
 ],
 "metadata": {
  "kernelspec": {
   "display_name": "venv",
   "language": "python",
   "name": "python3"
  },
  "language_info": {
   "codemirror_mode": {
    "name": "ipython",
    "version": 3
   },
   "file_extension": ".py",
   "mimetype": "text/x-python",
   "name": "python",
   "nbconvert_exporter": "python",
   "pygments_lexer": "ipython3",
   "version": "3.12.3"
  }
 },
 "nbformat": 4,
 "nbformat_minor": 2
}
