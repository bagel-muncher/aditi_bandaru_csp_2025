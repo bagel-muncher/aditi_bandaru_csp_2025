{
 "cells": [
  {
   "cell_type": "raw",
   "metadata": {
    "vscode": {
     "languageId": "raw"
    }
   },
   "source": [
    "---\n",
    "toc: true\n",
    "layout: post\n",
    "title: 3.3 and 3.5 Hacks\n",
    "description: Homework for the Big Ideas 3.3 and 3.5 Lessons\n",
    "permalink: /sprint_2/lesson_homework/2024-10-11-33-35-hacks_IPYNB_2_\n",
    "categories: [GitHub Pages]\n",
    "type: ccc\n",
    "menu: nav/big_ideas_3_nav.html\n",
    "---"
   ]
  },
  {
   "cell_type": "markdown",
   "metadata": {},
   "source": [
    "# 3.3 Hacks"
   ]
  },
  {
   "cell_type": "markdown",
   "metadata": {},
   "source": [
    "## 3.3 popcorn hacks"
   ]
  },
  {
   "cell_type": "markdown",
   "metadata": {},
   "source": [
    "#1"
   ]
  },
  {
   "cell_type": "code",
   "execution_count": 13,
   "metadata": {},
   "outputs": [
    {
     "name": "stdout",
     "output_type": "stream",
     "text": [
      "57\n"
     ]
    }
   ],
   "source": [
    "x = int(input(\"What is the value of x?\" ))\n",
    "print(7 * (x+4) - 6)"
   ]
  },
  {
   "cell_type": "markdown",
   "metadata": {},
   "source": [
    "#2"
   ]
  },
  {
   "cell_type": "code",
   "execution_count": 14,
   "metadata": {},
   "outputs": [
    {
     "name": "stdout",
     "output_type": "stream",
     "text": [
      "86\n"
     ]
    }
   ],
   "source": [
    "#What will the code below print?\n",
    "number1 = 8\n",
    "number2 = 3\n",
    "number3 = number1 % number2\n",
    "number4 = number3 * number1 + 70\n",
    "\n",
    "#the code will print: (the remainder of 8/3 which is 2) multiplied by 8 and then add that product to 70.\n",
    "# (2*8) = 16\n",
    "# 16 + 70 = 86\n",
    "# the code will print 86\n",
    "\n",
    "print(number4)"
   ]
  },
  {
   "cell_type": "markdown",
   "metadata": {},
   "source": [
    "#3"
   ]
  },
  {
   "cell_type": "code",
   "execution_count": 16,
   "metadata": {},
   "outputs": [
    {
     "name": "stdout",
     "output_type": "stream",
     "text": [
      "The remainder when 17 is divided by 3 is 2\n",
      "9 is divisible by 3\n",
      "The remainder when 22 is divided by 3 is 1\n",
      "30 is divisible by 3\n"
     ]
    }
   ],
   "source": [
    "# Create a list of numbers that will all be tested for whether they are divisible by 3. \n",
    "# If they are divisible by 3 the output will say that the number is divisible by 3. \n",
    "# If they aren't divisible by 3 the output will be the remainder when the number is divided by 3.\n",
    "# List of numbers. Can be changed to include any number of integers.\n",
    "numbers = [17, 9, 22, 30]\n",
    "\n",
    "# For loop that will run through every number in the list of numbers.\n",
    "for num in numbers:\n",
    "    # Creates a variable which stores the modulus of each number when divided by 3.\n",
    "    remainder = num % 3\n",
    "    # Checks to see if the modulus is 0 meaning there is no remainder when divided.\n",
    "    if remainder == 0:\n",
    "        # Prints that the number is divisible if there is no remainder.\n",
    "        print(num, \"is divisible by 3\")\n",
    "    # Runs if the remainder is anything other than 0.\n",
    "    else:\n",
    "        # Prints that the remainder when divided by 3 is whatever the modulus was stored as.\n",
    "        print(\"The remainder when\", num, \"is divided by 3 is\", remainder)"
   ]
  },
  {
   "cell_type": "markdown",
   "metadata": {},
   "source": [
    "## 3.3 homework"
   ]
  },
  {
   "cell_type": "code",
   "execution_count": 11,
   "metadata": {},
   "outputs": [
    {
     "name": "stdout",
     "output_type": "stream",
     "text": [
      "Length = 5\n",
      "Area of the square = 25\n"
     ]
    }
   ],
   "source": [
    "#Input for formula of certain shapes\n",
    "import math\n",
    "shape = input(\"What shape formula and area do you want?: \")\n",
    "if shape == \"circle\":\n",
    "    radius = int(input(\"What is the value of your radius?: \"))\n",
    "    circle_area = math.pi * radius**2\n",
    "    print(\"Radius = \" + str(radius))\n",
    "    print(\"Area of the circle = \" + str(circle_area))\n",
    "elif shape == \"square\":\n",
    "    side_length = int(input(\"What is the value of your length?: \"))\n",
    "    square_area = side_length**2\n",
    "    print(\"Length = \" + str(side_length))\n",
    "    print(\"Area of the square = \" + str(square_area))\n",
    "elif shape == \"rectangle\":\n",
    "    length = int(input(\"What is the value of your length?: \"))\n",
    "    width = int(input(\"What is the value of your width?: \"))\n",
    "    rectangle_area = length * width\n",
    "    print(\"Length = \" + str(length))\n",
    "    print(\"Width = \" + str(width))\n",
    "    print(\"Area of the square = \" + str(rectangle_area))\n"
   ]
  },
  {
   "cell_type": "markdown",
   "metadata": {},
   "source": [
    "# 3.5 Hacks"
   ]
  },
  {
   "cell_type": "markdown",
   "metadata": {},
   "source": [
    "## 3.5 Popcorn Hacks"
   ]
  },
  {
   "cell_type": "markdown",
   "metadata": {},
   "source": [
    "#1"
   ]
  },
  {
   "cell_type": "code",
   "execution_count": 23,
   "metadata": {},
   "outputs": [
    {
     "name": "stdout",
     "output_type": "stream",
     "text": [
      "potato is false :(\n",
      "potato is true and tomato is false\n",
      "potato or tomato is true\n"
     ]
    }
   ],
   "source": [
    "#Create a program to check if a boolean is true. Create another to check if both are true or if either is true:\n",
    "tato = input(\"potato or tomato?: \")\n",
    "potato = True\n",
    "tomato = False\n",
    "\n",
    "if tato == potato:\n",
    "    print(\"potato is true:)\")\n",
    "else:\n",
    "    print(\"potato is false :(\")\n",
    "if potato and not tomato:\n",
    "    print(\"potato is true and tomato is false\")\n",
    "if potato or tomato:\n",
    "    print(\"potato or tomato is true\")\n",
    "\n",
    "# I entered tomato"
   ]
  },
  {
   "cell_type": "markdown",
   "metadata": {},
   "source": [
    "#2"
   ]
  },
  {
   "cell_type": "code",
   "execution_count": 20,
   "metadata": {},
   "outputs": [
    {
     "name": "stdout",
     "output_type": "stream",
     "text": [
      "The number is less than 10\n"
     ]
    }
   ],
   "source": [
    "number = int(input(\"Enter a number: \"))\n",
    "\n",
    "if number > 10:\n",
    "    print(\"The number is greater than 10\")\n",
    "else:\n",
    "    if number == 10:\n",
    "        print(\"The number is 10!\")\n",
    "    else:\n",
    "        if number < 10:\n",
    "            print(\"The number is less than 10\")\n",
    "\n",
    "#The number I entered is 9"
   ]
  },
  {
   "cell_type": "markdown",
   "metadata": {},
   "source": [
    "#3"
   ]
  },
  {
   "cell_type": "code",
   "execution_count": 25,
   "metadata": {},
   "outputs": [
    {
     "name": "stdout",
     "output_type": "stream",
     "text": [
      "99 is not three digits\n"
     ]
    }
   ],
   "source": [
    "number = int(input(\"Enter a number: \"))\n",
    "\n",
    "if number >= 100 and number <= 999:\n",
    "    print(\"The number is three digits!\")\n",
    "else:\n",
    "    print( str(number) + \" is not three digits\")\n",
    "\n",
    "#The number I entered is 99"
   ]
  },
  {
   "cell_type": "markdown",
   "metadata": {},
   "source": [
    "## 3.5 Homework"
   ]
  },
  {
   "cell_type": "code",
   "execution_count": 26,
   "metadata": {},
   "outputs": [
    {
     "name": "stdout",
     "output_type": "stream",
     "text": [
      "A\tB\tNOT (A AND B)\t(NOT A) OR (NOT B)\tNOT (A OR B)\t(NOT A) AND (NOT B)\n",
      "--------------------------------------------------------------------------\n",
      "True\tTrue\tFalse\t\tFalse\t\tFalse\t\tFalse\n",
      "True\tFalse\tTrue\t\tTrue\t\tFalse\t\tFalse\n",
      "False\tTrue\tTrue\t\tTrue\t\tFalse\t\tFalse\n",
      "False\tFalse\tTrue\t\tTrue\t\tTrue\t\tTrue\n"
     ]
    }
   ],
   "source": [
    "# Create a truth table and use De Morgan's Law\n",
    "def truth_table():\n",
    "    print(\"A\\tB\\tNOT (A AND B)\\t(NOT A) OR (NOT B)\\tNOT (A OR B)\\t(NOT A) AND (NOT B)\")\n",
    "    print(\"-\"*74)\n",
    "    \n",
    "    for A in [True, False]:\n",
    "        for B in [True, False]:\n",
    "            # De Morgan's Law 1: NOT (A AND B) == (NOT A) OR (NOT B)\n",
    "            not_and = not (A and B)\n",
    "            not_a_or_not_b = (not A) or (not B)\n",
    "            \n",
    "            # De Morgan's Law 2: NOT (A OR B) == (NOT A) AND (NOT B)\n",
    "            not_or = not (A or B)\n",
    "            not_a_and_not_b = (not A) and (not B)\n",
    "            \n",
    "            # Print results of both expressions for comparison\n",
    "            print(f\"{A}\\t{B}\\t{not_and}\\t\\t{not_a_or_not_b}\\t\\t{not_or}\\t\\t{not_a_and_not_b}\")\n",
    "\n",
    "# Call the function to print the truth table\n",
    "truth_table()\n"
   ]
  }
 ],
 "metadata": {
  "kernelspec": {
   "display_name": "venv",
   "language": "python",
   "name": "python3"
  },
  "language_info": {
   "codemirror_mode": {
    "name": "ipython",
    "version": 3
   },
   "file_extension": ".py",
   "mimetype": "text/x-python",
   "name": "python",
   "nbconvert_exporter": "python",
   "pygments_lexer": "ipython3",
   "version": "3.12.3"
  }
 },
 "nbformat": 4,
 "nbformat_minor": 2
}
