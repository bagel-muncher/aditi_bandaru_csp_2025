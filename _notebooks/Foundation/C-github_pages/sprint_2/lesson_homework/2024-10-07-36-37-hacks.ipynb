{
 "cells": [
  {
   "cell_type": "raw",
   "metadata": {
    "vscode": {
     "languageId": "raw"
    }
   },
   "source": [
    "---\n",
    "toc: true\n",
    "layout: post\n",
    "title: 3.6 and 3.7 Homework Hacks\n",
    "description: Homework for the Big Ideas 3.6 and 3.7 Lesson\n",
    "permalink: /sprint_2/lesson_homework/2024-10-07-36-37-hacks_IPYNB_2_\n",
    "categories: [GitHub Pages]\n",
    "type: ccc\n",
    "---"
   ]
  },
  {
   "cell_type": "markdown",
   "metadata": {},
   "source": [
    "# 3.6 and 3.7  Homework Hacks"
   ]
  },
  {
   "cell_type": "markdown",
   "metadata": {},
   "source": [
    "## 3.6 Homework Hack"
   ]
  },
  {
   "cell_type": "code",
   "execution_count": 12,
   "metadata": {},
   "outputs": [
    {
     "name": "stdout",
     "output_type": "stream",
     "text": [
      "Minor\n"
     ]
    }
   ],
   "source": [
    "age = input(\"age: \")\n",
    "age = 17\n",
    "if int(age) >= 18:\n",
    "    print(\"Adult\")\n",
    "else:\n",
    "    print(\"Minor\")\n"
   ]
  },
  {
   "cell_type": "code",
   "execution_count": 13,
   "metadata": {},
   "outputs": [
    {
     "name": "stdout",
     "output_type": "stream",
     "text": [
      "Adult\n"
     ]
    }
   ],
   "source": [
    "age = 18\n",
    "if int(age) >= 18:\n",
    "    print(\"Adult\")\n",
    "else:\n",
    "    print(\"Minor\")"
   ]
  },
  {
   "cell_type": "markdown",
   "metadata": {},
   "source": [
    "## 3.7 Homework Hack\n",
    "<ol>\n",
    "    <li>Write pseudocode to determine if a student passes a class based on their exam scores and attendance using nested conditionals.</li>\n",
    "    <li>Write a python segment to decide the shipping cost based on the weight of a package and the delivery speed chosen (standard or express) using nested conditionals.</li>\n",
    "    <li>Write a python segment to have different ticket prices for different ages, with a discount for students</li>\n",
    "</ol>"
   ]
  },
  {
   "cell_type": "markdown",
   "metadata": {},
   "source": [
    "hack #1"
   ]
  },
  {
   "cell_type": "code",
   "execution_count": null,
   "metadata": {},
   "outputs": [],
   "source": [
    "IF exam_score >= 75\n",
    "{\n",
    "    IF attendence >= 85\n",
    "    {\n",
    "        DISPLAY: \"Student passed the class based on passing the exam and sufficient class attendence.\"\n",
    "    }\n",
    "    ELSE {\n",
    "        DISPLAY: \"Student did not pass the class because of insufficient class attendence.\"\n",
    "    }\n",
    "}\n",
    "ELSE\n",
    "{\n",
    "    DISPLAY: \"Student did not pass the class because they did not pass the exam.\"\n",
    "} "
   ]
  },
  {
   "cell_type": "markdown",
   "metadata": {},
   "source": [
    "hack #2"
   ]
  },
  {
   "cell_type": "code",
   "execution_count": 17,
   "metadata": {},
   "outputs": [
    {
     "name": "stdout",
     "output_type": "stream",
     "text": [
      "The shipping cost will be free\n"
     ]
    }
   ],
   "source": [
    "package_weight = 50\n",
    "delivery = \"standard\"\n",
    "if package_weight >= 25:\n",
    "    if delivery == \"standard\":\n",
    "        print(\"The shipping cost will be free\")\n",
    "    else:\n",
    "        print(\"The shipping cost will be 5 dollars\")"
   ]
  },
  {
   "cell_type": "markdown",
   "metadata": {},
   "source": [
    "hack #3: ticket prices"
   ]
  },
  {
   "cell_type": "code",
   "execution_count": 18,
   "metadata": {},
   "outputs": [
    {
     "name": "stdout",
     "output_type": "stream",
     "text": [
      "Student ticket price = 13.50 dollars\n",
      "Students get a 20 percent discount! Price is now 10.80 dollars!\n"
     ]
    }
   ],
   "source": [
    "age = 16\n",
    "if age >= 60:\n",
    "    print(\"Senior ticket price = 13.50 dollars\")\n",
    "else:\n",
    "    if age >= 21:\n",
    "        print(\"Adult ticket price = 17.00 dollars\")\n",
    "    else:\n",
    "        if age >= 14:\n",
    "            print(\"Student ticket price = 13.50 dollars\")\n",
    "            print(\"Students get a 20 percent discount! Price is now 10.80 dollars!\")\n",
    "        else:\n",
    "            if age >= 5:\n",
    "                print(\"Child ticket price = 9.00 dollars\")\n",
    "            else:\n",
    "                if age >= 0:\n",
    "                    print(\"Baby/Toddler: Free\")"
   ]
  },
  {
   "cell_type": "code",
   "execution_count": 19,
   "metadata": {},
   "outputs": [
    {
     "name": "stdout",
     "output_type": "stream",
     "text": [
      "Child ticket price = 9.00 dollars\n"
     ]
    }
   ],
   "source": [
    "age = 5\n",
    "if age >= 60:\n",
    "    print(\"Senior ticket price = 13.50 dollars\")\n",
    "else:\n",
    "    if age >= 21:\n",
    "        print(\"Adult ticket price = 17.00 dollars\")\n",
    "    else:\n",
    "        if age >= 14:\n",
    "            print(\"Student ticket price = 13.50 dollars\")\n",
    "            print(\"Students get a 20 percent discount! Price is now 10.80 dollars!\")\n",
    "        else:\n",
    "            if age >= 5:\n",
    "                print(\"Child ticket price = 9.00 dollars\")\n",
    "            else:\n",
    "                if age >= 0:\n",
    "                    print(\"Baby/Toddler: Free\")"
   ]
  }
 ],
 "metadata": {
  "kernelspec": {
   "display_name": "venv",
   "language": "python",
   "name": "python3"
  },
  "language_info": {
   "codemirror_mode": {
    "name": "ipython",
    "version": 3
   },
   "file_extension": ".py",
   "mimetype": "text/x-python",
   "name": "python",
   "nbconvert_exporter": "python",
   "pygments_lexer": "ipython3",
   "version": "3.12.3"
  }
 },
 "nbformat": 4,
 "nbformat_minor": 2
}
